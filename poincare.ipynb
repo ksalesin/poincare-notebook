{
 "cells": [
  {
   "cell_type": "markdown",
   "metadata": {},
   "source": [
    "## Playground for Poincare sphere interactive plots\n",
    "#### For the project \"Representing Mueller Matrices as Geometric Transformations on the Poincare Sphere\"\n",
    "Kate Salesin, 12/4/20"
   ]
  },
  {
   "cell_type": "code",
   "execution_count": 14,
   "metadata": {},
   "outputs": [],
   "source": [
    "import math\n",
    "import numpy as np\n",
    "import numpy.linalg as la\n",
    "import plotly.offline as py\n",
    "import plotly.graph_objects as go\n",
    "from plotly.subplots import make_subplots\n",
    "from ipywidgets import widgets, interact\n",
    "\n",
    "from mueller import *"
   ]
  },
  {
   "cell_type": "code",
   "execution_count": 15,
   "metadata": {},
   "outputs": [],
   "source": [
    "def eval_stokes(M, s1, s2, s3):\n",
    "    n = s1.shape[0]\n",
    "    s1_ = np.zeros(n)\n",
    "    s2_ = np.zeros(n)\n",
    "    s3_ = np.zeros(n)\n",
    "    \n",
    "    for i in range(n):\n",
    "        S = np.array([[1.],[s1[i]],[s2[i]],[s3[i]]])\n",
    "        S_out = M @ S\n",
    "#         S_out /= la.norm(S_out)\n",
    "\n",
    "        s1_[i] = S_out[1]\n",
    "        s2_[i] = S_out[2]\n",
    "        s3_[i] = S_out[3]\n",
    "        \n",
    "    return (s1_, s2_, s3_)"
   ]
  },
  {
   "cell_type": "code",
   "execution_count": 16,
   "metadata": {},
   "outputs": [],
   "source": [
    "def poincare_mesh(mesh = True, boundary = True):\n",
    "    # Sphere grid\n",
    "    n = 20\n",
    "    U, V = np.meshgrid(np.linspace(0, math.pi, n), np.linspace(0, 2 * math.pi, n))\n",
    "\n",
    "    if boundary:\n",
    "        X = (np.cos(U) * np.sin(V)).flatten()\n",
    "        Y = (np.sin(U) * np.sin(V)).flatten()\n",
    "        Z = (np.cos(V)).flatten()\n",
    "        sz = Z.shape[0]\n",
    "    \n",
    "        sph = go.Scatter3d(\n",
    "            x = X, y = Y, z = Z,\n",
    "            mode = 'markers',\n",
    "            marker = dict(\n",
    "                size = 3,\n",
    "                color = Z,\n",
    "                colorscale = 'Viridis',\n",
    "                opacity = 0.5\n",
    "            )\n",
    "        )\n",
    "\n",
    "        viridis = np.array([[0.267004, 0.004874, 0.329415, 1.      ],\n",
    "                           [0.282623, 0.140926, 0.457517, 1.      ],\n",
    "                           [0.253935, 0.265254, 0.529983, 1.      ],\n",
    "                           [0.206756, 0.371758, 0.553117, 1.      ],\n",
    "                           [0.163625, 0.471133, 0.558148, 1.      ],\n",
    "                           [0.127568, 0.566949, 0.550556, 1.      ],\n",
    "                           [0.134692, 0.658636, 0.517649, 1.      ],\n",
    "                           [0.266941, 0.748751, 0.440573, 1.      ],\n",
    "                           [0.477504, 0.821444, 0.318195, 1.      ],\n",
    "                           [0.741388, 0.873449, 0.149561, 1.      ],\n",
    "                           [0.993248, 0.906157, 0.143936, 1.      ]])\n",
    "\n",
    "        vertexcolors = []\n",
    "\n",
    "        for i, z in enumerate(Z):\n",
    "            base = (z + 1) * 5\n",
    "            idx = min(int(base), 9)\n",
    "            t = base - idx\n",
    "\n",
    "            c0 = viridis[idx]\n",
    "            c1 = viridis[idx + 1]\n",
    "\n",
    "            col = (1-t) * c0 + t * c1\n",
    "            col *= 255\n",
    "\n",
    "            col_str = 'rgba(' + str(int(col[0])) + ',' + str(int(col[1])) + ',' + str(int(col[2])) + ',1)'\n",
    "            vertexcolors.append(col_str)\n",
    "\n",
    "        if mesh:\n",
    "            out = go.Mesh3d(\n",
    "                x = [], y = [], z = [],\n",
    "                alphahull = 0,\n",
    "                vertexcolor = vertexcolors,\n",
    "                opacity = 0.4,\n",
    "                flatshading = True\n",
    "            )\n",
    "        else:\n",
    "            out = go.Scatter3d(\n",
    "                x = [], y = [], z = [],\n",
    "                mode = 'lines',\n",
    "                line = dict(\n",
    "                    width = 5,\n",
    "                    color = 'rgba(255,255,0,0.8)'\n",
    "                )\n",
    "            )\n",
    "\n",
    "    else:\n",
    "        X = 0.5 * (np.cos(U) * np.sin(V)).flatten()\n",
    "        Y = 0.5 * (np.sin(U) * np.sin(V)).flatten()\n",
    "        Z = 0.5 * (np.cos(V)).flatten()\n",
    "        sz = Z.shape[0]\n",
    "\n",
    "        sph = go.Scatter3d(\n",
    "            x = X, y = Y, z = Z,\n",
    "            mode = 'markers',\n",
    "            marker = dict(\n",
    "                size = 3,\n",
    "                color = Z,\n",
    "                colorscale = 'Plotly3',\n",
    "                opacity = 0.5\n",
    "            )\n",
    "        )\n",
    "\n",
    "        plasma = np.array([[0.        , 1.        , 1.        , 1.        ],\n",
    "                           [0.09803922, 0.90196078, 1.        , 1.        ],\n",
    "                           [0.2       , 0.8       , 1.        , 1.        ],\n",
    "                           [0.29803922, 0.70196078, 1.        , 1.        ],\n",
    "                           [0.4       , 0.6       , 1.        , 1.        ],\n",
    "                           [0.50196078, 0.49803922, 1.        , 1.        ],\n",
    "                           [0.6       , 0.4       , 1.        , 1.        ],\n",
    "                           [0.70196078, 0.29803922, 1.        , 1.        ],\n",
    "                           [0.8       , 0.2       , 1.        , 1.        ],\n",
    "                           [0.90196078, 0.09803922, 1.        , 1.        ],\n",
    "                           [1.        , 0.        , 1.        , 1.        ]])\n",
    "\n",
    "        vertexcolors = []\n",
    "\n",
    "        for i, z in enumerate(Z):\n",
    "            base = (z + 1) * 5\n",
    "            idx = min(int(base), 9)\n",
    "            t = base - idx\n",
    "\n",
    "            c0 = plasma[idx]\n",
    "            c1 = plasma[idx + 1]\n",
    "\n",
    "            col = (1-t) * c0 + t * c1\n",
    "            col *= 255\n",
    "\n",
    "            col_str = 'rgba(' + str(int(col[0])) + ',' + str(int(col[1])) + ',' + str(int(col[2])) + ',1)'\n",
    "            vertexcolors.append(col_str)\n",
    "\n",
    "        if mesh:\n",
    "            out = go.Mesh3d(\n",
    "                x = [], y = [], z = [],\n",
    "                alphahull = 0,\n",
    "                vertexcolor = vertexcolors,\n",
    "                opacity = 0.4,\n",
    "                flatshading = True\n",
    "            )\n",
    "        else:\n",
    "            out = go.Scatter3d(\n",
    "                x = [], y = [], z = [],\n",
    "                mode = 'lines',\n",
    "                line = dict(\n",
    "                    width = 5,\n",
    "                    color = 'rgba(255,255,0,0.8)'\n",
    "                )\n",
    "            )\n",
    "\n",
    "    s1_ref = go.Scatter3d(\n",
    "        x = [0, 1], y = [0, 0], z = [0, 0],\n",
    "        mode = 'lines',\n",
    "        line = dict(\n",
    "            width = 5,\n",
    "            color = 'rgba(255,0,0,0.5)'\n",
    "        )\n",
    "    )\n",
    "\n",
    "    s2_ref = go.Scatter3d(\n",
    "        x = [0, 0], y = [0, 1], z = [0, 0],\n",
    "        mode = 'lines',\n",
    "        line = dict(\n",
    "            width = 5,\n",
    "            color = 'rgba(0,255,0,0.5)'\n",
    "        )\n",
    "    )\n",
    "\n",
    "    s3_ref = go.Scatter3d(\n",
    "        x = [0, 0], y = [0, 0], z = [0, 1],\n",
    "        mode = 'lines',\n",
    "        line = dict(\n",
    "            width = 5,\n",
    "            color = 'rgba(0,0,255,0.5)'\n",
    "        )\n",
    "    )\n",
    "\n",
    "    # Additional output variable\n",
    "    aov = go.Scatter3d(\n",
    "        x = [], y = [], z = [],\n",
    "        mode = 'lines',\n",
    "        line = dict(\n",
    "            width = 5,\n",
    "            color = 'rgba(255,0,255,0.8)'\n",
    "        )\n",
    "    )\n",
    "\n",
    "    scene_axis_layout = dict(\n",
    "        color='white',\n",
    "        backgroundcolor='rgba(0,0,0,0)',\n",
    "        gridcolor='rgba(0,0,0,0.1)'\n",
    "    )\n",
    "\n",
    "    layout = go.Layout(\n",
    "        paper_bgcolor='rgba(0,0,0,0)',\n",
    "        plot_bgcolor='rgba(0,0,0,0)',\n",
    "        margin=dict(l=0, r=0, b=0, t=0),\n",
    "        scene_xaxis = scene_axis_layout,\n",
    "        scene_yaxis = scene_axis_layout,\n",
    "        scene_zaxis = scene_axis_layout,\n",
    "        scene_xaxis_title = 's1',\n",
    "        scene_yaxis_title = 's2',\n",
    "        scene_zaxis_title = 's3',\n",
    "        showlegend=False\n",
    "    )\n",
    "\n",
    "    fig = go.FigureWidget(data=[sph, s1_ref, s2_ref, s3_ref, aov, out], layout=layout)\n",
    "\n",
    "    return (fig, X, Y, Z)"
   ]
  },
  {
   "cell_type": "code",
   "execution_count": 25,
   "metadata": {},
   "outputs": [
    {
     "data": {
      "application/vnd.jupyter.widget-view+json": {
       "model_id": "3a0234c4671c4073a398546b730f2379",
       "version_major": 2,
       "version_minor": 0
      },
      "text/plain": [
       "interactive(children=(FloatSlider(value=1.0, description='scale', layout=Layout(width='75%'), max=1.0, step=0.…"
      ]
     },
     "metadata": {},
     "output_type": "display_data"
    },
    {
     "data": {
      "application/vnd.jupyter.widget-view+json": {
       "model_id": "512e5de27ded4047bc5100fbed491366",
       "version_major": 2,
       "version_minor": 0
      },
      "text/plain": [
       "FigureWidget({\n",
       "    'data': [{'marker': {'color': array([1., 1., 1., ..., 1., 1., 1.]),\n",
       "                       …"
      ]
     },
     "metadata": {},
     "output_type": "display_data"
    }
   ],
   "source": [
    "fig, X, Y, Z = poincare_mesh(mesh=True, boundary=True)\n",
    "\n",
    "@interact\n",
    "def update(scale = widgets.FloatSlider(min = 0., max = 1., step = 0.01, value = 1., \n",
    "                                   layout = widgets.Layout(width = '75%'))):\n",
    "    Me = np.eye(4) * scale\n",
    "    print(Me)\n",
    "    \n",
    "    X_, Y_, Z_ = eval_stokes(Me, X, Y, Z)\n",
    "    \n",
    "    with fig.batch_update():\n",
    "        fig.data[-1].x = X_\n",
    "        fig.data[-1].y = Y_\n",
    "        fig.data[-1].z = Z_\n",
    "        \n",
    "fig"
   ]
  },
  {
   "cell_type": "markdown",
   "metadata": {},
   "source": [
    "### Guide to interactive figure:\n",
    "* Dots = input Stokes vectors\n",
    "* Mesh = output Stokes vectors\n",
    "* Red axis = $s_1$ axis (H/V linear polarization)\n",
    "* Green axis = $s_2$ axis (45/135 linear polarization)\n",
    "* Blue axis = $s_3$ axis (R/L circular polarization)\n",
    "\n",
    "Above plot: Mueller matrix producing output vectors"
   ]
  },
  {
   "cell_type": "code",
   "execution_count": 18,
   "metadata": {
    "scrolled": false
   },
   "outputs": [
    {
     "data": {
      "application/vnd.jupyter.widget-view+json": {
       "model_id": "7d572384eb1c4b098010c7d8f83de1e1",
       "version_major": 2,
       "version_minor": 0
      },
      "text/plain": [
       "interactive(children=(IntSlider(value=0, description='angle', layout=Layout(width='75%'), max=180), Output()),…"
      ]
     },
     "metadata": {},
     "output_type": "display_data"
    },
    {
     "data": {
      "application/vnd.jupyter.widget-view+json": {
       "model_id": "9a5c4d5b348c47a088eb105fa2e49fdc",
       "version_major": 2,
       "version_minor": 0
      },
      "text/plain": [
       "FigureWidget({\n",
       "    'data': [{'marker': {'color': array([1., 1., 1., ..., 1., 1., 1.]),\n",
       "                       …"
      ]
     },
     "metadata": {},
     "output_type": "display_data"
    }
   ],
   "source": [
    "fig, X, Y, Z = poincare_mesh(mesh=False, boundary=True)\n",
    "\n",
    "# fig.write_html(\"plots/fig1.html\", include_plotlyjs='directory')\n",
    "\n",
    "@interact\n",
    "def update(angle = widgets.IntSlider(min = 0, max = 180, step = 1, value = 0, \n",
    "                                   layout = widgets.Layout(width = '75%'))):\n",
    "    \n",
    "    Mt = polarizer_mueller(np.deg2rad(angle))\n",
    "    print(Mt)\n",
    "    \n",
    "    X_, Y_, Z_ = eval_stokes(Mt, X, Y, Z)\n",
    "    \n",
    "    with fig.batch_update():\n",
    "        fig.data[-1].x = X_\n",
    "        fig.data[-1].y = Y_\n",
    "        fig.data[-1].z = Z_\n",
    "        \n",
    "fig"
   ]
  },
  {
   "cell_type": "markdown",
   "metadata": {},
   "source": [
    "#### Fig. 1. A linear polarizer maps any input $\\vec{s}$ (outer sphere markers) to some point on the diattenuation vector $\\hat{D}$. The output values are all on the yellow line, which coincides with $\\hat{D}$."
   ]
  },
  {
   "cell_type": "code",
   "execution_count": 19,
   "metadata": {},
   "outputs": [
    {
     "data": {
      "application/vnd.jupyter.widget-view+json": {
       "model_id": "0623087767254600b46e6e1904d7679f",
       "version_major": 2,
       "version_minor": 0
      },
      "text/plain": [
       "interactive(children=(FloatSlider(value=0.5, description='D', layout=Layout(width='75%'), max=1.0, min=0.01, s…"
      ]
     },
     "metadata": {},
     "output_type": "display_data"
    },
    {
     "data": {
      "application/vnd.jupyter.widget-view+json": {
       "model_id": "c9e616883ef94dc69345a44b32f1cdb2",
       "version_major": 2,
       "version_minor": 0
      },
      "text/plain": [
       "FigureWidget({\n",
       "    'data': [{'marker': {'color': array([1., 1., 1., ..., 1., 1., 1.]),\n",
       "                       …"
      ]
     },
     "metadata": {},
     "output_type": "display_data"
    }
   ],
   "source": [
    "fig, X, Y, Z = poincare_mesh(mesh=True, boundary=True)\n",
    "\n",
    "@interact\n",
    "def update(D = widgets.FloatSlider(min = 0.01, max = 1., step = 0.005, value = 0.5, \n",
    "                                   layout = widgets.Layout(width = '75%')),\n",
    "           elevation = widgets.IntSlider(min = 0, max = 90, step = 1, value = 0, \n",
    "                                   layout = widgets.Layout(width = '75%')),\n",
    "           azimuth = widgets.IntSlider(min = 0, max = 360, step = 5, value = 60, \n",
    "                                   layout = widgets.Layout(width = '75%'))):\n",
    "    theta = math.pi / 2 - np.deg2rad(elevation)\n",
    "    phi = np.deg2rad(azimuth)\n",
    "    \n",
    "    x_ = D * math.sin(theta) * math.cos(phi)\n",
    "    y_ = D * math.sin(theta) * math.sin(phi)\n",
    "    z_ = D * math.cos(theta)\n",
    "    D_ = 1 - 0.5 * math.sqrt(D)\n",
    "    \n",
    "    Md = diattenuator_mueller(D_, *(D_ * np.array([x_, y_, z_])))\n",
    "    print(Md)\n",
    "    \n",
    "    X_, Y_, Z_ = eval_stokes(Md, X, Y, Z)\n",
    "    \n",
    "    with fig.batch_update():\n",
    "        fig.data[-1].x = X_\n",
    "        fig.data[-1].y = Y_\n",
    "        fig.data[-1].z = Z_\n",
    "        \n",
    "        fig.data[-2].x = [0, x_]\n",
    "        fig.data[-2].y = [0, y_]\n",
    "        fig.data[-2].z = [0, z_]\n",
    "        \n",
    "fig"
   ]
  },
  {
   "cell_type": "markdown",
   "metadata": {},
   "source": [
    "#### Figure 2. For the general case $0 < D < 1$, a diattenuator maps input $\\vec{s}$ somewhere on the plane spanned by $\\vec{s}$ and $\\hat{D}$."
   ]
  },
  {
   "cell_type": "code",
   "execution_count": 20,
   "metadata": {},
   "outputs": [
    {
     "data": {
      "application/vnd.jupyter.widget-view+json": {
       "model_id": "28a26c26b9c84c71b1542ee696024357",
       "version_major": 2,
       "version_minor": 0
      },
      "text/plain": [
       "interactive(children=(IntSlider(value=0, description='phase_shift', layout=Layout(width='75%'), max=180), IntS…"
      ]
     },
     "metadata": {},
     "output_type": "display_data"
    },
    {
     "data": {
      "application/vnd.jupyter.widget-view+json": {
       "model_id": "050898290e0043d0abc73bbf060e224e",
       "version_major": 2,
       "version_minor": 0
      },
      "text/plain": [
       "FigureWidget({\n",
       "    'data': [{'marker': {'color': array([1., 1., 1., ..., 1., 1., 1.]),\n",
       "                       …"
      ]
     },
     "metadata": {},
     "output_type": "display_data"
    }
   ],
   "source": [
    "fig, X, Y, Z = poincare_mesh(mesh=True, boundary=True)\n",
    "\n",
    "@interact\n",
    "def update(phase_shift = widgets.IntSlider(min = 0, max = 180, step = 1, value = 0, \n",
    "                                     layout = widgets.Layout(width = '75%')),\n",
    "           theta = widgets.IntSlider(min = 0, max = 180, step = 1, value = 0, \n",
    "                                     layout = widgets.Layout(width = '75%'),\n",
    "                                     description = 'rotation angle of waveplate')):\n",
    "    \n",
    "    Mr = waveplate_mueller(np.deg2rad(phase_shift), np.deg2rad(theta))\n",
    "    print(Mr)\n",
    "    \n",
    "    X_, Y_, Z_ = eval_stokes(Mr, X, Y, Z)\n",
    "    \n",
    "    with fig.batch_update():\n",
    "        fig.data[-1].x = X_\n",
    "        fig.data[-1].y = Y_\n",
    "        fig.data[-1].z = Z_\n",
    "        \n",
    "fig"
   ]
  },
  {
   "cell_type": "markdown",
   "metadata": {},
   "source": [
    "#### Figure 3. A waveplate is a simple axis-angle rotation. Notice when the phase shift = $90^{\\circ}$ (a quarter-wave plate), $45^{\\circ}$ linear polarization becomes right circular polarization, as we would expect."
   ]
  },
  {
   "cell_type": "code",
   "execution_count": 21,
   "metadata": {},
   "outputs": [
    {
     "data": {
      "application/vnd.jupyter.widget-view+json": {
       "model_id": "e81c8ea802234ce1aa81cf3443819acd",
       "version_major": 2,
       "version_minor": 0
      },
      "text/plain": [
       "interactive(children=(FloatSlider(value=1.0, description='alpha', layout=Layout(width='75%'), max=1.0, min=0.0…"
      ]
     },
     "metadata": {},
     "output_type": "display_data"
    },
    {
     "data": {
      "application/vnd.jupyter.widget-view+json": {
       "model_id": "151085d11b9d4c1d83c246d4d8c6bcaf",
       "version_major": 2,
       "version_minor": 0
      },
      "text/plain": [
       "FigureWidget({\n",
       "    'data': [{'marker': {'color': array([1., 1., 1., ..., 1., 1., 1.]),\n",
       "                       …"
      ]
     },
     "metadata": {},
     "output_type": "display_data"
    }
   ],
   "source": [
    "fig, X, Y, Z = poincare_mesh(mesh=True, boundary=True)\n",
    "\n",
    "@interact\n",
    "def update(alpha = widgets.FloatSlider(min = 0.01, max = 1, step = 0.01, value = 1, \n",
    "                                       layout = widgets.Layout(width = '75%')),\n",
    "           beta = widgets.FloatSlider(min = 0.01, max = 1, step = 0.01, value = 1, \n",
    "                                       layout = widgets.Layout(width = '75%')),\n",
    "           gamma = widgets.FloatSlider(min = 0.01, max = 1, step = 0.01, value = 1, \n",
    "                                       layout = widgets.Layout(width = '75%'))):\n",
    "    \n",
    "    Mt = depolarizer_mueller(alpha, beta, gamma)\n",
    "    print(Mt)\n",
    "    \n",
    "    X_, Y_, Z_ = eval_stokes(Mt, X, Y, Z)\n",
    "    \n",
    "    with fig.batch_update():\n",
    "        fig.data[-1].x = X_\n",
    "        fig.data[-1].y = Y_\n",
    "        fig.data[-1].z = Z_\n",
    "        \n",
    "fig"
   ]
  },
  {
   "cell_type": "markdown",
   "metadata": {},
   "source": [
    "#### Figure 4. A depolarizer acts as non-uniform scale along three orthogonal axes."
   ]
  },
  {
   "cell_type": "code",
   "execution_count": 22,
   "metadata": {},
   "outputs": [
    {
     "data": {
      "application/vnd.jupyter.widget-view+json": {
       "model_id": "5a6b1a2ca2df46ada9ced9f6c87d6354",
       "version_major": 2,
       "version_minor": 0
      },
      "text/plain": [
       "interactive(children=(FloatSlider(value=0.0, description='theta', layout=Layout(width='75%'), max=90.0, step=1…"
      ]
     },
     "metadata": {},
     "output_type": "display_data"
    },
    {
     "data": {
      "application/vnd.jupyter.widget-view+json": {
       "model_id": "791c2024c6144cd99500391c4e739153",
       "version_major": 2,
       "version_minor": 0
      },
      "text/plain": [
       "FigureWidget({\n",
       "    'data': [{'marker': {'color': array([1., 1., 1., ..., 1., 1., 1.]),\n",
       "                       …"
      ]
     },
     "metadata": {},
     "output_type": "display_data"
    }
   ],
   "source": [
    "fig, X, Y, Z = poincare_mesh(mesh=True, boundary=True)\n",
    "\n",
    "@interact\n",
    "def update(theta = widgets.FloatSlider(min = 0, max = 90, step = 1, value = 0, \n",
    "                                       layout = widgets.Layout(width = '75%')),\n",
    "           eta = widgets.FloatSlider(min = 1, max = 3, step = 0.01, value = 1.33, \n",
    "                                       layout = widgets.Layout(width = '75%'))):\n",
    "    \n",
    "    Mf = specular_transmission_mueller(math.cos(np.deg2rad(theta)), eta)\n",
    "    print(Mf)\n",
    "    \n",
    "    X_, Y_, Z_ = eval_stokes(Mf, X, Y, Z)\n",
    "    \n",
    "    with fig.batch_update():\n",
    "        fig.data[-1].x = X_\n",
    "        fig.data[-1].y = Y_\n",
    "        fig.data[-1].z = Z_\n",
    "        \n",
    "fig"
   ]
  },
  {
   "cell_type": "markdown",
   "metadata": {},
   "source": [
    "#### Figure 5. Specular transmission decreases as the angle of incidence increases."
   ]
  },
  {
   "cell_type": "code",
   "execution_count": 23,
   "metadata": {},
   "outputs": [
    {
     "data": {
      "application/vnd.jupyter.widget-view+json": {
       "model_id": "0879e9b59be943a6b5d560f3e0981a24",
       "version_major": 2,
       "version_minor": 0
      },
      "text/plain": [
       "interactive(children=(FloatSlider(value=0.0, description='theta', layout=Layout(width='75%'), max=90.0, step=1…"
      ]
     },
     "metadata": {},
     "output_type": "display_data"
    },
    {
     "data": {
      "application/vnd.jupyter.widget-view+json": {
       "model_id": "ed60d4ca136f450284d86e56a25c8ce3",
       "version_major": 2,
       "version_minor": 0
      },
      "text/plain": [
       "FigureWidget({\n",
       "    'data': [{'marker': {'color': array([1., 1., 1., ..., 1., 1., 1.]),\n",
       "                       …"
      ]
     },
     "metadata": {},
     "output_type": "display_data"
    }
   ],
   "source": [
    "fig, X, Y, Z = poincare_mesh(mesh=True, boundary=True)\n",
    "\n",
    "@interact\n",
    "def update(theta = widgets.FloatSlider(min = 0, max = 90, step = 1, value = 0, \n",
    "                                       layout = widgets.Layout(width = '75%')),\n",
    "           eta = widgets.FloatSlider(min = 1, max = 3, step = 0.01, value = 1.33, \n",
    "                                       layout = widgets.Layout(width = '75%'))):\n",
    "    \n",
    "    Mf = specular_reflection_mueller(math.cos(np.deg2rad(theta)), eta)\n",
    "    print(Mf)\n",
    "    \n",
    "    X_, Y_, Z_ = eval_stokes(Mf, X, Y, Z)\n",
    "    \n",
    "    with fig.batch_update():\n",
    "        fig.data[-1].x = X_\n",
    "        fig.data[-1].y = Y_\n",
    "        fig.data[-1].z = Z_\n",
    "        \n",
    "fig"
   ]
  },
  {
   "cell_type": "markdown",
   "metadata": {},
   "source": [
    "#### Figure 6. Specular reflection increases as the angle of incidence increases and creates an increasing amount of linear polarization toward Brewster's angle (around $\\theta = 53^{\\circ}$ with the default $\\eta$)."
   ]
  },
  {
   "cell_type": "code",
   "execution_count": null,
   "metadata": {},
   "outputs": [],
   "source": []
  }
 ],
 "metadata": {
  "kernelspec": {
   "display_name": "Python 3",
   "language": "python",
   "name": "python3"
  },
  "language_info": {
   "codemirror_mode": {
    "name": "ipython",
    "version": 3
   },
   "file_extension": ".py",
   "mimetype": "text/x-python",
   "name": "python",
   "nbconvert_exporter": "python",
   "pygments_lexer": "ipython3",
   "version": "3.8.3"
  },
  "widgets": {
   "application/vnd.jupyter.widget-state+json": {
    "state": {
     "02f7847c6b1e4bb5a2a5f2ba23e15c25": {
      "model_module": "@jupyter-widgets/output",
      "model_module_version": "1.0.0",
      "model_name": "OutputModel",
      "state": {
       "layout": "IPY_MODEL_0ed230f6e0f64a52b05b059ba8589eb2",
       "outputs": [
        {
         "name": "stdout",
         "output_type": "stream",
         "text": "[[1. 0. 0. 0.]\n [0. 1. 0. 0.]\n [0. 0. 1. 0.]\n [0. 0. 0. 1.]]\n"
        }
       ]
      }
     },
     "041270573e4442c996cca1dd1bb507e4": {
      "model_module": "@jupyter-widgets/base",
      "model_module_version": "1.2.0",
      "model_name": "LayoutModel",
      "state": {}
     },
     "049064e9943e482f901fafd51827aebb": {
      "model_module": "@jupyter-widgets/base",
      "model_module_version": "1.2.0",
      "model_name": "LayoutModel",
      "state": {
       "width": "75%"
      }
     },
     "07a5259758c94f568f4fd738ca975545": {
      "model_module": "@jupyter-widgets/controls",
      "model_module_version": "1.5.0",
      "model_name": "VBoxModel",
      "state": {
       "_dom_classes": [
        "widget-interact"
       ],
       "children": [
        "IPY_MODEL_e64ffc8444924389856a301b63db6189",
        "IPY_MODEL_52080c72b51f478387419129cb12885a"
       ],
       "layout": "IPY_MODEL_c9571487b7134427992a28d99eb0f68e"
      }
     },
     "0bbcf0f82adc4ebd9a6779e2cba7a039": {
      "model_module": "@jupyter-widgets/controls",
      "model_module_version": "1.5.0",
      "model_name": "SliderStyleModel",
      "state": {
       "description_width": ""
      }
     },
     "0ed230f6e0f64a52b05b059ba8589eb2": {
      "model_module": "@jupyter-widgets/base",
      "model_module_version": "1.2.0",
      "model_name": "LayoutModel",
      "state": {}
     },
     "0fb21e3ee2924795b791621a6eb841b1": {
      "model_module": "@jupyter-widgets/controls",
      "model_module_version": "1.5.0",
      "model_name": "VBoxModel",
      "state": {
       "_dom_classes": [
        "widget-interact"
       ],
       "children": [
        "IPY_MODEL_a21d1ca7276f43f4a8ec3c013fdee8b3",
        "IPY_MODEL_adf5a6daac49461bbc9ce67931ad1f8a",
        "IPY_MODEL_123fd77e0fc64896b5c47886c44701c7",
        "IPY_MODEL_02f7847c6b1e4bb5a2a5f2ba23e15c25"
       ],
       "layout": "IPY_MODEL_c6da01555c5e4e0a995fd41535006024"
      }
     },
     "0feba126051d439c9c21c0f892230935": {
      "model_module": "@jupyter-widgets/controls",
      "model_module_version": "1.5.0",
      "model_name": "FloatSliderModel",
      "state": {
       "description": "eta",
       "layout": "IPY_MODEL_d600509997334a068e47d3f136d862cc",
       "max": 3,
       "min": 1,
       "step": 0.01,
       "style": "IPY_MODEL_588be2c93d514913bd1230aaa4ef779e",
       "value": 1.33
      }
     },
     "123fd77e0fc64896b5c47886c44701c7": {
      "model_module": "@jupyter-widgets/controls",
      "model_module_version": "1.5.0",
      "model_name": "FloatSliderModel",
      "state": {
       "description": "gamma",
       "layout": "IPY_MODEL_049064e9943e482f901fafd51827aebb",
       "max": 1,
       "min": 0.01,
       "step": 0.01,
       "style": "IPY_MODEL_9c9c19ed9c5843a3b8b769cca0fee350",
       "value": 1
      }
     },
     "12c6c8bc67334aed913b788e8c505098": {
      "buffers": [
       {
        "data": "AAAAAAAA8D8AAAAAAADwPwAAAAAAAPA/AAAAAAAA8D8AAAAAAADwPwAAAAAAAPA/AAAAAAAA8D8AAAAAAADwPwAAAAAAAPA/AAAAAAAA8D8AAAAAAADwPwAAAAAAAPA/AAAAAAAA8D8AAAAAAADwPwAAAAAAAPA/AAAAAAAA8D8AAAAAAADwPwAAAAAAAPA/AAAAAAAA8D8AAAAAAADwP+EbI4UiRO4/4RsjhSJE7j/hGyOFIkTuP+EbI4UiRO4/4RsjhSJE7j/hGyOFIkTuP+EbI4UiRO4/4RsjhSJE7j/hGyOFIkTuP+EbI4UiRO4/4RsjhSJE7j/hGyOFIkTuP+EbI4UiRO4/4RsjhSJE7j/hGyOFIkTuP+EbI4UiRO4/4RsjhSJE7j/hGyOFIkTuP+EbI4UiRO4/4RsjhSJE7j8jzfmYo0DpPyPN+ZijQOk/I835mKNA6T8jzfmYo0DpPyPN+ZijQOk/I835mKNA6T8jzfmYo0DpPyPN+ZijQOk/I835mKNA6T8jzfmYo0DpPyPN+ZijQOk/I835mKNA6T8jzfmYo0DpPyPN+ZijQOk/I835mKNA6T8jzfmYo0DpPyPN+ZijQOk/I835mKNA6T8jzfmYo0DpPyPN+ZijQOk/ysh3bJmA4T/KyHdsmYDhP8rId2yZgOE/ysh3bJmA4T/KyHdsmYDhP8rId2yZgOE/ysh3bJmA4T/KyHdsmYDhP8rId2yZgOE/ysh3bJmA4T/KyHdsmYDhP8rId2yZgOE/ysh3bJmA4T/KyHdsmYDhP8rId2yZgOE/ysh3bJmA4T/KyHdsmYDhP8rId2yZgOE/ysh3bJmA4T/KyHdsmYDhP0HIdIURbM8/Qch0hRFszz9ByHSFEWzPP0HIdIURbM8/Qch0hRFszz9ByHSFEWzPP0HIdIURbM8/Qch0hRFszz9ByHSFEWzPP0HIdIURbM8/Qch0hRFszz9ByHSFEWzPP0HIdIURbM8/Qch0hRFszz9ByHSFEWzPP0HIdIURbM8/Qch0hRFszz9ByHSFEWzPP0HIdIURbM8/Qch0hRFszz/x9SCE6yO1v/H1IITrI7W/8fUghOsjtb/x9SCE6yO1v/H1IITrI7W/8fUghOsjtb/x9SCE6yO1v/H1IITrI7W/8fUghOsjtb/x9SCE6yO1v/H1IITrI7W/8fUghOsjtb/x9SCE6yO1v/H1IITrI7W/8fUghOsjtb/x9SCE6yO1v/H1IITrI7W/8fUghOsjtb/x9SCE6yO1v/H1IITrI7W/5pb1uWC12b/mlvW5YLXZv+aW9blgtdm/5pb1uWC12b/mlvW5YLXZv+aW9blgtdm/5pb1uWC12b/mlvW5YLXZv+aW9blgtdm/5pb1uWC12b/mlvW5YLXZv+aW9blgtdm/5pb1uWC12b/mlvW5YLXZv+aW9blgtdm/5pb1uWC12b/mlvW5YLXZv+aW9blgtdm/5pb1uWC12b/mlvW5YLXZv/0cCmdKrOW//RwKZ0qs5b/9HApnSqzlv/0cCmdKrOW//RwKZ0qs5b/9HApnSqzlv/0cCmdKrOW//RwKZ0qs5b/9HApnSqzlv/0cCmdKrOW//RwKZ0qs5b/9HApnSqzlv/0cCmdKrOW//RwKZ0qs5b/9HApnSqzlv/0cCmdKrOW//RwKZ0qs5b/9HApnSqzlv/0cCmdKrOW//RwKZ0qs5b/46eMipiTsv/jp4yKmJOy/+OnjIqYk7L/46eMipiTsv/jp4yKmJOy/+OnjIqYk7L/46eMipiTsv/jp4yKmJOy/+OnjIqYk7L/46eMipiTsv/jp4yKmJOy/+OnjIqYk7L/46eMipiTsv/jp4yKmJOy/+OnjIqYk7L/46eMipiTsv/jp4yKmJOy/+OnjIqYk7L/46eMipiTsv/jp4yKmJOy/svKElEWQ77+y8oSURZDvv7LyhJRFkO+/svKElEWQ77+y8oSURZDvv7LyhJRFkO+/svKElEWQ77+y8oSURZDvv7LyhJRFkO+/svKElEWQ77+y8oSURZDvv7LyhJRFkO+/svKElEWQ77+y8oSURZDvv7LyhJRFkO+/svKElEWQ77+y8oSURZDvv7LyhJRFkO+/svKElEWQ77+y8oSURZDvv7PyhJRFkO+/s/KElEWQ77+z8oSURZDvv7PyhJRFkO+/s/KElEWQ77+z8oSURZDvv7PyhJRFkO+/s/KElEWQ77+z8oSURZDvv7PyhJRFkO+/s/KElEWQ77+z8oSURZDvv7PyhJRFkO+/s/KElEWQ77+z8oSURZDvv7PyhJRFkO+/s/KElEWQ77+z8oSURZDvv7PyhJRFkO+/s/KElEWQ77/56eMipiTsv/np4yKmJOy/+enjIqYk7L/56eMipiTsv/np4yKmJOy/+enjIqYk7L/56eMipiTsv/np4yKmJOy/+enjIqYk7L/56eMipiTsv/np4yKmJOy/+enjIqYk7L/56eMipiTsv/np4yKmJOy/+enjIqYk7L/56eMipiTsv/np4yKmJOy/+enjIqYk7L/56eMipiTsv/np4yKmJOy/Ah0KZ0qs5b8CHQpnSqzlvwIdCmdKrOW/Ah0KZ0qs5b8CHQpnSqzlvwIdCmdKrOW/Ah0KZ0qs5b8CHQpnSqzlvwIdCmdKrOW/Ah0KZ0qs5b8CHQpnSqzlvwIdCmdKrOW/Ah0KZ0qs5b8CHQpnSqzlvwIdCmdKrOW/Ah0KZ0qs5b8CHQpnSqzlvwIdCmdKrOW/Ah0KZ0qs5b8CHQpnSqzlv/GW9blgtdm/8Zb1uWC12b/xlvW5YLXZv/GW9blgtdm/8Zb1uWC12b/xlvW5YLXZv/GW9blgtdm/8Zb1uWC12b/xlvW5YLXZv/GW9blgtdm/8Zb1uWC12b/xlvW5YLXZv/GW9blgtdm/8Zb1uWC12b/xlvW5YLXZv/GW9blgtdm/8Zb1uWC12b/xlvW5YLXZv/GW9blgtdm/8Zb1uWC12b8T9iCE6yO1vxP2IITrI7W/E/YghOsjtb8T9iCE6yO1vxP2IITrI7W/E/YghOsjtb8T9iCE6yO1vxP2IITrI7W/E/YghOsjtb8T9iCE6yO1vxP2IITrI7W/E/YghOsjtb8T9iCE6yO1vxP2IITrI7W/E/YghOsjtb8T9iCE6yO1vxP2IITrI7W/E/YghOsjtb8T9iCE6yO1vxP2IITrI7W/Mch0hRFszz8xyHSFEWzPPzHIdIURbM8/Mch0hRFszz8xyHSFEWzPPzHIdIURbM8/Mch0hRFszz8xyHSFEWzPPzHIdIURbM8/Mch0hRFszz8xyHSFEWzPPzHIdIURbM8/Mch0hRFszz8xyHSFEWzPPzHIdIURbM8/Mch0hRFszz8xyHSFEWzPPzHIdIURbM8/Mch0hRFszz8xyHSFEWzPP8fId2yZgOE/x8h3bJmA4T/HyHdsmYDhP8fId2yZgOE/x8h3bJmA4T/HyHdsmYDhP8fId2yZgOE/x8h3bJmA4T/HyHdsmYDhP8fId2yZgOE/x8h3bJmA4T/HyHdsmYDhP8fId2yZgOE/x8h3bJmA4T/HyHdsmYDhP8fId2yZgOE/x8h3bJmA4T/HyHdsmYDhP8fId2yZgOE/x8h3bJmA4T8hzfmYo0DpPyHN+ZijQOk/Ic35mKNA6T8hzfmYo0DpPyHN+ZijQOk/Ic35mKNA6T8hzfmYo0DpPyHN+ZijQOk/Ic35mKNA6T8hzfmYo0DpPyHN+ZijQOk/Ic35mKNA6T8hzfmYo0DpPyHN+ZijQOk/Ic35mKNA6T8hzfmYo0DpPyHN+ZijQOk/Ic35mKNA6T8hzfmYo0DpPyHN+ZijQOk/4RsjhSJE7j/hGyOFIkTuP+EbI4UiRO4/4RsjhSJE7j/hGyOFIkTuP+EbI4UiRO4/4RsjhSJE7j/hGyOFIkTuP+EbI4UiRO4/4RsjhSJE7j/hGyOFIkTuP+EbI4UiRO4/4RsjhSJE7j/hGyOFIkTuP+EbI4UiRO4/4RsjhSJE7j/hGyOFIkTuP+EbI4UiRO4/4RsjhSJE7j/hGyOFIkTuPwAAAAAAAPA/AAAAAAAA8D8AAAAAAADwPwAAAAAAAPA/AAAAAAAA8D8AAAAAAADwPwAAAAAAAPA/AAAAAAAA8D8AAAAAAADwPwAAAAAAAPA/AAAAAAAA8D8AAAAAAADwPwAAAAAAAPA/AAAAAAAA8D8AAAAAAADwPwAAAAAAAPA/AAAAAAAA8D8AAAAAAADwPwAAAAAAAPA/AAAAAAAA8D8=",
        "encoding": "base64",
        "path": [
         "_data",
         0,
         "marker",
         "color",
         "value"
        ]
       },
       {
        "data": "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",
        "encoding": "base64",
        "path": [
         "_data",
         0,
         "x",
         "value"
        ]
       },
       {
        "data": "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",
        "encoding": "base64",
        "path": [
         "_data",
         0,
         "y",
         "value"
        ]
       },
       {
        "data": "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",
        "encoding": "base64",
        "path": [
         "_data",
         0,
         "z",
         "value"
        ]
       },
       {
        "data": "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",
        "encoding": "base64",
        "path": [
         "_data",
         5,
         "x",
         "value"
        ]
       },
       {
        "data": "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",
        "encoding": "base64",
        "path": [
         "_data",
         5,
         "y",
         "value"
        ]
       },
       {
        "data": "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",
        "encoding": "base64",
        "path": [
         "_data",
         5,
         "z",
         "value"
        ]
       }
      ],
      "model_module": "plotlywidget",
      "model_module_version": "^4.13.0",
      "model_name": "FigureModel",
      "state": {
       "_config": {
        "plotlyServerURL": "https://plot.ly"
       },
       "_data": [
        {
         "marker": {
          "color": {
           "dtype": "float64",
           "shape": [
            400
           ],
           "value": {}
          },
          "colorscale": [
           [
            0,
            "#440154"
           ],
           [
            0.1111111111111111,
            "#482878"
           ],
           [
            0.2222222222222222,
            "#3e4989"
           ],
           [
            0.3333333333333333,
            "#31688e"
           ],
           [
            0.4444444444444444,
            "#26828e"
           ],
           [
            0.5555555555555556,
            "#1f9e89"
           ],
           [
            0.6666666666666666,
            "#35b779"
           ],
           [
            0.7777777777777778,
            "#6ece58"
           ],
           [
            0.8888888888888888,
            "#b5de2b"
           ],
           [
            1,
            "#fde725"
           ]
          ],
          "opacity": 0.5,
          "size": 3
         },
         "mode": "markers",
         "type": "scatter3d",
         "uid": "a44e13a5-5543-4b08-bc7d-126b53f19c7b",
         "x": {
          "dtype": "float64",
          "shape": [
           400
          ],
          "value": {}
         },
         "y": {
          "dtype": "float64",
          "shape": [
           400
          ],
          "value": {}
         },
         "z": {
          "dtype": "float64",
          "shape": [
           400
          ],
          "value": {}
         }
        },
        {
         "line": {
          "color": "rgba(255,0,0,0.5)",
          "width": 5
         },
         "mode": "lines",
         "type": "scatter3d",
         "uid": "8dcc887e-2d99-4134-9f1f-d38a0adbd034",
         "x": [
          0,
          1
         ],
         "y": [
          0,
          0
         ],
         "z": [
          0,
          0
         ]
        },
        {
         "line": {
          "color": "rgba(0,255,0,0.5)",
          "width": 5
         },
         "mode": "lines",
         "type": "scatter3d",
         "uid": "93efeccb-926a-459a-aa32-dfab7edd7f05",
         "x": [
          0,
          0
         ],
         "y": [
          0,
          1
         ],
         "z": [
          0,
          0
         ]
        },
        {
         "line": {
          "color": "rgba(0,0,255,0.5)",
          "width": 5
         },
         "mode": "lines",
         "type": "scatter3d",
         "uid": "6045bd72-414d-42b2-bec4-7ec9b743ced1",
         "x": [
          0,
          0
         ],
         "y": [
          0,
          0
         ],
         "z": [
          0,
          1
         ]
        },
        {
         "line": {
          "color": "rgba(255,0,255,0.8)",
          "width": 5
         },
         "mode": "lines",
         "type": "scatter3d",
         "uid": "2b2c9fb2-acff-4364-b8a6-bf98e400153a",
         "x": [],
         "y": [],
         "z": []
        },
        {
         "alphahull": 0,
         "flatshading": true,
         "opacity": 0.4,
         "type": "mesh3d",
         "uid": "2042e54c-6854-4dbb-a5df-f1d06880b7b6",
         "vertexcolor": [
          "rgba(253,231,36,1)",
          "rgba(253,231,36,1)",
          "rgba(253,231,36,1)",
          "rgba(253,231,36,1)",
          "rgba(253,231,36,1)",
          "rgba(253,231,36,1)",
          "rgba(253,231,36,1)",
          "rgba(253,231,36,1)",
          "rgba(253,231,36,1)",
          "rgba(253,231,36,1)",
          "rgba(253,231,36,1)",
          "rgba(253,231,36,1)",
          "rgba(253,231,36,1)",
          "rgba(253,231,36,1)",
          "rgba(253,231,36,1)",
          "rgba(253,231,36,1)",
          "rgba(253,231,36,1)",
          "rgba(253,231,36,1)",
          "rgba(253,231,36,1)",
          "rgba(253,231,36,1)",
          "rgba(235,228,37,1)",
          "rgba(235,228,37,1)",
          "rgba(235,228,37,1)",
          "rgba(235,228,37,1)",
          "rgba(235,228,37,1)",
          "rgba(235,228,37,1)",
          "rgba(235,228,37,1)",
          "rgba(235,228,37,1)",
          "rgba(235,228,37,1)",
          "rgba(235,228,37,1)",
          "rgba(235,228,37,1)",
          "rgba(235,228,37,1)",
          "rgba(235,228,37,1)",
          "rgba(235,228,37,1)",
          "rgba(235,228,37,1)",
          "rgba(235,228,37,1)",
          "rgba(235,228,37,1)",
          "rgba(235,228,37,1)",
          "rgba(235,228,37,1)",
          "rgba(235,228,37,1)",
          "rgba(185,222,40,1)",
          "rgba(185,222,40,1)",
          "rgba(185,222,40,1)",
          "rgba(185,222,40,1)",
          "rgba(185,222,40,1)",
          "rgba(185,222,40,1)",
          "rgba(185,222,40,1)",
          "rgba(185,222,40,1)",
          "rgba(185,222,40,1)",
          "rgba(185,222,40,1)",
          "rgba(185,222,40,1)",
          "rgba(185,222,40,1)",
          "rgba(185,222,40,1)",
          "rgba(185,222,40,1)",
          "rgba(185,222,40,1)",
          "rgba(185,222,40,1)",
          "rgba(185,222,40,1)",
          "rgba(185,222,40,1)",
          "rgba(185,222,40,1)",
          "rgba(185,222,40,1)",
          "rgba(107,204,89,1)",
          "rgba(107,204,89,1)",
          "rgba(107,204,89,1)",
          "rgba(107,204,89,1)",
          "rgba(107,204,89,1)",
          "rgba(107,204,89,1)",
          "rgba(107,204,89,1)",
          "rgba(107,204,89,1)",
          "rgba(107,204,89,1)",
          "rgba(107,204,89,1)",
          "rgba(107,204,89,1)",
          "rgba(107,204,89,1)",
          "rgba(107,204,89,1)",
          "rgba(107,204,89,1)",
          "rgba(107,204,89,1)",
          "rgba(107,204,89,1)",
          "rgba(107,204,89,1)",
          "rgba(107,204,89,1)",
          "rgba(107,204,89,1)",
          "rgba(107,204,89,1)",
          "rgba(42,173,127,1)",
          "rgba(42,173,127,1)",
          "rgba(42,173,127,1)",
          "rgba(42,173,127,1)",
          "rgba(42,173,127,1)",
          "rgba(42,173,127,1)",
          "rgba(42,173,127,1)",
          "rgba(42,173,127,1)",
          "rgba(42,173,127,1)",
          "rgba(42,173,127,1)",
          "rgba(42,173,127,1)",
          "rgba(42,173,127,1)",
          "rgba(42,173,127,1)",
          "rgba(42,173,127,1)",
          "rgba(42,173,127,1)",
          "rgba(42,173,127,1)",
          "rgba(42,173,127,1)",
          "rgba(42,173,127,1)",
          "rgba(42,173,127,1)",
          "rgba(42,173,127,1)",
          "rgba(36,134,141,1)",
          "rgba(36,134,141,1)",
          "rgba(36,134,141,1)",
          "rgba(36,134,141,1)",
          "rgba(36,134,141,1)",
          "rgba(36,134,141,1)",
          "rgba(36,134,141,1)",
          "rgba(36,134,141,1)",
          "rgba(36,134,141,1)",
          "rgba(36,134,141,1)",
          "rgba(36,134,141,1)",
          "rgba(36,134,141,1)",
          "rgba(36,134,141,1)",
          "rgba(36,134,141,1)",
          "rgba(36,134,141,1)",
          "rgba(36,134,141,1)",
          "rgba(36,134,141,1)",
          "rgba(36,134,141,1)",
          "rgba(36,134,141,1)",
          "rgba(36,134,141,1)",
          "rgba(52,94,140,1)",
          "rgba(52,94,140,1)",
          "rgba(52,94,140,1)",
          "rgba(52,94,140,1)",
          "rgba(52,94,140,1)",
          "rgba(52,94,140,1)",
          "rgba(52,94,140,1)",
          "rgba(52,94,140,1)",
          "rgba(52,94,140,1)",
          "rgba(52,94,140,1)",
          "rgba(52,94,140,1)",
          "rgba(52,94,140,1)",
          "rgba(52,94,140,1)",
          "rgba(52,94,140,1)",
          "rgba(52,94,140,1)",
          "rgba(52,94,140,1)",
          "rgba(52,94,140,1)",
          "rgba(52,94,140,1)",
          "rgba(52,94,140,1)",
          "rgba(52,94,140,1)",
          "rgba(67,55,128,1)",
          "rgba(67,55,128,1)",
          "rgba(67,55,128,1)",
          "rgba(67,55,128,1)",
          "rgba(67,55,128,1)",
          "rgba(67,55,128,1)",
          "rgba(67,55,128,1)",
          "rgba(67,55,128,1)",
          "rgba(67,55,128,1)",
          "rgba(67,55,128,1)",
          "rgba(67,55,128,1)",
          "rgba(67,55,128,1)",
          "rgba(67,55,128,1)",
          "rgba(67,55,128,1)",
          "rgba(67,55,128,1)",
          "rgba(67,55,128,1)",
          "rgba(67,55,128,1)",
          "rgba(67,55,128,1)",
          "rgba(67,55,128,1)",
          "rgba(67,55,128,1)",
          "rgba(70,22,103,1)",
          "rgba(70,22,103,1)",
          "rgba(70,22,103,1)",
          "rgba(70,22,103,1)",
          "rgba(70,22,103,1)",
          "rgba(70,22,103,1)",
          "rgba(70,22,103,1)",
          "rgba(70,22,103,1)",
          "rgba(70,22,103,1)",
          "rgba(70,22,103,1)",
          "rgba(70,22,103,1)",
          "rgba(70,22,103,1)",
          "rgba(70,22,103,1)",
          "rgba(70,22,103,1)",
          "rgba(70,22,103,1)",
          "rgba(70,22,103,1)",
          "rgba(70,22,103,1)",
          "rgba(70,22,103,1)",
          "rgba(70,22,103,1)",
          "rgba(70,22,103,1)",
          "rgba(68,3,86,1)",
          "rgba(68,3,86,1)",
          "rgba(68,3,86,1)",
          "rgba(68,3,86,1)",
          "rgba(68,3,86,1)",
          "rgba(68,3,86,1)",
          "rgba(68,3,86,1)",
          "rgba(68,3,86,1)",
          "rgba(68,3,86,1)",
          "rgba(68,3,86,1)",
          "rgba(68,3,86,1)",
          "rgba(68,3,86,1)",
          "rgba(68,3,86,1)",
          "rgba(68,3,86,1)",
          "rgba(68,3,86,1)",
          "rgba(68,3,86,1)",
          "rgba(68,3,86,1)",
          "rgba(68,3,86,1)",
          "rgba(68,3,86,1)",
          "rgba(68,3,86,1)",
          "rgba(68,3,86,1)",
          "rgba(68,3,86,1)",
          "rgba(68,3,86,1)",
          "rgba(68,3,86,1)",
          "rgba(68,3,86,1)",
          "rgba(68,3,86,1)",
          "rgba(68,3,86,1)",
          "rgba(68,3,86,1)",
          "rgba(68,3,86,1)",
          "rgba(68,3,86,1)",
          "rgba(68,3,86,1)",
          "rgba(68,3,86,1)",
          "rgba(68,3,86,1)",
          "rgba(68,3,86,1)",
          "rgba(68,3,86,1)",
          "rgba(68,3,86,1)",
          "rgba(68,3,86,1)",
          "rgba(68,3,86,1)",
          "rgba(68,3,86,1)",
          "rgba(68,3,86,1)",
          "rgba(70,22,103,1)",
          "rgba(70,22,103,1)",
          "rgba(70,22,103,1)",
          "rgba(70,22,103,1)",
          "rgba(70,22,103,1)",
          "rgba(70,22,103,1)",
          "rgba(70,22,103,1)",
          "rgba(70,22,103,1)",
          "rgba(70,22,103,1)",
          "rgba(70,22,103,1)",
          "rgba(70,22,103,1)",
          "rgba(70,22,103,1)",
          "rgba(70,22,103,1)",
          "rgba(70,22,103,1)",
          "rgba(70,22,103,1)",
          "rgba(70,22,103,1)",
          "rgba(70,22,103,1)",
          "rgba(70,22,103,1)",
          "rgba(70,22,103,1)",
          "rgba(70,22,103,1)",
          "rgba(67,55,128,1)",
          "rgba(67,55,128,1)",
          "rgba(67,55,128,1)",
          "rgba(67,55,128,1)",
          "rgba(67,55,128,1)",
          "rgba(67,55,128,1)",
          "rgba(67,55,128,1)",
          "rgba(67,55,128,1)",
          "rgba(67,55,128,1)",
          "rgba(67,55,128,1)",
          "rgba(67,55,128,1)",
          "rgba(67,55,128,1)",
          "rgba(67,55,128,1)",
          "rgba(67,55,128,1)",
          "rgba(67,55,128,1)",
          "rgba(67,55,128,1)",
          "rgba(67,55,128,1)",
          "rgba(67,55,128,1)",
          "rgba(67,55,128,1)",
          "rgba(67,55,128,1)",
          "rgba(52,94,140,1)",
          "rgba(52,94,140,1)",
          "rgba(52,94,140,1)",
          "rgba(52,94,140,1)",
          "rgba(52,94,140,1)",
          "rgba(52,94,140,1)",
          "rgba(52,94,140,1)",
          "rgba(52,94,140,1)",
          "rgba(52,94,140,1)",
          "rgba(52,94,140,1)",
          "rgba(52,94,140,1)",
          "rgba(52,94,140,1)",
          "rgba(52,94,140,1)",
          "rgba(52,94,140,1)",
          "rgba(52,94,140,1)",
          "rgba(52,94,140,1)",
          "rgba(52,94,140,1)",
          "rgba(52,94,140,1)",
          "rgba(52,94,140,1)",
          "rgba(52,94,140,1)",
          "rgba(36,134,141,1)",
          "rgba(36,134,141,1)",
          "rgba(36,134,141,1)",
          "rgba(36,134,141,1)",
          "rgba(36,134,141,1)",
          "rgba(36,134,141,1)",
          "rgba(36,134,141,1)",
          "rgba(36,134,141,1)",
          "rgba(36,134,141,1)",
          "rgba(36,134,141,1)",
          "rgba(36,134,141,1)",
          "rgba(36,134,141,1)",
          "rgba(36,134,141,1)",
          "rgba(36,134,141,1)",
          "rgba(36,134,141,1)",
          "rgba(36,134,141,1)",
          "rgba(36,134,141,1)",
          "rgba(36,134,141,1)",
          "rgba(36,134,141,1)",
          "rgba(36,134,141,1)",
          "rgba(42,173,127,1)",
          "rgba(42,173,127,1)",
          "rgba(42,173,127,1)",
          "rgba(42,173,127,1)",
          "rgba(42,173,127,1)",
          "rgba(42,173,127,1)",
          "rgba(42,173,127,1)",
          "rgba(42,173,127,1)",
          "rgba(42,173,127,1)",
          "rgba(42,173,127,1)",
          "rgba(42,173,127,1)",
          "rgba(42,173,127,1)",
          "rgba(42,173,127,1)",
          "rgba(42,173,127,1)",
          "rgba(42,173,127,1)",
          "rgba(42,173,127,1)",
          "rgba(42,173,127,1)",
          "rgba(42,173,127,1)",
          "rgba(42,173,127,1)",
          "rgba(42,173,127,1)",
          "rgba(107,204,89,1)",
          "rgba(107,204,89,1)",
          "rgba(107,204,89,1)",
          "rgba(107,204,89,1)",
          "rgba(107,204,89,1)",
          "rgba(107,204,89,1)",
          "rgba(107,204,89,1)",
          "rgba(107,204,89,1)",
          "rgba(107,204,89,1)",
          "rgba(107,204,89,1)",
          "rgba(107,204,89,1)",
          "rgba(107,204,89,1)",
          "rgba(107,204,89,1)",
          "rgba(107,204,89,1)",
          "rgba(107,204,89,1)",
          "rgba(107,204,89,1)",
          "rgba(107,204,89,1)",
          "rgba(107,204,89,1)",
          "rgba(107,204,89,1)",
          "rgba(107,204,89,1)",
          "rgba(185,222,40,1)",
          "rgba(185,222,40,1)",
          "rgba(185,222,40,1)",
          "rgba(185,222,40,1)",
          "rgba(185,222,40,1)",
          "rgba(185,222,40,1)",
          "rgba(185,222,40,1)",
          "rgba(185,222,40,1)",
          "rgba(185,222,40,1)",
          "rgba(185,222,40,1)",
          "rgba(185,222,40,1)",
          "rgba(185,222,40,1)",
          "rgba(185,222,40,1)",
          "rgba(185,222,40,1)",
          "rgba(185,222,40,1)",
          "rgba(185,222,40,1)",
          "rgba(185,222,40,1)",
          "rgba(185,222,40,1)",
          "rgba(185,222,40,1)",
          "rgba(185,222,40,1)",
          "rgba(235,228,37,1)",
          "rgba(235,228,37,1)",
          "rgba(235,228,37,1)",
          "rgba(235,228,37,1)",
          "rgba(235,228,37,1)",
          "rgba(235,228,37,1)",
          "rgba(235,228,37,1)",
          "rgba(235,228,37,1)",
          "rgba(235,228,37,1)",
          "rgba(235,228,37,1)",
          "rgba(235,228,37,1)",
          "rgba(235,228,37,1)",
          "rgba(235,228,37,1)",
          "rgba(235,228,37,1)",
          "rgba(235,228,37,1)",
          "rgba(235,228,37,1)",
          "rgba(235,228,37,1)",
          "rgba(235,228,37,1)",
          "rgba(235,228,37,1)",
          "rgba(235,228,37,1)",
          "rgba(253,231,36,1)",
          "rgba(253,231,36,1)",
          "rgba(253,231,36,1)",
          "rgba(253,231,36,1)",
          "rgba(253,231,36,1)",
          "rgba(253,231,36,1)",
          "rgba(253,231,36,1)",
          "rgba(253,231,36,1)",
          "rgba(253,231,36,1)",
          "rgba(253,231,36,1)",
          "rgba(253,231,36,1)",
          "rgba(253,231,36,1)",
          "rgba(253,231,36,1)",
          "rgba(253,231,36,1)",
          "rgba(253,231,36,1)",
          "rgba(253,231,36,1)",
          "rgba(253,231,36,1)",
          "rgba(253,231,36,1)",
          "rgba(253,231,36,1)",
          "rgba(253,231,36,1)"
         ],
         "x": {
          "dtype": "float64",
          "shape": [
           400
          ],
          "value": {}
         },
         "y": {
          "dtype": "float64",
          "shape": [
           400
          ],
          "value": {}
         },
         "z": {
          "dtype": "float64",
          "shape": [
           400
          ],
          "value": {}
         }
        }
       ],
       "_js2py_pointsCallback": {},
       "_js2py_relayout": {},
       "_js2py_restyle": {},
       "_js2py_update": {},
       "_last_layout_edit_id": 1,
       "_last_trace_edit_id": 1,
       "_layout": {
        "margin": {
         "b": 0,
         "l": 0,
         "r": 0,
         "t": 0
        },
        "scene": {
         "xaxis": {
          "color": "white",
          "title": {
           "text": "s1"
          }
         },
         "yaxis": {
          "color": "white",
          "title": {
           "text": "s2"
          }
         },
         "zaxis": {
          "color": "white",
          "title": {
           "text": "s3"
          }
         }
        },
        "showlegend": false,
        "template": {
         "data": {
          "bar": [
           {
            "error_x": {
             "color": "#2a3f5f"
            },
            "error_y": {
             "color": "#2a3f5f"
            },
            "marker": {
             "line": {
              "color": "#E5ECF6",
              "width": 0.5
             }
            },
            "type": "bar"
           }
          ],
          "barpolar": [
           {
            "marker": {
             "line": {
              "color": "#E5ECF6",
              "width": 0.5
             }
            },
            "type": "barpolar"
           }
          ],
          "carpet": [
           {
            "aaxis": {
             "endlinecolor": "#2a3f5f",
             "gridcolor": "white",
             "linecolor": "white",
             "minorgridcolor": "white",
             "startlinecolor": "#2a3f5f"
            },
            "baxis": {
             "endlinecolor": "#2a3f5f",
             "gridcolor": "white",
             "linecolor": "white",
             "minorgridcolor": "white",
             "startlinecolor": "#2a3f5f"
            },
            "type": "carpet"
           }
          ],
          "choropleth": [
           {
            "colorbar": {
             "outlinewidth": 0,
             "ticks": ""
            },
            "type": "choropleth"
           }
          ],
          "contour": [
           {
            "colorbar": {
             "outlinewidth": 0,
             "ticks": ""
            },
            "colorscale": [
             [
              0,
              "#0d0887"
             ],
             [
              0.1111111111111111,
              "#46039f"
             ],
             [
              0.2222222222222222,
              "#7201a8"
             ],
             [
              0.3333333333333333,
              "#9c179e"
             ],
             [
              0.4444444444444444,
              "#bd3786"
             ],
             [
              0.5555555555555556,
              "#d8576b"
             ],
             [
              0.6666666666666666,
              "#ed7953"
             ],
             [
              0.7777777777777778,
              "#fb9f3a"
             ],
             [
              0.8888888888888888,
              "#fdca26"
             ],
             [
              1,
              "#f0f921"
             ]
            ],
            "type": "contour"
           }
          ],
          "contourcarpet": [
           {
            "colorbar": {
             "outlinewidth": 0,
             "ticks": ""
            },
            "type": "contourcarpet"
           }
          ],
          "heatmap": [
           {
            "colorbar": {
             "outlinewidth": 0,
             "ticks": ""
            },
            "colorscale": [
             [
              0,
              "#0d0887"
             ],
             [
              0.1111111111111111,
              "#46039f"
             ],
             [
              0.2222222222222222,
              "#7201a8"
             ],
             [
              0.3333333333333333,
              "#9c179e"
             ],
             [
              0.4444444444444444,
              "#bd3786"
             ],
             [
              0.5555555555555556,
              "#d8576b"
             ],
             [
              0.6666666666666666,
              "#ed7953"
             ],
             [
              0.7777777777777778,
              "#fb9f3a"
             ],
             [
              0.8888888888888888,
              "#fdca26"
             ],
             [
              1,
              "#f0f921"
             ]
            ],
            "type": "heatmap"
           }
          ],
          "heatmapgl": [
           {
            "colorbar": {
             "outlinewidth": 0,
             "ticks": ""
            },
            "colorscale": [
             [
              0,
              "#0d0887"
             ],
             [
              0.1111111111111111,
              "#46039f"
             ],
             [
              0.2222222222222222,
              "#7201a8"
             ],
             [
              0.3333333333333333,
              "#9c179e"
             ],
             [
              0.4444444444444444,
              "#bd3786"
             ],
             [
              0.5555555555555556,
              "#d8576b"
             ],
             [
              0.6666666666666666,
              "#ed7953"
             ],
             [
              0.7777777777777778,
              "#fb9f3a"
             ],
             [
              0.8888888888888888,
              "#fdca26"
             ],
             [
              1,
              "#f0f921"
             ]
            ],
            "type": "heatmapgl"
           }
          ],
          "histogram": [
           {
            "marker": {
             "colorbar": {
              "outlinewidth": 0,
              "ticks": ""
             }
            },
            "type": "histogram"
           }
          ],
          "histogram2d": [
           {
            "colorbar": {
             "outlinewidth": 0,
             "ticks": ""
            },
            "colorscale": [
             [
              0,
              "#0d0887"
             ],
             [
              0.1111111111111111,
              "#46039f"
             ],
             [
              0.2222222222222222,
              "#7201a8"
             ],
             [
              0.3333333333333333,
              "#9c179e"
             ],
             [
              0.4444444444444444,
              "#bd3786"
             ],
             [
              0.5555555555555556,
              "#d8576b"
             ],
             [
              0.6666666666666666,
              "#ed7953"
             ],
             [
              0.7777777777777778,
              "#fb9f3a"
             ],
             [
              0.8888888888888888,
              "#fdca26"
             ],
             [
              1,
              "#f0f921"
             ]
            ],
            "type": "histogram2d"
           }
          ],
          "histogram2dcontour": [
           {
            "colorbar": {
             "outlinewidth": 0,
             "ticks": ""
            },
            "colorscale": [
             [
              0,
              "#0d0887"
             ],
             [
              0.1111111111111111,
              "#46039f"
             ],
             [
              0.2222222222222222,
              "#7201a8"
             ],
             [
              0.3333333333333333,
              "#9c179e"
             ],
             [
              0.4444444444444444,
              "#bd3786"
             ],
             [
              0.5555555555555556,
              "#d8576b"
             ],
             [
              0.6666666666666666,
              "#ed7953"
             ],
             [
              0.7777777777777778,
              "#fb9f3a"
             ],
             [
              0.8888888888888888,
              "#fdca26"
             ],
             [
              1,
              "#f0f921"
             ]
            ],
            "type": "histogram2dcontour"
           }
          ],
          "mesh3d": [
           {
            "colorbar": {
             "outlinewidth": 0,
             "ticks": ""
            },
            "type": "mesh3d"
           }
          ],
          "parcoords": [
           {
            "line": {
             "colorbar": {
              "outlinewidth": 0,
              "ticks": ""
             }
            },
            "type": "parcoords"
           }
          ],
          "pie": [
           {
            "automargin": true,
            "type": "pie"
           }
          ],
          "scatter": [
           {
            "marker": {
             "colorbar": {
              "outlinewidth": 0,
              "ticks": ""
             }
            },
            "type": "scatter"
           }
          ],
          "scatter3d": [
           {
            "line": {
             "colorbar": {
              "outlinewidth": 0,
              "ticks": ""
             }
            },
            "marker": {
             "colorbar": {
              "outlinewidth": 0,
              "ticks": ""
             }
            },
            "type": "scatter3d"
           }
          ],
          "scattercarpet": [
           {
            "marker": {
             "colorbar": {
              "outlinewidth": 0,
              "ticks": ""
             }
            },
            "type": "scattercarpet"
           }
          ],
          "scattergeo": [
           {
            "marker": {
             "colorbar": {
              "outlinewidth": 0,
              "ticks": ""
             }
            },
            "type": "scattergeo"
           }
          ],
          "scattergl": [
           {
            "marker": {
             "colorbar": {
              "outlinewidth": 0,
              "ticks": ""
             }
            },
            "type": "scattergl"
           }
          ],
          "scattermapbox": [
           {
            "marker": {
             "colorbar": {
              "outlinewidth": 0,
              "ticks": ""
             }
            },
            "type": "scattermapbox"
           }
          ],
          "scatterpolar": [
           {
            "marker": {
             "colorbar": {
              "outlinewidth": 0,
              "ticks": ""
             }
            },
            "type": "scatterpolar"
           }
          ],
          "scatterpolargl": [
           {
            "marker": {
             "colorbar": {
              "outlinewidth": 0,
              "ticks": ""
             }
            },
            "type": "scatterpolargl"
           }
          ],
          "scatterternary": [
           {
            "marker": {
             "colorbar": {
              "outlinewidth": 0,
              "ticks": ""
             }
            },
            "type": "scatterternary"
           }
          ],
          "surface": [
           {
            "colorbar": {
             "outlinewidth": 0,
             "ticks": ""
            },
            "colorscale": [
             [
              0,
              "#0d0887"
             ],
             [
              0.1111111111111111,
              "#46039f"
             ],
             [
              0.2222222222222222,
              "#7201a8"
             ],
             [
              0.3333333333333333,
              "#9c179e"
             ],
             [
              0.4444444444444444,
              "#bd3786"
             ],
             [
              0.5555555555555556,
              "#d8576b"
             ],
             [
              0.6666666666666666,
              "#ed7953"
             ],
             [
              0.7777777777777778,
              "#fb9f3a"
             ],
             [
              0.8888888888888888,
              "#fdca26"
             ],
             [
              1,
              "#f0f921"
             ]
            ],
            "type": "surface"
           }
          ],
          "table": [
           {
            "cells": {
             "fill": {
              "color": "#EBF0F8"
             },
             "line": {
              "color": "white"
             }
            },
            "header": {
             "fill": {
              "color": "#C8D4E3"
             },
             "line": {
              "color": "white"
             }
            },
            "type": "table"
           }
          ]
         },
         "layout": {
          "annotationdefaults": {
           "arrowcolor": "#2a3f5f",
           "arrowhead": 0,
           "arrowwidth": 1
          },
          "coloraxis": {
           "colorbar": {
            "outlinewidth": 0,
            "ticks": ""
           }
          },
          "colorscale": {
           "diverging": [
            [
             0,
             "#8e0152"
            ],
            [
             0.1,
             "#c51b7d"
            ],
            [
             0.2,
             "#de77ae"
            ],
            [
             0.3,
             "#f1b6da"
            ],
            [
             0.4,
             "#fde0ef"
            ],
            [
             0.5,
             "#f7f7f7"
            ],
            [
             0.6,
             "#e6f5d0"
            ],
            [
             0.7,
             "#b8e186"
            ],
            [
             0.8,
             "#7fbc41"
            ],
            [
             0.9,
             "#4d9221"
            ],
            [
             1,
             "#276419"
            ]
           ],
           "sequential": [
            [
             0,
             "#0d0887"
            ],
            [
             0.1111111111111111,
             "#46039f"
            ],
            [
             0.2222222222222222,
             "#7201a8"
            ],
            [
             0.3333333333333333,
             "#9c179e"
            ],
            [
             0.4444444444444444,
             "#bd3786"
            ],
            [
             0.5555555555555556,
             "#d8576b"
            ],
            [
             0.6666666666666666,
             "#ed7953"
            ],
            [
             0.7777777777777778,
             "#fb9f3a"
            ],
            [
             0.8888888888888888,
             "#fdca26"
            ],
            [
             1,
             "#f0f921"
            ]
           ],
           "sequentialminus": [
            [
             0,
             "#0d0887"
            ],
            [
             0.1111111111111111,
             "#46039f"
            ],
            [
             0.2222222222222222,
             "#7201a8"
            ],
            [
             0.3333333333333333,
             "#9c179e"
            ],
            [
             0.4444444444444444,
             "#bd3786"
            ],
            [
             0.5555555555555556,
             "#d8576b"
            ],
            [
             0.6666666666666666,
             "#ed7953"
            ],
            [
             0.7777777777777778,
             "#fb9f3a"
            ],
            [
             0.8888888888888888,
             "#fdca26"
            ],
            [
             1,
             "#f0f921"
            ]
           ]
          },
          "colorway": [
           "#636efa",
           "#EF553B",
           "#00cc96",
           "#ab63fa",
           "#FFA15A",
           "#19d3f3",
           "#FF6692",
           "#B6E880",
           "#FF97FF",
           "#FECB52"
          ],
          "font": {
           "color": "#2a3f5f"
          },
          "geo": {
           "bgcolor": "white",
           "lakecolor": "white",
           "landcolor": "#E5ECF6",
           "showlakes": true,
           "showland": true,
           "subunitcolor": "white"
          },
          "hoverlabel": {
           "align": "left"
          },
          "hovermode": "closest",
          "mapbox": {
           "style": "light"
          },
          "paper_bgcolor": "white",
          "plot_bgcolor": "#E5ECF6",
          "polar": {
           "angularaxis": {
            "gridcolor": "white",
            "linecolor": "white",
            "ticks": ""
           },
           "bgcolor": "#E5ECF6",
           "radialaxis": {
            "gridcolor": "white",
            "linecolor": "white",
            "ticks": ""
           }
          },
          "scene": {
           "xaxis": {
            "backgroundcolor": "#E5ECF6",
            "gridcolor": "white",
            "gridwidth": 2,
            "linecolor": "white",
            "showbackground": true,
            "ticks": "",
            "zerolinecolor": "white"
           },
           "yaxis": {
            "backgroundcolor": "#E5ECF6",
            "gridcolor": "white",
            "gridwidth": 2,
            "linecolor": "white",
            "showbackground": true,
            "ticks": "",
            "zerolinecolor": "white"
           },
           "zaxis": {
            "backgroundcolor": "#E5ECF6",
            "gridcolor": "white",
            "gridwidth": 2,
            "linecolor": "white",
            "showbackground": true,
            "ticks": "",
            "zerolinecolor": "white"
           }
          },
          "shapedefaults": {
           "line": {
            "color": "#2a3f5f"
           }
          },
          "ternary": {
           "aaxis": {
            "gridcolor": "white",
            "linecolor": "white",
            "ticks": ""
           },
           "baxis": {
            "gridcolor": "white",
            "linecolor": "white",
            "ticks": ""
           },
           "bgcolor": "#E5ECF6",
           "caxis": {
            "gridcolor": "white",
            "linecolor": "white",
            "ticks": ""
           }
          },
          "title": {
           "x": 0.05
          },
          "xaxis": {
           "automargin": true,
           "gridcolor": "white",
           "linecolor": "white",
           "ticks": "",
           "title": {
            "standoff": 15
           },
           "zerolinecolor": "white",
           "zerolinewidth": 2
          },
          "yaxis": {
           "automargin": true,
           "gridcolor": "white",
           "linecolor": "white",
           "ticks": "",
           "title": {
            "standoff": 15
           },
           "zerolinecolor": "white",
           "zerolinewidth": 2
          }
         }
        }
       },
       "_py2js_addTraces": {},
       "_py2js_animate": {},
       "_py2js_deleteTraces": {},
       "_py2js_moveTraces": {},
       "_py2js_removeTraceProps": {},
       "_py2js_restyle": {},
       "_view_count": 1
      }
     },
     "14d996c1a7cb4db2b90eb9d7af39f495": {
      "model_module": "@jupyter-widgets/output",
      "model_module_version": "1.0.0",
      "model_name": "OutputModel",
      "state": {
       "layout": "IPY_MODEL_e9dbb5c166c54e4baf312f19a2c3255a",
       "outputs": [
        {
         "name": "stdout",
         "output_type": "stream",
         "text": "[[0.5 0.5 0.  0. ]\n [0.5 0.5 0.  0. ]\n [0.  0.  0.  0. ]\n [0.  0.  0.  0. ]]\n"
        }
       ]
      }
     },
     "1b255b95c0c748619d575d9752e006ae": {
      "model_module": "@jupyter-widgets/base",
      "model_module_version": "1.2.0",
      "model_name": "LayoutModel",
      "state": {}
     },
     "1ee31372bf3748f4b03911bb943d7fb9": {
      "model_module": "@jupyter-widgets/controls",
      "model_module_version": "1.5.0",
      "model_name": "VBoxModel",
      "state": {
       "_dom_classes": [
        "widget-interact"
       ],
       "children": [
        "IPY_MODEL_b824473ebd424888bef8c21113b7a278",
        "IPY_MODEL_aa877b05d165488c8f361cd43c3814ea",
        "IPY_MODEL_848cc6b85f274b4ab90158d6be30180d",
        "IPY_MODEL_9f2d774994904a1196f758d921590741"
       ],
       "layout": "IPY_MODEL_1b255b95c0c748619d575d9752e006ae"
      }
     },
     "209e2d498a784db3bf994a01994eb25c": {
      "model_module": "@jupyter-widgets/base",
      "model_module_version": "1.2.0",
      "model_name": "LayoutModel",
      "state": {
       "width": "75%"
      }
     },
     "2c208800f2b54e1dbd1f32c506236bbc": {
      "model_module": "@jupyter-widgets/controls",
      "model_module_version": "1.5.0",
      "model_name": "FloatSliderModel",
      "state": {
       "description": "theta",
       "layout": "IPY_MODEL_ff94f00a308546d194c342cf3455290f",
       "max": 90,
       "style": "IPY_MODEL_e8c889d005c845d881e8a4f181f9617d"
      }
     },
     "2de40eb8fd3849ef9acbc78c6803a79c": {
      "model_module": "@jupyter-widgets/base",
      "model_module_version": "1.2.0",
      "model_name": "LayoutModel",
      "state": {
       "width": "75%"
      }
     },
     "3012fdcb68ca4f5eafd5f78ce6a82402": {
      "model_module": "@jupyter-widgets/base",
      "model_module_version": "1.2.0",
      "model_name": "LayoutModel",
      "state": {}
     },
     "36bf9d148d9f43dfa593cf76202c0f33": {
      "model_module": "@jupyter-widgets/controls",
      "model_module_version": "1.5.0",
      "model_name": "FloatSliderModel",
      "state": {
       "description": "theta",
       "layout": "IPY_MODEL_ca9af44f14d7474488f21414e5aae4a4",
       "max": 90,
       "style": "IPY_MODEL_ea528f3362924ceaa28005da9505b792"
      }
     },
     "402e17def7c1450c952fbd9d6879c679": {
      "model_module": "@jupyter-widgets/controls",
      "model_module_version": "1.5.0",
      "model_name": "SliderStyleModel",
      "state": {
       "description_width": ""
      }
     },
     "448f349e2d0542c0a80b3cf604a75166": {
      "model_module": "@jupyter-widgets/controls",
      "model_module_version": "1.5.0",
      "model_name": "SliderStyleModel",
      "state": {
       "description_width": ""
      }
     },
     "45e77058c0264e4ab1adb613f6b44b36": {
      "model_module": "@jupyter-widgets/controls",
      "model_module_version": "1.5.0",
      "model_name": "VBoxModel",
      "state": {
       "_dom_classes": [
        "widget-interact"
       ],
       "children": [
        "IPY_MODEL_b03c656305454dd79835247972d9e746",
        "IPY_MODEL_98cd460acb3c4485971fca4473e69542",
        "IPY_MODEL_c24c374dfede4b039fd6d00a2168ba82"
       ],
       "layout": "IPY_MODEL_b019b97529b44371bb3c578660ea3fd6"
      }
     },
     "49f90d4fd8ae4fafa8850d1cd03406ad": {
      "model_module": "@jupyter-widgets/base",
      "model_module_version": "1.2.0",
      "model_name": "LayoutModel",
      "state": {
       "width": "75%"
      }
     },
     "5008bd7f49d5449398cee50e00eb4b1b": {
      "model_module": "@jupyter-widgets/base",
      "model_module_version": "1.2.0",
      "model_name": "LayoutModel",
      "state": {
       "width": "75%"
      }
     },
     "52080c72b51f478387419129cb12885a": {
      "model_module": "@jupyter-widgets/output",
      "model_module_version": "1.0.0",
      "model_name": "OutputModel",
      "state": {
       "layout": "IPY_MODEL_e0b4e6ab270c4012b8bb11e4b8d3a06d",
       "outputs": [
        {
         "name": "stdout",
         "output_type": "stream",
         "text": "[[1. 0. 0. 0.]\n [0. 1. 0. 0.]\n [0. 0. 1. 0.]\n [0. 0. 0. 1.]]\n"
        }
       ]
      }
     },
     "56cfdcdcbd654c2d86b77a169f926f65": {
      "model_module": "@jupyter-widgets/controls",
      "model_module_version": "1.5.0",
      "model_name": "SliderStyleModel",
      "state": {
       "description_width": ""
      }
     },
     "577ae3704ca143dfa132de9c3b8ff8f9": {
      "model_module": "@jupyter-widgets/base",
      "model_module_version": "1.2.0",
      "model_name": "LayoutModel",
      "state": {}
     },
     "588be2c93d514913bd1230aaa4ef779e": {
      "model_module": "@jupyter-widgets/controls",
      "model_module_version": "1.5.0",
      "model_name": "SliderStyleModel",
      "state": {
       "description_width": ""
      }
     },
     "58eb2a21f5484ed1ba10b4c772aaa2cf": {
      "model_module": "@jupyter-widgets/controls",
      "model_module_version": "1.5.0",
      "model_name": "IntSliderModel",
      "state": {
       "description": "angle",
       "layout": "IPY_MODEL_c69570c12ef94c0688c70ea10958b830",
       "max": 180,
       "style": "IPY_MODEL_9d84f51800ea47f6bbcb6f7ac2b0e387"
      }
     },
     "5d0fbf1b5334431db69171cd503a3d59": {
      "model_module": "@jupyter-widgets/controls",
      "model_module_version": "1.5.0",
      "model_name": "SliderStyleModel",
      "state": {
       "description_width": ""
      }
     },
     "5d329fda609d44e19b485c60d44c57be": {
      "model_module": "@jupyter-widgets/base",
      "model_module_version": "1.2.0",
      "model_name": "LayoutModel",
      "state": {}
     },
     "5e5eebaad56a411eb10c25752dfae9a0": {
      "model_module": "@jupyter-widgets/base",
      "model_module_version": "1.2.0",
      "model_name": "LayoutModel",
      "state": {}
     },
     "604c7027744743a9ac12518692d2f4b1": {
      "model_module": "@jupyter-widgets/controls",
      "model_module_version": "1.5.0",
      "model_name": "FloatSliderModel",
      "state": {
       "description": "eta",
       "layout": "IPY_MODEL_49f90d4fd8ae4fafa8850d1cd03406ad",
       "max": 3,
       "min": 1,
       "step": 0.01,
       "style": "IPY_MODEL_0bbcf0f82adc4ebd9a6779e2cba7a039",
       "value": 1.33
      }
     },
     "6597802c33854585aef479a2cdb1d2c7": {
      "buffers": [
       {
        "data": "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",
        "encoding": "base64",
        "path": [
         "_data",
         0,
         "marker",
         "color",
         "value"
        ]
       },
       {
        "data": "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",
        "encoding": "base64",
        "path": [
         "_data",
         0,
         "x",
         "value"
        ]
       },
       {
        "data": "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",
        "encoding": "base64",
        "path": [
         "_data",
         0,
         "y",
         "value"
        ]
       },
       {
        "data": "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",
        "encoding": "base64",
        "path": [
         "_data",
         0,
         "z",
         "value"
        ]
       },
       {
        "data": "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",
        "encoding": "base64",
        "path": [
         "_data",
         5,
         "x",
         "value"
        ]
       },
       {
        "data": "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",
        "encoding": "base64",
        "path": [
         "_data",
         5,
         "y",
         "value"
        ]
       },
       {
        "data": "E7xT3jPq4T8TvFPeM+rhPxO8U94z6uE/E7xT3jPq4T8TvFPeM+rhPxO8U94z6uE/E7xT3jPq4T8TvFPeM+rhPxO8U94z6uE/E7xT3jPq4T8TvFPeM+rhPxO8U94z6uE/E7xT3jPq4T8TvFPeM+rhPxO8U94z6uE/E7xT3jPq4T8TvFPeM+rhPxO8U94z6uE/E7xT3jPq4T8TvFPeM+rhP9MdB6K18eA/0x0HorXx4D/THQeitfHgP9MdB6K18eA/0x0HorXx4D/THQeitfHgP9MdB6K18eA/0x0HorXx4D/THQeitfHgP9MdB6K18eA/0x0HorXx4D/THQeitfHgP9MdB6K18eA/0x0HorXx4D/THQeitfHgP9MdB6K18eA/0x0HorXx4D/THQeitfHgP9MdB6K18eA/0x0HorXx4D/6LBUIUUbcP/osFQhRRtw/+iwVCFFG3D/6LBUIUUbcP/osFQhRRtw/+iwVCFFG3D/6LBUIUUbcP/osFQhRRtw/+iwVCFFG3D/6LBUIUUbcP/osFQhRRtw/+iwVCFFG3D/6LBUIUUbcP/osFQhRRtw/+iwVCFFG3D/6LBUIUUbcP/osFQhRRtw/+iwVCFFG3D/6LBUIUUbcP/osFQhRRtw/hpAuhNSY0z+GkC6E1JjTP4aQLoTUmNM/hpAuhNSY0z+GkC6E1JjTP4aQLoTUmNM/hpAuhNSY0z+GkC6E1JjTP4aQLoTUmNM/hpAuhNSY0z+GkC6E1JjTP4aQLoTUmNM/hpAuhNSY0z+GkC6E1JjTP4aQLoTUmNM/hpAuhNSY0z+GkC6E1JjTP4aQLoTUmNM/hpAuhNSY0z+GkC6E1JjTP5fPkX1il8E/l8+RfWKXwT+Xz5F9YpfBP5fPkX1il8E/l8+RfWKXwT+Xz5F9YpfBP5fPkX1il8E/l8+RfWKXwT+Xz5F9YpfBP5fPkX1il8E/l8+RfWKXwT+Xz5F9YpfBP5fPkX1il8E/l8+RfWKXwT+Xz5F9YpfBP5fPkX1il8E/l8+RfWKXwT+Xz5F9YpfBP5fPkX1il8E/l8+RfWKXwT8hIw8ZnKunvyEjDxmcq6e/ISMPGZyrp78hIw8ZnKunvyEjDxmcq6e/ISMPGZyrp78gIw8ZnKunvyAjDxmcq6e/ICMPGZyrp78gIw8ZnKunvyAjDxmcq6e/ICMPGZyrp78gIw8ZnKunvyAjDxmcq6e/ISMPGZyrp78hIw8ZnKunvyEjDxmcq6e/IiMPGZyrp78iIw8ZnKunvyIjDxmcq6e//RGUwwbJzL/9EZTDBsnMv/0RlMMGycy//RGUwwbJzL/9EZTDBsnMv/0RlMMGycy//RGUwwbJzL/9EZTDBsnMv/0RlMMGycy//RGUwwbJzL/9EZTDBsnMv/0RlMMGycy//RGUwwbJzL/9EZTDBsnMv/0RlMMGycy//RGUwwbJzL/9EZTDBsnMv/0RlMMGycy//RGUwwbJzL/9EZTDBsnMv//P8g9NRNi//8/yD01E2L//z/IPTUTYv//P8g9NRNi//8/yD01E2L//z/IPTUTYv//P8g9NRNi//8/yD01E2L//z/IPTUTYv//P8g9NRNi//8/yD01E2L//z/IPTUTYv//P8g9NRNi//8/yD01E2L//z/IPTUTYv//P8g9NRNi//8/yD01E2L//z/IPTUTYv//P8g9NRNi//8/yD01E2L8ex7G+44Lfvx7Hsb7jgt+/HsexvuOC378ex7G+44Lfvx7Hsb7jgt+/HsexvuOC378ex7G+44Lfvx7Hsb7jgt+/HsexvuOC378ex7G+44Lfvx7Hsb7jgt+/HsexvuOC378ex7G+44Lfvx7Hsb7jgt+/HsexvuOC378ex7G+44Lfvx7Hsb7jgt+/HsexvuOC378ex7G+44Lfvx7Hsb7jgt+/PgzvHKer4b8+DO8cp6vhvz4M7xynq+G/PgzvHKer4b8+DO8cp6vhvz4M7xynq+G/PgzvHKer4b8+DO8cp6vhvz4M7xynq+G/PgzvHKer4b8+DO8cp6vhvz4M7xynq+G/PgzvHKer4b8+DO8cp6vhvz4M7xynq+G/PgzvHKer4b8+DO8cp6vhvz4M7xynq+G/PgzvHKer4b8+DO8cp6vhvz8M7xynq+G/PwzvHKer4b8/DO8cp6vhvz8M7xynq+G/PwzvHKer4b8/DO8cp6vhvz8M7xynq+G/PwzvHKer4b8/DO8cp6vhvz8M7xynq+G/PwzvHKer4b8/DO8cp6vhvz8M7xynq+G/PwzvHKer4b8/DO8cp6vhvz8M7xynq+G/PwzvHKer4b8/DO8cp6vhvz8M7xynq+G/PwzvHKer4b8fx7G+44Lfvx/Hsb7jgt+/H8exvuOC378fx7G+44Lfvx/Hsb7jgt+/H8exvuOC378fx7G+44Lfvx/Hsb7jgt+/H8exvuOC378fx7G+44Lfvx/Hsb7jgt+/H8exvuOC378fx7G+44Lfvx/Hsb7jgt+/H8exvuOC378fx7G+44Lfvx/Hsb7jgt+/H8exvuOC378fx7G+44Lfvx/Hsb7jgt+/BNDyD01E2L8E0PIPTUTYvwTQ8g9NRNi/BNDyD01E2L8E0PIPTUTYvwTQ8g9NRNi/BNDyD01E2L8E0PIPTUTYvwTQ8g9NRNi/BNDyD01E2L8E0PIPTUTYvwTQ8g9NRNi/BNDyD01E2L8E0PIPTUTYvwTQ8g9NRNi/BNDyD01E2L8E0PIPTUTYvwTQ8g9NRNi/BNDyD01E2L8E0PIPTUTYvwkSlMMGycy/CRKUwwbJzL8JEpTDBsnMvwkSlMMGycy/CRKUwwbJzL8JEpTDBsnMvwkSlMMGycy/CRKUwwbJzL8JEpTDBsnMvwkSlMMGycy/CRKUwwbJzL8JEpTDBsnMvwkSlMMGycy/CRKUwwbJzL8JEpTDBsnMvwkSlMMGycy/CRKUwwbJzL8JEpTDBsnMvwkSlMMGycy/CRKUwwbJzL9IIw8ZnKunv0gjDxmcq6e/SCMPGZyrp79HIw8ZnKunv0cjDxmcq6e/RyMPGZyrp79IIw8ZnKunv0gjDxmcq6e/SCMPGZyrp79IIw8ZnKunv0gjDxmcq6e/SCMPGZyrp79IIw8ZnKunv0gjDxmcq6e/RyMPGZyrp79HIw8ZnKunv0cjDxmcq6e/RyMPGZyrp79HIw8ZnKunv0cjDxmcq6e/js+RfWKXwT+Oz5F9YpfBP47PkX1il8E/js+RfWKXwT+Oz5F9YpfBP47PkX1il8E/js+RfWKXwT+Oz5F9YpfBP47PkX1il8E/js+RfWKXwT+Oz5F9YpfBP47PkX1il8E/js+RfWKXwT+Oz5F9YpfBP47PkX1il8E/js+RfWKXwT+Oz5F9YpfBP47PkX1il8E/js+RfWKXwT+Oz5F9YpfBP4KQLoTUmNM/gpAuhNSY0z+CkC6E1JjTP4KQLoTUmNM/gpAuhNSY0z+CkC6E1JjTP4KQLoTUmNM/gpAuhNSY0z+CkC6E1JjTP4KQLoTUmNM/gpAuhNSY0z+CkC6E1JjTP4KQLoTUmNM/gpAuhNSY0z+CkC6E1JjTP4KQLoTUmNM/gpAuhNSY0z+CkC6E1JjTP4KQLoTUmNM/gpAuhNSY0z/4LBUIUUbcP/gsFQhRRtw/+CwVCFFG3D/4LBUIUUbcP/gsFQhRRtw/+CwVCFFG3D/4LBUIUUbcP/gsFQhRRtw/+CwVCFFG3D/4LBUIUUbcP/gsFQhRRtw/+CwVCFFG3D/4LBUIUUbcP/gsFQhRRtw/+CwVCFFG3D/4LBUIUUbcP/gsFQhRRtw/+CwVCFFG3D/4LBUIUUbcP/gsFQhRRtw/0x0HorXx4D/THQeitfHgP9MdB6K18eA/0x0HorXx4D/THQeitfHgP9MdB6K18eA/0x0HorXx4D/THQeitfHgP9MdB6K18eA/0x0HorXx4D/THQeitfHgP9MdB6K18eA/0x0HorXx4D/THQeitfHgP9MdB6K18eA/0x0HorXx4D/THQeitfHgP9MdB6K18eA/0x0HorXx4D/THQeitfHgPxO8U94z6uE/E7xT3jPq4T8TvFPeM+rhPxO8U94z6uE/E7xT3jPq4T8TvFPeM+rhPxO8U94z6uE/E7xT3jPq4T8TvFPeM+rhPxO8U94z6uE/E7xT3jPq4T8TvFPeM+rhPxO8U94z6uE/E7xT3jPq4T8TvFPeM+rhPxO8U94z6uE/E7xT3jPq4T8TvFPeM+rhPxO8U94z6uE/E7xT3jPq4T8=",
        "encoding": "base64",
        "path": [
         "_data",
         5,
         "z",
         "value"
        ]
       }
      ],
      "model_module": "plotlywidget",
      "model_module_version": "^4.13.0",
      "model_name": "FigureModel",
      "state": {
       "_config": {
        "plotlyServerURL": "https://plot.ly"
       },
       "_data": [
        {
         "marker": {
          "color": {
           "dtype": "float64",
           "shape": [
            400
           ],
           "value": {}
          },
          "colorscale": [
           [
            0,
            "#440154"
           ],
           [
            0.1111111111111111,
            "#482878"
           ],
           [
            0.2222222222222222,
            "#3e4989"
           ],
           [
            0.3333333333333333,
            "#31688e"
           ],
           [
            0.4444444444444444,
            "#26828e"
           ],
           [
            0.5555555555555556,
            "#1f9e89"
           ],
           [
            0.6666666666666666,
            "#35b779"
           ],
           [
            0.7777777777777778,
            "#6ece58"
           ],
           [
            0.8888888888888888,
            "#b5de2b"
           ],
           [
            1,
            "#fde725"
           ]
          ],
          "opacity": 0.5,
          "size": 3
         },
         "mode": "markers",
         "type": "scatter3d",
         "uid": "5b7530e8-9aea-4075-804a-f9517067f5ed",
         "x": {
          "dtype": "float64",
          "shape": [
           400
          ],
          "value": {}
         },
         "y": {
          "dtype": "float64",
          "shape": [
           400
          ],
          "value": {}
         },
         "z": {
          "dtype": "float64",
          "shape": [
           400
          ],
          "value": {}
         }
        },
        {
         "line": {
          "color": "rgba(255,0,0,0.5)",
          "width": 5
         },
         "mode": "lines",
         "type": "scatter3d",
         "uid": "c776097b-e122-4e8e-836d-8eb23c21780a",
         "x": [
          0,
          1
         ],
         "y": [
          0,
          0
         ],
         "z": [
          0,
          0
         ]
        },
        {
         "line": {
          "color": "rgba(0,255,0,0.5)",
          "width": 5
         },
         "mode": "lines",
         "type": "scatter3d",
         "uid": "224b7606-45cb-43f6-8a4c-6f479e02fd1e",
         "x": [
          0,
          0
         ],
         "y": [
          0,
          1
         ],
         "z": [
          0,
          0
         ]
        },
        {
         "line": {
          "color": "rgba(0,0,255,0.5)",
          "width": 5
         },
         "mode": "lines",
         "type": "scatter3d",
         "uid": "04b74238-a9e7-42be-96e5-44c57716f59d",
         "x": [
          0,
          0
         ],
         "y": [
          0,
          0
         ],
         "z": [
          0,
          1
         ]
        },
        {
         "line": {
          "color": "rgba(255,0,255,0.8)",
          "width": 5
         },
         "mode": "lines",
         "type": "scatter3d",
         "uid": "bfb2078c-934d-416a-94a0-2901fb35fe15",
         "x": [
          0,
          0.25000000000000006
         ],
         "y": [
          0,
          0.4330127018922193
         ],
         "z": [
          0,
          3.061616997868383e-17
         ]
        },
        {
         "alphahull": 0,
         "flatshading": true,
         "opacity": 0.4,
         "type": "mesh3d",
         "uid": "fb7d611a-5549-4193-b38c-4fd213011c86",
         "vertexcolor": [
          "rgba(253,231,36,1)",
          "rgba(253,231,36,1)",
          "rgba(253,231,36,1)",
          "rgba(253,231,36,1)",
          "rgba(253,231,36,1)",
          "rgba(253,231,36,1)",
          "rgba(253,231,36,1)",
          "rgba(253,231,36,1)",
          "rgba(253,231,36,1)",
          "rgba(253,231,36,1)",
          "rgba(253,231,36,1)",
          "rgba(253,231,36,1)",
          "rgba(253,231,36,1)",
          "rgba(253,231,36,1)",
          "rgba(253,231,36,1)",
          "rgba(253,231,36,1)",
          "rgba(253,231,36,1)",
          "rgba(253,231,36,1)",
          "rgba(253,231,36,1)",
          "rgba(253,231,36,1)",
          "rgba(235,228,37,1)",
          "rgba(235,228,37,1)",
          "rgba(235,228,37,1)",
          "rgba(235,228,37,1)",
          "rgba(235,228,37,1)",
          "rgba(235,228,37,1)",
          "rgba(235,228,37,1)",
          "rgba(235,228,37,1)",
          "rgba(235,228,37,1)",
          "rgba(235,228,37,1)",
          "rgba(235,228,37,1)",
          "rgba(235,228,37,1)",
          "rgba(235,228,37,1)",
          "rgba(235,228,37,1)",
          "rgba(235,228,37,1)",
          "rgba(235,228,37,1)",
          "rgba(235,228,37,1)",
          "rgba(235,228,37,1)",
          "rgba(235,228,37,1)",
          "rgba(235,228,37,1)",
          "rgba(185,222,40,1)",
          "rgba(185,222,40,1)",
          "rgba(185,222,40,1)",
          "rgba(185,222,40,1)",
          "rgba(185,222,40,1)",
          "rgba(185,222,40,1)",
          "rgba(185,222,40,1)",
          "rgba(185,222,40,1)",
          "rgba(185,222,40,1)",
          "rgba(185,222,40,1)",
          "rgba(185,222,40,1)",
          "rgba(185,222,40,1)",
          "rgba(185,222,40,1)",
          "rgba(185,222,40,1)",
          "rgba(185,222,40,1)",
          "rgba(185,222,40,1)",
          "rgba(185,222,40,1)",
          "rgba(185,222,40,1)",
          "rgba(185,222,40,1)",
          "rgba(185,222,40,1)",
          "rgba(107,204,89,1)",
          "rgba(107,204,89,1)",
          "rgba(107,204,89,1)",
          "rgba(107,204,89,1)",
          "rgba(107,204,89,1)",
          "rgba(107,204,89,1)",
          "rgba(107,204,89,1)",
          "rgba(107,204,89,1)",
          "rgba(107,204,89,1)",
          "rgba(107,204,89,1)",
          "rgba(107,204,89,1)",
          "rgba(107,204,89,1)",
          "rgba(107,204,89,1)",
          "rgba(107,204,89,1)",
          "rgba(107,204,89,1)",
          "rgba(107,204,89,1)",
          "rgba(107,204,89,1)",
          "rgba(107,204,89,1)",
          "rgba(107,204,89,1)",
          "rgba(107,204,89,1)",
          "rgba(42,173,127,1)",
          "rgba(42,173,127,1)",
          "rgba(42,173,127,1)",
          "rgba(42,173,127,1)",
          "rgba(42,173,127,1)",
          "rgba(42,173,127,1)",
          "rgba(42,173,127,1)",
          "rgba(42,173,127,1)",
          "rgba(42,173,127,1)",
          "rgba(42,173,127,1)",
          "rgba(42,173,127,1)",
          "rgba(42,173,127,1)",
          "rgba(42,173,127,1)",
          "rgba(42,173,127,1)",
          "rgba(42,173,127,1)",
          "rgba(42,173,127,1)",
          "rgba(42,173,127,1)",
          "rgba(42,173,127,1)",
          "rgba(42,173,127,1)",
          "rgba(42,173,127,1)",
          "rgba(36,134,141,1)",
          "rgba(36,134,141,1)",
          "rgba(36,134,141,1)",
          "rgba(36,134,141,1)",
          "rgba(36,134,141,1)",
          "rgba(36,134,141,1)",
          "rgba(36,134,141,1)",
          "rgba(36,134,141,1)",
          "rgba(36,134,141,1)",
          "rgba(36,134,141,1)",
          "rgba(36,134,141,1)",
          "rgba(36,134,141,1)",
          "rgba(36,134,141,1)",
          "rgba(36,134,141,1)",
          "rgba(36,134,141,1)",
          "rgba(36,134,141,1)",
          "rgba(36,134,141,1)",
          "rgba(36,134,141,1)",
          "rgba(36,134,141,1)",
          "rgba(36,134,141,1)",
          "rgba(52,94,140,1)",
          "rgba(52,94,140,1)",
          "rgba(52,94,140,1)",
          "rgba(52,94,140,1)",
          "rgba(52,94,140,1)",
          "rgba(52,94,140,1)",
          "rgba(52,94,140,1)",
          "rgba(52,94,140,1)",
          "rgba(52,94,140,1)",
          "rgba(52,94,140,1)",
          "rgba(52,94,140,1)",
          "rgba(52,94,140,1)",
          "rgba(52,94,140,1)",
          "rgba(52,94,140,1)",
          "rgba(52,94,140,1)",
          "rgba(52,94,140,1)",
          "rgba(52,94,140,1)",
          "rgba(52,94,140,1)",
          "rgba(52,94,140,1)",
          "rgba(52,94,140,1)",
          "rgba(67,55,128,1)",
          "rgba(67,55,128,1)",
          "rgba(67,55,128,1)",
          "rgba(67,55,128,1)",
          "rgba(67,55,128,1)",
          "rgba(67,55,128,1)",
          "rgba(67,55,128,1)",
          "rgba(67,55,128,1)",
          "rgba(67,55,128,1)",
          "rgba(67,55,128,1)",
          "rgba(67,55,128,1)",
          "rgba(67,55,128,1)",
          "rgba(67,55,128,1)",
          "rgba(67,55,128,1)",
          "rgba(67,55,128,1)",
          "rgba(67,55,128,1)",
          "rgba(67,55,128,1)",
          "rgba(67,55,128,1)",
          "rgba(67,55,128,1)",
          "rgba(67,55,128,1)",
          "rgba(70,22,103,1)",
          "rgba(70,22,103,1)",
          "rgba(70,22,103,1)",
          "rgba(70,22,103,1)",
          "rgba(70,22,103,1)",
          "rgba(70,22,103,1)",
          "rgba(70,22,103,1)",
          "rgba(70,22,103,1)",
          "rgba(70,22,103,1)",
          "rgba(70,22,103,1)",
          "rgba(70,22,103,1)",
          "rgba(70,22,103,1)",
          "rgba(70,22,103,1)",
          "rgba(70,22,103,1)",
          "rgba(70,22,103,1)",
          "rgba(70,22,103,1)",
          "rgba(70,22,103,1)",
          "rgba(70,22,103,1)",
          "rgba(70,22,103,1)",
          "rgba(70,22,103,1)",
          "rgba(68,3,86,1)",
          "rgba(68,3,86,1)",
          "rgba(68,3,86,1)",
          "rgba(68,3,86,1)",
          "rgba(68,3,86,1)",
          "rgba(68,3,86,1)",
          "rgba(68,3,86,1)",
          "rgba(68,3,86,1)",
          "rgba(68,3,86,1)",
          "rgba(68,3,86,1)",
          "rgba(68,3,86,1)",
          "rgba(68,3,86,1)",
          "rgba(68,3,86,1)",
          "rgba(68,3,86,1)",
          "rgba(68,3,86,1)",
          "rgba(68,3,86,1)",
          "rgba(68,3,86,1)",
          "rgba(68,3,86,1)",
          "rgba(68,3,86,1)",
          "rgba(68,3,86,1)",
          "rgba(68,3,86,1)",
          "rgba(68,3,86,1)",
          "rgba(68,3,86,1)",
          "rgba(68,3,86,1)",
          "rgba(68,3,86,1)",
          "rgba(68,3,86,1)",
          "rgba(68,3,86,1)",
          "rgba(68,3,86,1)",
          "rgba(68,3,86,1)",
          "rgba(68,3,86,1)",
          "rgba(68,3,86,1)",
          "rgba(68,3,86,1)",
          "rgba(68,3,86,1)",
          "rgba(68,3,86,1)",
          "rgba(68,3,86,1)",
          "rgba(68,3,86,1)",
          "rgba(68,3,86,1)",
          "rgba(68,3,86,1)",
          "rgba(68,3,86,1)",
          "rgba(68,3,86,1)",
          "rgba(70,22,103,1)",
          "rgba(70,22,103,1)",
          "rgba(70,22,103,1)",
          "rgba(70,22,103,1)",
          "rgba(70,22,103,1)",
          "rgba(70,22,103,1)",
          "rgba(70,22,103,1)",
          "rgba(70,22,103,1)",
          "rgba(70,22,103,1)",
          "rgba(70,22,103,1)",
          "rgba(70,22,103,1)",
          "rgba(70,22,103,1)",
          "rgba(70,22,103,1)",
          "rgba(70,22,103,1)",
          "rgba(70,22,103,1)",
          "rgba(70,22,103,1)",
          "rgba(70,22,103,1)",
          "rgba(70,22,103,1)",
          "rgba(70,22,103,1)",
          "rgba(70,22,103,1)",
          "rgba(67,55,128,1)",
          "rgba(67,55,128,1)",
          "rgba(67,55,128,1)",
          "rgba(67,55,128,1)",
          "rgba(67,55,128,1)",
          "rgba(67,55,128,1)",
          "rgba(67,55,128,1)",
          "rgba(67,55,128,1)",
          "rgba(67,55,128,1)",
          "rgba(67,55,128,1)",
          "rgba(67,55,128,1)",
          "rgba(67,55,128,1)",
          "rgba(67,55,128,1)",
          "rgba(67,55,128,1)",
          "rgba(67,55,128,1)",
          "rgba(67,55,128,1)",
          "rgba(67,55,128,1)",
          "rgba(67,55,128,1)",
          "rgba(67,55,128,1)",
          "rgba(67,55,128,1)",
          "rgba(52,94,140,1)",
          "rgba(52,94,140,1)",
          "rgba(52,94,140,1)",
          "rgba(52,94,140,1)",
          "rgba(52,94,140,1)",
          "rgba(52,94,140,1)",
          "rgba(52,94,140,1)",
          "rgba(52,94,140,1)",
          "rgba(52,94,140,1)",
          "rgba(52,94,140,1)",
          "rgba(52,94,140,1)",
          "rgba(52,94,140,1)",
          "rgba(52,94,140,1)",
          "rgba(52,94,140,1)",
          "rgba(52,94,140,1)",
          "rgba(52,94,140,1)",
          "rgba(52,94,140,1)",
          "rgba(52,94,140,1)",
          "rgba(52,94,140,1)",
          "rgba(52,94,140,1)",
          "rgba(36,134,141,1)",
          "rgba(36,134,141,1)",
          "rgba(36,134,141,1)",
          "rgba(36,134,141,1)",
          "rgba(36,134,141,1)",
          "rgba(36,134,141,1)",
          "rgba(36,134,141,1)",
          "rgba(36,134,141,1)",
          "rgba(36,134,141,1)",
          "rgba(36,134,141,1)",
          "rgba(36,134,141,1)",
          "rgba(36,134,141,1)",
          "rgba(36,134,141,1)",
          "rgba(36,134,141,1)",
          "rgba(36,134,141,1)",
          "rgba(36,134,141,1)",
          "rgba(36,134,141,1)",
          "rgba(36,134,141,1)",
          "rgba(36,134,141,1)",
          "rgba(36,134,141,1)",
          "rgba(42,173,127,1)",
          "rgba(42,173,127,1)",
          "rgba(42,173,127,1)",
          "rgba(42,173,127,1)",
          "rgba(42,173,127,1)",
          "rgba(42,173,127,1)",
          "rgba(42,173,127,1)",
          "rgba(42,173,127,1)",
          "rgba(42,173,127,1)",
          "rgba(42,173,127,1)",
          "rgba(42,173,127,1)",
          "rgba(42,173,127,1)",
          "rgba(42,173,127,1)",
          "rgba(42,173,127,1)",
          "rgba(42,173,127,1)",
          "rgba(42,173,127,1)",
          "rgba(42,173,127,1)",
          "rgba(42,173,127,1)",
          "rgba(42,173,127,1)",
          "rgba(42,173,127,1)",
          "rgba(107,204,89,1)",
          "rgba(107,204,89,1)",
          "rgba(107,204,89,1)",
          "rgba(107,204,89,1)",
          "rgba(107,204,89,1)",
          "rgba(107,204,89,1)",
          "rgba(107,204,89,1)",
          "rgba(107,204,89,1)",
          "rgba(107,204,89,1)",
          "rgba(107,204,89,1)",
          "rgba(107,204,89,1)",
          "rgba(107,204,89,1)",
          "rgba(107,204,89,1)",
          "rgba(107,204,89,1)",
          "rgba(107,204,89,1)",
          "rgba(107,204,89,1)",
          "rgba(107,204,89,1)",
          "rgba(107,204,89,1)",
          "rgba(107,204,89,1)",
          "rgba(107,204,89,1)",
          "rgba(185,222,40,1)",
          "rgba(185,222,40,1)",
          "rgba(185,222,40,1)",
          "rgba(185,222,40,1)",
          "rgba(185,222,40,1)",
          "rgba(185,222,40,1)",
          "rgba(185,222,40,1)",
          "rgba(185,222,40,1)",
          "rgba(185,222,40,1)",
          "rgba(185,222,40,1)",
          "rgba(185,222,40,1)",
          "rgba(185,222,40,1)",
          "rgba(185,222,40,1)",
          "rgba(185,222,40,1)",
          "rgba(185,222,40,1)",
          "rgba(185,222,40,1)",
          "rgba(185,222,40,1)",
          "rgba(185,222,40,1)",
          "rgba(185,222,40,1)",
          "rgba(185,222,40,1)",
          "rgba(235,228,37,1)",
          "rgba(235,228,37,1)",
          "rgba(235,228,37,1)",
          "rgba(235,228,37,1)",
          "rgba(235,228,37,1)",
          "rgba(235,228,37,1)",
          "rgba(235,228,37,1)",
          "rgba(235,228,37,1)",
          "rgba(235,228,37,1)",
          "rgba(235,228,37,1)",
          "rgba(235,228,37,1)",
          "rgba(235,228,37,1)",
          "rgba(235,228,37,1)",
          "rgba(235,228,37,1)",
          "rgba(235,228,37,1)",
          "rgba(235,228,37,1)",
          "rgba(235,228,37,1)",
          "rgba(235,228,37,1)",
          "rgba(235,228,37,1)",
          "rgba(235,228,37,1)",
          "rgba(253,231,36,1)",
          "rgba(253,231,36,1)",
          "rgba(253,231,36,1)",
          "rgba(253,231,36,1)",
          "rgba(253,231,36,1)",
          "rgba(253,231,36,1)",
          "rgba(253,231,36,1)",
          "rgba(253,231,36,1)",
          "rgba(253,231,36,1)",
          "rgba(253,231,36,1)",
          "rgba(253,231,36,1)",
          "rgba(253,231,36,1)",
          "rgba(253,231,36,1)",
          "rgba(253,231,36,1)",
          "rgba(253,231,36,1)",
          "rgba(253,231,36,1)",
          "rgba(253,231,36,1)",
          "rgba(253,231,36,1)",
          "rgba(253,231,36,1)",
          "rgba(253,231,36,1)"
         ],
         "x": {
          "dtype": "float64",
          "shape": [
           400
          ],
          "value": {}
         },
         "y": {
          "dtype": "float64",
          "shape": [
           400
          ],
          "value": {}
         },
         "z": {
          "dtype": "float64",
          "shape": [
           400
          ],
          "value": {}
         }
        }
       ],
       "_js2py_pointsCallback": {},
       "_js2py_relayout": {},
       "_js2py_restyle": {},
       "_js2py_update": {},
       "_last_layout_edit_id": 1,
       "_last_trace_edit_id": 1,
       "_layout": {
        "margin": {
         "b": 0,
         "l": 0,
         "r": 0,
         "t": 0
        },
        "scene": {
         "xaxis": {
          "color": "white",
          "title": {
           "text": "s1"
          }
         },
         "yaxis": {
          "color": "white",
          "title": {
           "text": "s2"
          }
         },
         "zaxis": {
          "color": "white",
          "title": {
           "text": "s3"
          }
         }
        },
        "showlegend": false,
        "template": {
         "data": {
          "bar": [
           {
            "error_x": {
             "color": "#2a3f5f"
            },
            "error_y": {
             "color": "#2a3f5f"
            },
            "marker": {
             "line": {
              "color": "#E5ECF6",
              "width": 0.5
             }
            },
            "type": "bar"
           }
          ],
          "barpolar": [
           {
            "marker": {
             "line": {
              "color": "#E5ECF6",
              "width": 0.5
             }
            },
            "type": "barpolar"
           }
          ],
          "carpet": [
           {
            "aaxis": {
             "endlinecolor": "#2a3f5f",
             "gridcolor": "white",
             "linecolor": "white",
             "minorgridcolor": "white",
             "startlinecolor": "#2a3f5f"
            },
            "baxis": {
             "endlinecolor": "#2a3f5f",
             "gridcolor": "white",
             "linecolor": "white",
             "minorgridcolor": "white",
             "startlinecolor": "#2a3f5f"
            },
            "type": "carpet"
           }
          ],
          "choropleth": [
           {
            "colorbar": {
             "outlinewidth": 0,
             "ticks": ""
            },
            "type": "choropleth"
           }
          ],
          "contour": [
           {
            "colorbar": {
             "outlinewidth": 0,
             "ticks": ""
            },
            "colorscale": [
             [
              0,
              "#0d0887"
             ],
             [
              0.1111111111111111,
              "#46039f"
             ],
             [
              0.2222222222222222,
              "#7201a8"
             ],
             [
              0.3333333333333333,
              "#9c179e"
             ],
             [
              0.4444444444444444,
              "#bd3786"
             ],
             [
              0.5555555555555556,
              "#d8576b"
             ],
             [
              0.6666666666666666,
              "#ed7953"
             ],
             [
              0.7777777777777778,
              "#fb9f3a"
             ],
             [
              0.8888888888888888,
              "#fdca26"
             ],
             [
              1,
              "#f0f921"
             ]
            ],
            "type": "contour"
           }
          ],
          "contourcarpet": [
           {
            "colorbar": {
             "outlinewidth": 0,
             "ticks": ""
            },
            "type": "contourcarpet"
           }
          ],
          "heatmap": [
           {
            "colorbar": {
             "outlinewidth": 0,
             "ticks": ""
            },
            "colorscale": [
             [
              0,
              "#0d0887"
             ],
             [
              0.1111111111111111,
              "#46039f"
             ],
             [
              0.2222222222222222,
              "#7201a8"
             ],
             [
              0.3333333333333333,
              "#9c179e"
             ],
             [
              0.4444444444444444,
              "#bd3786"
             ],
             [
              0.5555555555555556,
              "#d8576b"
             ],
             [
              0.6666666666666666,
              "#ed7953"
             ],
             [
              0.7777777777777778,
              "#fb9f3a"
             ],
             [
              0.8888888888888888,
              "#fdca26"
             ],
             [
              1,
              "#f0f921"
             ]
            ],
            "type": "heatmap"
           }
          ],
          "heatmapgl": [
           {
            "colorbar": {
             "outlinewidth": 0,
             "ticks": ""
            },
            "colorscale": [
             [
              0,
              "#0d0887"
             ],
             [
              0.1111111111111111,
              "#46039f"
             ],
             [
              0.2222222222222222,
              "#7201a8"
             ],
             [
              0.3333333333333333,
              "#9c179e"
             ],
             [
              0.4444444444444444,
              "#bd3786"
             ],
             [
              0.5555555555555556,
              "#d8576b"
             ],
             [
              0.6666666666666666,
              "#ed7953"
             ],
             [
              0.7777777777777778,
              "#fb9f3a"
             ],
             [
              0.8888888888888888,
              "#fdca26"
             ],
             [
              1,
              "#f0f921"
             ]
            ],
            "type": "heatmapgl"
           }
          ],
          "histogram": [
           {
            "marker": {
             "colorbar": {
              "outlinewidth": 0,
              "ticks": ""
             }
            },
            "type": "histogram"
           }
          ],
          "histogram2d": [
           {
            "colorbar": {
             "outlinewidth": 0,
             "ticks": ""
            },
            "colorscale": [
             [
              0,
              "#0d0887"
             ],
             [
              0.1111111111111111,
              "#46039f"
             ],
             [
              0.2222222222222222,
              "#7201a8"
             ],
             [
              0.3333333333333333,
              "#9c179e"
             ],
             [
              0.4444444444444444,
              "#bd3786"
             ],
             [
              0.5555555555555556,
              "#d8576b"
             ],
             [
              0.6666666666666666,
              "#ed7953"
             ],
             [
              0.7777777777777778,
              "#fb9f3a"
             ],
             [
              0.8888888888888888,
              "#fdca26"
             ],
             [
              1,
              "#f0f921"
             ]
            ],
            "type": "histogram2d"
           }
          ],
          "histogram2dcontour": [
           {
            "colorbar": {
             "outlinewidth": 0,
             "ticks": ""
            },
            "colorscale": [
             [
              0,
              "#0d0887"
             ],
             [
              0.1111111111111111,
              "#46039f"
             ],
             [
              0.2222222222222222,
              "#7201a8"
             ],
             [
              0.3333333333333333,
              "#9c179e"
             ],
             [
              0.4444444444444444,
              "#bd3786"
             ],
             [
              0.5555555555555556,
              "#d8576b"
             ],
             [
              0.6666666666666666,
              "#ed7953"
             ],
             [
              0.7777777777777778,
              "#fb9f3a"
             ],
             [
              0.8888888888888888,
              "#fdca26"
             ],
             [
              1,
              "#f0f921"
             ]
            ],
            "type": "histogram2dcontour"
           }
          ],
          "mesh3d": [
           {
            "colorbar": {
             "outlinewidth": 0,
             "ticks": ""
            },
            "type": "mesh3d"
           }
          ],
          "parcoords": [
           {
            "line": {
             "colorbar": {
              "outlinewidth": 0,
              "ticks": ""
             }
            },
            "type": "parcoords"
           }
          ],
          "pie": [
           {
            "automargin": true,
            "type": "pie"
           }
          ],
          "scatter": [
           {
            "marker": {
             "colorbar": {
              "outlinewidth": 0,
              "ticks": ""
             }
            },
            "type": "scatter"
           }
          ],
          "scatter3d": [
           {
            "line": {
             "colorbar": {
              "outlinewidth": 0,
              "ticks": ""
             }
            },
            "marker": {
             "colorbar": {
              "outlinewidth": 0,
              "ticks": ""
             }
            },
            "type": "scatter3d"
           }
          ],
          "scattercarpet": [
           {
            "marker": {
             "colorbar": {
              "outlinewidth": 0,
              "ticks": ""
             }
            },
            "type": "scattercarpet"
           }
          ],
          "scattergeo": [
           {
            "marker": {
             "colorbar": {
              "outlinewidth": 0,
              "ticks": ""
             }
            },
            "type": "scattergeo"
           }
          ],
          "scattergl": [
           {
            "marker": {
             "colorbar": {
              "outlinewidth": 0,
              "ticks": ""
             }
            },
            "type": "scattergl"
           }
          ],
          "scattermapbox": [
           {
            "marker": {
             "colorbar": {
              "outlinewidth": 0,
              "ticks": ""
             }
            },
            "type": "scattermapbox"
           }
          ],
          "scatterpolar": [
           {
            "marker": {
             "colorbar": {
              "outlinewidth": 0,
              "ticks": ""
             }
            },
            "type": "scatterpolar"
           }
          ],
          "scatterpolargl": [
           {
            "marker": {
             "colorbar": {
              "outlinewidth": 0,
              "ticks": ""
             }
            },
            "type": "scatterpolargl"
           }
          ],
          "scatterternary": [
           {
            "marker": {
             "colorbar": {
              "outlinewidth": 0,
              "ticks": ""
             }
            },
            "type": "scatterternary"
           }
          ],
          "surface": [
           {
            "colorbar": {
             "outlinewidth": 0,
             "ticks": ""
            },
            "colorscale": [
             [
              0,
              "#0d0887"
             ],
             [
              0.1111111111111111,
              "#46039f"
             ],
             [
              0.2222222222222222,
              "#7201a8"
             ],
             [
              0.3333333333333333,
              "#9c179e"
             ],
             [
              0.4444444444444444,
              "#bd3786"
             ],
             [
              0.5555555555555556,
              "#d8576b"
             ],
             [
              0.6666666666666666,
              "#ed7953"
             ],
             [
              0.7777777777777778,
              "#fb9f3a"
             ],
             [
              0.8888888888888888,
              "#fdca26"
             ],
             [
              1,
              "#f0f921"
             ]
            ],
            "type": "surface"
           }
          ],
          "table": [
           {
            "cells": {
             "fill": {
              "color": "#EBF0F8"
             },
             "line": {
              "color": "white"
             }
            },
            "header": {
             "fill": {
              "color": "#C8D4E3"
             },
             "line": {
              "color": "white"
             }
            },
            "type": "table"
           }
          ]
         },
         "layout": {
          "annotationdefaults": {
           "arrowcolor": "#2a3f5f",
           "arrowhead": 0,
           "arrowwidth": 1
          },
          "coloraxis": {
           "colorbar": {
            "outlinewidth": 0,
            "ticks": ""
           }
          },
          "colorscale": {
           "diverging": [
            [
             0,
             "#8e0152"
            ],
            [
             0.1,
             "#c51b7d"
            ],
            [
             0.2,
             "#de77ae"
            ],
            [
             0.3,
             "#f1b6da"
            ],
            [
             0.4,
             "#fde0ef"
            ],
            [
             0.5,
             "#f7f7f7"
            ],
            [
             0.6,
             "#e6f5d0"
            ],
            [
             0.7,
             "#b8e186"
            ],
            [
             0.8,
             "#7fbc41"
            ],
            [
             0.9,
             "#4d9221"
            ],
            [
             1,
             "#276419"
            ]
           ],
           "sequential": [
            [
             0,
             "#0d0887"
            ],
            [
             0.1111111111111111,
             "#46039f"
            ],
            [
             0.2222222222222222,
             "#7201a8"
            ],
            [
             0.3333333333333333,
             "#9c179e"
            ],
            [
             0.4444444444444444,
             "#bd3786"
            ],
            [
             0.5555555555555556,
             "#d8576b"
            ],
            [
             0.6666666666666666,
             "#ed7953"
            ],
            [
             0.7777777777777778,
             "#fb9f3a"
            ],
            [
             0.8888888888888888,
             "#fdca26"
            ],
            [
             1,
             "#f0f921"
            ]
           ],
           "sequentialminus": [
            [
             0,
             "#0d0887"
            ],
            [
             0.1111111111111111,
             "#46039f"
            ],
            [
             0.2222222222222222,
             "#7201a8"
            ],
            [
             0.3333333333333333,
             "#9c179e"
            ],
            [
             0.4444444444444444,
             "#bd3786"
            ],
            [
             0.5555555555555556,
             "#d8576b"
            ],
            [
             0.6666666666666666,
             "#ed7953"
            ],
            [
             0.7777777777777778,
             "#fb9f3a"
            ],
            [
             0.8888888888888888,
             "#fdca26"
            ],
            [
             1,
             "#f0f921"
            ]
           ]
          },
          "colorway": [
           "#636efa",
           "#EF553B",
           "#00cc96",
           "#ab63fa",
           "#FFA15A",
           "#19d3f3",
           "#FF6692",
           "#B6E880",
           "#FF97FF",
           "#FECB52"
          ],
          "font": {
           "color": "#2a3f5f"
          },
          "geo": {
           "bgcolor": "white",
           "lakecolor": "white",
           "landcolor": "#E5ECF6",
           "showlakes": true,
           "showland": true,
           "subunitcolor": "white"
          },
          "hoverlabel": {
           "align": "left"
          },
          "hovermode": "closest",
          "mapbox": {
           "style": "light"
          },
          "paper_bgcolor": "white",
          "plot_bgcolor": "#E5ECF6",
          "polar": {
           "angularaxis": {
            "gridcolor": "white",
            "linecolor": "white",
            "ticks": ""
           },
           "bgcolor": "#E5ECF6",
           "radialaxis": {
            "gridcolor": "white",
            "linecolor": "white",
            "ticks": ""
           }
          },
          "scene": {
           "xaxis": {
            "backgroundcolor": "#E5ECF6",
            "gridcolor": "white",
            "gridwidth": 2,
            "linecolor": "white",
            "showbackground": true,
            "ticks": "",
            "zerolinecolor": "white"
           },
           "yaxis": {
            "backgroundcolor": "#E5ECF6",
            "gridcolor": "white",
            "gridwidth": 2,
            "linecolor": "white",
            "showbackground": true,
            "ticks": "",
            "zerolinecolor": "white"
           },
           "zaxis": {
            "backgroundcolor": "#E5ECF6",
            "gridcolor": "white",
            "gridwidth": 2,
            "linecolor": "white",
            "showbackground": true,
            "ticks": "",
            "zerolinecolor": "white"
           }
          },
          "shapedefaults": {
           "line": {
            "color": "#2a3f5f"
           }
          },
          "ternary": {
           "aaxis": {
            "gridcolor": "white",
            "linecolor": "white",
            "ticks": ""
           },
           "baxis": {
            "gridcolor": "white",
            "linecolor": "white",
            "ticks": ""
           },
           "bgcolor": "#E5ECF6",
           "caxis": {
            "gridcolor": "white",
            "linecolor": "white",
            "ticks": ""
           }
          },
          "title": {
           "x": 0.05
          },
          "xaxis": {
           "automargin": true,
           "gridcolor": "white",
           "linecolor": "white",
           "ticks": "",
           "title": {
            "standoff": 15
           },
           "zerolinecolor": "white",
           "zerolinewidth": 2
          },
          "yaxis": {
           "automargin": true,
           "gridcolor": "white",
           "linecolor": "white",
           "ticks": "",
           "title": {
            "standoff": 15
           },
           "zerolinecolor": "white",
           "zerolinewidth": 2
          }
         }
        }
       },
       "_py2js_addTraces": {},
       "_py2js_animate": {},
       "_py2js_deleteTraces": {},
       "_py2js_moveTraces": {},
       "_py2js_removeTraceProps": {},
       "_py2js_restyle": {},
       "_view_count": 1
      }
     },
     "6cf11bc95f4d498282cdd718dad271d5": {
      "model_module": "@jupyter-widgets/output",
      "model_module_version": "1.0.0",
      "model_name": "OutputModel",
      "state": {
       "layout": "IPY_MODEL_d0755cdee1f84495af2b46c8f5103a41",
       "outputs": [
        {
         "name": "stdout",
         "output_type": "stream",
         "text": "[[9.79940688e-01 7.38298311e-17 0.00000000e+00 0.00000000e+00]\n [7.38298311e-17 9.79940688e-01 0.00000000e+00 0.00000000e+00]\n [0.00000000e+00 0.00000000e+00 9.79940688e-01 0.00000000e+00]\n [0.00000000e+00 0.00000000e+00 0.00000000e+00 9.79940688e-01]]\n"
        }
       ]
      }
     },
     "721ad0da61904066b37f815b39b1d7d6": {
      "model_module": "@jupyter-widgets/controls",
      "model_module_version": "1.5.0",
      "model_name": "VBoxModel",
      "state": {
       "_dom_classes": [
        "widget-interact"
       ],
       "children": [
        "IPY_MODEL_36bf9d148d9f43dfa593cf76202c0f33",
        "IPY_MODEL_0feba126051d439c9c21c0f892230935",
        "IPY_MODEL_6cf11bc95f4d498282cdd718dad271d5"
       ],
       "layout": "IPY_MODEL_577ae3704ca143dfa132de9c3b8ff8f9"
      }
     },
     "73e16d04b9e94463b521ddc72bbda5ba": {
      "model_module": "@jupyter-widgets/base",
      "model_module_version": "1.2.0",
      "model_name": "LayoutModel",
      "state": {
       "width": "75%"
      }
     },
     "7eb4bf9d5c5d425a9d6ccaa6a096e262": {
      "model_module": "@jupyter-widgets/controls",
      "model_module_version": "1.5.0",
      "model_name": "VBoxModel",
      "state": {
       "_dom_classes": [
        "widget-interact"
       ],
       "children": [
        "IPY_MODEL_58eb2a21f5484ed1ba10b4c772aaa2cf",
        "IPY_MODEL_14d996c1a7cb4db2b90eb9d7af39f495"
       ],
       "layout": "IPY_MODEL_3012fdcb68ca4f5eafd5f78ce6a82402"
      }
     },
     "7f4b726d4c05472bb059b61f73b6cf6d": {
      "model_module": "@jupyter-widgets/controls",
      "model_module_version": "1.5.0",
      "model_name": "SliderStyleModel",
      "state": {
       "description_width": ""
      }
     },
     "848cc6b85f274b4ab90158d6be30180d": {
      "model_module": "@jupyter-widgets/controls",
      "model_module_version": "1.5.0",
      "model_name": "IntSliderModel",
      "state": {
       "description": "azimuth",
       "layout": "IPY_MODEL_ad191d0414344b20881e575f5a5748ea",
       "max": 360,
       "step": 5,
       "style": "IPY_MODEL_5d0fbf1b5334431db69171cd503a3d59",
       "value": 60
      }
     },
     "8b841d88b18247a6bc6719b890630ccc": {
      "buffers": [
       {
        "data": "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",
        "encoding": "base64",
        "path": [
         "_data",
         0,
         "marker",
         "color",
         "value"
        ]
       },
       {
        "data": "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",
        "encoding": "base64",
        "path": [
         "_data",
         0,
         "x",
         "value"
        ]
       },
       {
        "data": "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",
        "encoding": "base64",
        "path": [
         "_data",
         0,
         "y",
         "value"
        ]
       },
       {
        "data": "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",
        "encoding": "base64",
        "path": [
         "_data",
         0,
         "z",
         "value"
        ]
       },
       {
        "data": "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",
        "encoding": "base64",
        "path": [
         "_data",
         5,
         "x",
         "value"
        ]
       },
       {
        "data": "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",
        "encoding": "base64",
        "path": [
         "_data",
         5,
         "y",
         "value"
        ]
       },
       {
        "data": "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",
        "encoding": "base64",
        "path": [
         "_data",
         5,
         "z",
         "value"
        ]
       }
      ],
      "model_module": "plotlywidget",
      "model_module_version": "^4.13.0",
      "model_name": "FigureModel",
      "state": {
       "_config": {
        "plotlyServerURL": "https://plot.ly"
       },
       "_data": [
        {
         "marker": {
          "color": {
           "dtype": "float64",
           "shape": [
            400
           ],
           "value": {}
          },
          "colorscale": [
           [
            0,
            "#440154"
           ],
           [
            0.1111111111111111,
            "#482878"
           ],
           [
            0.2222222222222222,
            "#3e4989"
           ],
           [
            0.3333333333333333,
            "#31688e"
           ],
           [
            0.4444444444444444,
            "#26828e"
           ],
           [
            0.5555555555555556,
            "#1f9e89"
           ],
           [
            0.6666666666666666,
            "#35b779"
           ],
           [
            0.7777777777777778,
            "#6ece58"
           ],
           [
            0.8888888888888888,
            "#b5de2b"
           ],
           [
            1,
            "#fde725"
           ]
          ],
          "opacity": 0.5,
          "size": 3
         },
         "mode": "markers",
         "type": "scatter3d",
         "uid": "14028945-a40e-42f5-b8e2-36efaa77b42c",
         "x": {
          "dtype": "float64",
          "shape": [
           400
          ],
          "value": {}
         },
         "y": {
          "dtype": "float64",
          "shape": [
           400
          ],
          "value": {}
         },
         "z": {
          "dtype": "float64",
          "shape": [
           400
          ],
          "value": {}
         }
        },
        {
         "line": {
          "color": "rgba(255,0,0,0.5)",
          "width": 5
         },
         "mode": "lines",
         "type": "scatter3d",
         "uid": "2cf369cf-8601-4a99-a141-21ff3e384ca5",
         "x": [
          0,
          1
         ],
         "y": [
          0,
          0
         ],
         "z": [
          0,
          0
         ]
        },
        {
         "line": {
          "color": "rgba(0,255,0,0.5)",
          "width": 5
         },
         "mode": "lines",
         "type": "scatter3d",
         "uid": "d5f12c4d-9228-4fa9-a9a1-4d3847529910",
         "x": [
          0,
          0
         ],
         "y": [
          0,
          1
         ],
         "z": [
          0,
          0
         ]
        },
        {
         "line": {
          "color": "rgba(0,0,255,0.5)",
          "width": 5
         },
         "mode": "lines",
         "type": "scatter3d",
         "uid": "7589f685-b6af-4755-966f-758103dfd46c",
         "x": [
          0,
          0
         ],
         "y": [
          0,
          0
         ],
         "z": [
          0,
          1
         ]
        },
        {
         "line": {
          "color": "rgba(255,0,255,0.8)",
          "width": 5
         },
         "mode": "lines",
         "type": "scatter3d",
         "uid": "6cf601ad-487f-449b-a421-2b1a25cf8eac",
         "x": [],
         "y": [],
         "z": []
        },
        {
         "alphahull": 0,
         "flatshading": true,
         "opacity": 0.4,
         "type": "mesh3d",
         "uid": "98554f5c-5270-4f36-893b-525c5acd2c62",
         "vertexcolor": [
          "rgba(253,231,36,1)",
          "rgba(253,231,36,1)",
          "rgba(253,231,36,1)",
          "rgba(253,231,36,1)",
          "rgba(253,231,36,1)",
          "rgba(253,231,36,1)",
          "rgba(253,231,36,1)",
          "rgba(253,231,36,1)",
          "rgba(253,231,36,1)",
          "rgba(253,231,36,1)",
          "rgba(253,231,36,1)",
          "rgba(253,231,36,1)",
          "rgba(253,231,36,1)",
          "rgba(253,231,36,1)",
          "rgba(253,231,36,1)",
          "rgba(253,231,36,1)",
          "rgba(253,231,36,1)",
          "rgba(253,231,36,1)",
          "rgba(253,231,36,1)",
          "rgba(253,231,36,1)",
          "rgba(235,228,37,1)",
          "rgba(235,228,37,1)",
          "rgba(235,228,37,1)",
          "rgba(235,228,37,1)",
          "rgba(235,228,37,1)",
          "rgba(235,228,37,1)",
          "rgba(235,228,37,1)",
          "rgba(235,228,37,1)",
          "rgba(235,228,37,1)",
          "rgba(235,228,37,1)",
          "rgba(235,228,37,1)",
          "rgba(235,228,37,1)",
          "rgba(235,228,37,1)",
          "rgba(235,228,37,1)",
          "rgba(235,228,37,1)",
          "rgba(235,228,37,1)",
          "rgba(235,228,37,1)",
          "rgba(235,228,37,1)",
          "rgba(235,228,37,1)",
          "rgba(235,228,37,1)",
          "rgba(185,222,40,1)",
          "rgba(185,222,40,1)",
          "rgba(185,222,40,1)",
          "rgba(185,222,40,1)",
          "rgba(185,222,40,1)",
          "rgba(185,222,40,1)",
          "rgba(185,222,40,1)",
          "rgba(185,222,40,1)",
          "rgba(185,222,40,1)",
          "rgba(185,222,40,1)",
          "rgba(185,222,40,1)",
          "rgba(185,222,40,1)",
          "rgba(185,222,40,1)",
          "rgba(185,222,40,1)",
          "rgba(185,222,40,1)",
          "rgba(185,222,40,1)",
          "rgba(185,222,40,1)",
          "rgba(185,222,40,1)",
          "rgba(185,222,40,1)",
          "rgba(185,222,40,1)",
          "rgba(107,204,89,1)",
          "rgba(107,204,89,1)",
          "rgba(107,204,89,1)",
          "rgba(107,204,89,1)",
          "rgba(107,204,89,1)",
          "rgba(107,204,89,1)",
          "rgba(107,204,89,1)",
          "rgba(107,204,89,1)",
          "rgba(107,204,89,1)",
          "rgba(107,204,89,1)",
          "rgba(107,204,89,1)",
          "rgba(107,204,89,1)",
          "rgba(107,204,89,1)",
          "rgba(107,204,89,1)",
          "rgba(107,204,89,1)",
          "rgba(107,204,89,1)",
          "rgba(107,204,89,1)",
          "rgba(107,204,89,1)",
          "rgba(107,204,89,1)",
          "rgba(107,204,89,1)",
          "rgba(42,173,127,1)",
          "rgba(42,173,127,1)",
          "rgba(42,173,127,1)",
          "rgba(42,173,127,1)",
          "rgba(42,173,127,1)",
          "rgba(42,173,127,1)",
          "rgba(42,173,127,1)",
          "rgba(42,173,127,1)",
          "rgba(42,173,127,1)",
          "rgba(42,173,127,1)",
          "rgba(42,173,127,1)",
          "rgba(42,173,127,1)",
          "rgba(42,173,127,1)",
          "rgba(42,173,127,1)",
          "rgba(42,173,127,1)",
          "rgba(42,173,127,1)",
          "rgba(42,173,127,1)",
          "rgba(42,173,127,1)",
          "rgba(42,173,127,1)",
          "rgba(42,173,127,1)",
          "rgba(36,134,141,1)",
          "rgba(36,134,141,1)",
          "rgba(36,134,141,1)",
          "rgba(36,134,141,1)",
          "rgba(36,134,141,1)",
          "rgba(36,134,141,1)",
          "rgba(36,134,141,1)",
          "rgba(36,134,141,1)",
          "rgba(36,134,141,1)",
          "rgba(36,134,141,1)",
          "rgba(36,134,141,1)",
          "rgba(36,134,141,1)",
          "rgba(36,134,141,1)",
          "rgba(36,134,141,1)",
          "rgba(36,134,141,1)",
          "rgba(36,134,141,1)",
          "rgba(36,134,141,1)",
          "rgba(36,134,141,1)",
          "rgba(36,134,141,1)",
          "rgba(36,134,141,1)",
          "rgba(52,94,140,1)",
          "rgba(52,94,140,1)",
          "rgba(52,94,140,1)",
          "rgba(52,94,140,1)",
          "rgba(52,94,140,1)",
          "rgba(52,94,140,1)",
          "rgba(52,94,140,1)",
          "rgba(52,94,140,1)",
          "rgba(52,94,140,1)",
          "rgba(52,94,140,1)",
          "rgba(52,94,140,1)",
          "rgba(52,94,140,1)",
          "rgba(52,94,140,1)",
          "rgba(52,94,140,1)",
          "rgba(52,94,140,1)",
          "rgba(52,94,140,1)",
          "rgba(52,94,140,1)",
          "rgba(52,94,140,1)",
          "rgba(52,94,140,1)",
          "rgba(52,94,140,1)",
          "rgba(67,55,128,1)",
          "rgba(67,55,128,1)",
          "rgba(67,55,128,1)",
          "rgba(67,55,128,1)",
          "rgba(67,55,128,1)",
          "rgba(67,55,128,1)",
          "rgba(67,55,128,1)",
          "rgba(67,55,128,1)",
          "rgba(67,55,128,1)",
          "rgba(67,55,128,1)",
          "rgba(67,55,128,1)",
          "rgba(67,55,128,1)",
          "rgba(67,55,128,1)",
          "rgba(67,55,128,1)",
          "rgba(67,55,128,1)",
          "rgba(67,55,128,1)",
          "rgba(67,55,128,1)",
          "rgba(67,55,128,1)",
          "rgba(67,55,128,1)",
          "rgba(67,55,128,1)",
          "rgba(70,22,103,1)",
          "rgba(70,22,103,1)",
          "rgba(70,22,103,1)",
          "rgba(70,22,103,1)",
          "rgba(70,22,103,1)",
          "rgba(70,22,103,1)",
          "rgba(70,22,103,1)",
          "rgba(70,22,103,1)",
          "rgba(70,22,103,1)",
          "rgba(70,22,103,1)",
          "rgba(70,22,103,1)",
          "rgba(70,22,103,1)",
          "rgba(70,22,103,1)",
          "rgba(70,22,103,1)",
          "rgba(70,22,103,1)",
          "rgba(70,22,103,1)",
          "rgba(70,22,103,1)",
          "rgba(70,22,103,1)",
          "rgba(70,22,103,1)",
          "rgba(70,22,103,1)",
          "rgba(68,3,86,1)",
          "rgba(68,3,86,1)",
          "rgba(68,3,86,1)",
          "rgba(68,3,86,1)",
          "rgba(68,3,86,1)",
          "rgba(68,3,86,1)",
          "rgba(68,3,86,1)",
          "rgba(68,3,86,1)",
          "rgba(68,3,86,1)",
          "rgba(68,3,86,1)",
          "rgba(68,3,86,1)",
          "rgba(68,3,86,1)",
          "rgba(68,3,86,1)",
          "rgba(68,3,86,1)",
          "rgba(68,3,86,1)",
          "rgba(68,3,86,1)",
          "rgba(68,3,86,1)",
          "rgba(68,3,86,1)",
          "rgba(68,3,86,1)",
          "rgba(68,3,86,1)",
          "rgba(68,3,86,1)",
          "rgba(68,3,86,1)",
          "rgba(68,3,86,1)",
          "rgba(68,3,86,1)",
          "rgba(68,3,86,1)",
          "rgba(68,3,86,1)",
          "rgba(68,3,86,1)",
          "rgba(68,3,86,1)",
          "rgba(68,3,86,1)",
          "rgba(68,3,86,1)",
          "rgba(68,3,86,1)",
          "rgba(68,3,86,1)",
          "rgba(68,3,86,1)",
          "rgba(68,3,86,1)",
          "rgba(68,3,86,1)",
          "rgba(68,3,86,1)",
          "rgba(68,3,86,1)",
          "rgba(68,3,86,1)",
          "rgba(68,3,86,1)",
          "rgba(68,3,86,1)",
          "rgba(70,22,103,1)",
          "rgba(70,22,103,1)",
          "rgba(70,22,103,1)",
          "rgba(70,22,103,1)",
          "rgba(70,22,103,1)",
          "rgba(70,22,103,1)",
          "rgba(70,22,103,1)",
          "rgba(70,22,103,1)",
          "rgba(70,22,103,1)",
          "rgba(70,22,103,1)",
          "rgba(70,22,103,1)",
          "rgba(70,22,103,1)",
          "rgba(70,22,103,1)",
          "rgba(70,22,103,1)",
          "rgba(70,22,103,1)",
          "rgba(70,22,103,1)",
          "rgba(70,22,103,1)",
          "rgba(70,22,103,1)",
          "rgba(70,22,103,1)",
          "rgba(70,22,103,1)",
          "rgba(67,55,128,1)",
          "rgba(67,55,128,1)",
          "rgba(67,55,128,1)",
          "rgba(67,55,128,1)",
          "rgba(67,55,128,1)",
          "rgba(67,55,128,1)",
          "rgba(67,55,128,1)",
          "rgba(67,55,128,1)",
          "rgba(67,55,128,1)",
          "rgba(67,55,128,1)",
          "rgba(67,55,128,1)",
          "rgba(67,55,128,1)",
          "rgba(67,55,128,1)",
          "rgba(67,55,128,1)",
          "rgba(67,55,128,1)",
          "rgba(67,55,128,1)",
          "rgba(67,55,128,1)",
          "rgba(67,55,128,1)",
          "rgba(67,55,128,1)",
          "rgba(67,55,128,1)",
          "rgba(52,94,140,1)",
          "rgba(52,94,140,1)",
          "rgba(52,94,140,1)",
          "rgba(52,94,140,1)",
          "rgba(52,94,140,1)",
          "rgba(52,94,140,1)",
          "rgba(52,94,140,1)",
          "rgba(52,94,140,1)",
          "rgba(52,94,140,1)",
          "rgba(52,94,140,1)",
          "rgba(52,94,140,1)",
          "rgba(52,94,140,1)",
          "rgba(52,94,140,1)",
          "rgba(52,94,140,1)",
          "rgba(52,94,140,1)",
          "rgba(52,94,140,1)",
          "rgba(52,94,140,1)",
          "rgba(52,94,140,1)",
          "rgba(52,94,140,1)",
          "rgba(52,94,140,1)",
          "rgba(36,134,141,1)",
          "rgba(36,134,141,1)",
          "rgba(36,134,141,1)",
          "rgba(36,134,141,1)",
          "rgba(36,134,141,1)",
          "rgba(36,134,141,1)",
          "rgba(36,134,141,1)",
          "rgba(36,134,141,1)",
          "rgba(36,134,141,1)",
          "rgba(36,134,141,1)",
          "rgba(36,134,141,1)",
          "rgba(36,134,141,1)",
          "rgba(36,134,141,1)",
          "rgba(36,134,141,1)",
          "rgba(36,134,141,1)",
          "rgba(36,134,141,1)",
          "rgba(36,134,141,1)",
          "rgba(36,134,141,1)",
          "rgba(36,134,141,1)",
          "rgba(36,134,141,1)",
          "rgba(42,173,127,1)",
          "rgba(42,173,127,1)",
          "rgba(42,173,127,1)",
          "rgba(42,173,127,1)",
          "rgba(42,173,127,1)",
          "rgba(42,173,127,1)",
          "rgba(42,173,127,1)",
          "rgba(42,173,127,1)",
          "rgba(42,173,127,1)",
          "rgba(42,173,127,1)",
          "rgba(42,173,127,1)",
          "rgba(42,173,127,1)",
          "rgba(42,173,127,1)",
          "rgba(42,173,127,1)",
          "rgba(42,173,127,1)",
          "rgba(42,173,127,1)",
          "rgba(42,173,127,1)",
          "rgba(42,173,127,1)",
          "rgba(42,173,127,1)",
          "rgba(42,173,127,1)",
          "rgba(107,204,89,1)",
          "rgba(107,204,89,1)",
          "rgba(107,204,89,1)",
          "rgba(107,204,89,1)",
          "rgba(107,204,89,1)",
          "rgba(107,204,89,1)",
          "rgba(107,204,89,1)",
          "rgba(107,204,89,1)",
          "rgba(107,204,89,1)",
          "rgba(107,204,89,1)",
          "rgba(107,204,89,1)",
          "rgba(107,204,89,1)",
          "rgba(107,204,89,1)",
          "rgba(107,204,89,1)",
          "rgba(107,204,89,1)",
          "rgba(107,204,89,1)",
          "rgba(107,204,89,1)",
          "rgba(107,204,89,1)",
          "rgba(107,204,89,1)",
          "rgba(107,204,89,1)",
          "rgba(185,222,40,1)",
          "rgba(185,222,40,1)",
          "rgba(185,222,40,1)",
          "rgba(185,222,40,1)",
          "rgba(185,222,40,1)",
          "rgba(185,222,40,1)",
          "rgba(185,222,40,1)",
          "rgba(185,222,40,1)",
          "rgba(185,222,40,1)",
          "rgba(185,222,40,1)",
          "rgba(185,222,40,1)",
          "rgba(185,222,40,1)",
          "rgba(185,222,40,1)",
          "rgba(185,222,40,1)",
          "rgba(185,222,40,1)",
          "rgba(185,222,40,1)",
          "rgba(185,222,40,1)",
          "rgba(185,222,40,1)",
          "rgba(185,222,40,1)",
          "rgba(185,222,40,1)",
          "rgba(235,228,37,1)",
          "rgba(235,228,37,1)",
          "rgba(235,228,37,1)",
          "rgba(235,228,37,1)",
          "rgba(235,228,37,1)",
          "rgba(235,228,37,1)",
          "rgba(235,228,37,1)",
          "rgba(235,228,37,1)",
          "rgba(235,228,37,1)",
          "rgba(235,228,37,1)",
          "rgba(235,228,37,1)",
          "rgba(235,228,37,1)",
          "rgba(235,228,37,1)",
          "rgba(235,228,37,1)",
          "rgba(235,228,37,1)",
          "rgba(235,228,37,1)",
          "rgba(235,228,37,1)",
          "rgba(235,228,37,1)",
          "rgba(235,228,37,1)",
          "rgba(235,228,37,1)",
          "rgba(253,231,36,1)",
          "rgba(253,231,36,1)",
          "rgba(253,231,36,1)",
          "rgba(253,231,36,1)",
          "rgba(253,231,36,1)",
          "rgba(253,231,36,1)",
          "rgba(253,231,36,1)",
          "rgba(253,231,36,1)",
          "rgba(253,231,36,1)",
          "rgba(253,231,36,1)",
          "rgba(253,231,36,1)",
          "rgba(253,231,36,1)",
          "rgba(253,231,36,1)",
          "rgba(253,231,36,1)",
          "rgba(253,231,36,1)",
          "rgba(253,231,36,1)",
          "rgba(253,231,36,1)",
          "rgba(253,231,36,1)",
          "rgba(253,231,36,1)",
          "rgba(253,231,36,1)"
         ],
         "x": {
          "dtype": "float64",
          "shape": [
           400
          ],
          "value": {}
         },
         "y": {
          "dtype": "float64",
          "shape": [
           400
          ],
          "value": {}
         },
         "z": {
          "dtype": "float64",
          "shape": [
           400
          ],
          "value": {}
         }
        }
       ],
       "_js2py_pointsCallback": {},
       "_js2py_relayout": {},
       "_js2py_restyle": {},
       "_js2py_update": {},
       "_last_layout_edit_id": 1,
       "_last_trace_edit_id": 1,
       "_layout": {
        "margin": {
         "b": 0,
         "l": 0,
         "r": 0,
         "t": 0
        },
        "scene": {
         "xaxis": {
          "color": "white",
          "title": {
           "text": "s1"
          }
         },
         "yaxis": {
          "color": "white",
          "title": {
           "text": "s2"
          }
         },
         "zaxis": {
          "color": "white",
          "title": {
           "text": "s3"
          }
         }
        },
        "showlegend": false,
        "template": {
         "data": {
          "bar": [
           {
            "error_x": {
             "color": "#2a3f5f"
            },
            "error_y": {
             "color": "#2a3f5f"
            },
            "marker": {
             "line": {
              "color": "#E5ECF6",
              "width": 0.5
             }
            },
            "type": "bar"
           }
          ],
          "barpolar": [
           {
            "marker": {
             "line": {
              "color": "#E5ECF6",
              "width": 0.5
             }
            },
            "type": "barpolar"
           }
          ],
          "carpet": [
           {
            "aaxis": {
             "endlinecolor": "#2a3f5f",
             "gridcolor": "white",
             "linecolor": "white",
             "minorgridcolor": "white",
             "startlinecolor": "#2a3f5f"
            },
            "baxis": {
             "endlinecolor": "#2a3f5f",
             "gridcolor": "white",
             "linecolor": "white",
             "minorgridcolor": "white",
             "startlinecolor": "#2a3f5f"
            },
            "type": "carpet"
           }
          ],
          "choropleth": [
           {
            "colorbar": {
             "outlinewidth": 0,
             "ticks": ""
            },
            "type": "choropleth"
           }
          ],
          "contour": [
           {
            "colorbar": {
             "outlinewidth": 0,
             "ticks": ""
            },
            "colorscale": [
             [
              0,
              "#0d0887"
             ],
             [
              0.1111111111111111,
              "#46039f"
             ],
             [
              0.2222222222222222,
              "#7201a8"
             ],
             [
              0.3333333333333333,
              "#9c179e"
             ],
             [
              0.4444444444444444,
              "#bd3786"
             ],
             [
              0.5555555555555556,
              "#d8576b"
             ],
             [
              0.6666666666666666,
              "#ed7953"
             ],
             [
              0.7777777777777778,
              "#fb9f3a"
             ],
             [
              0.8888888888888888,
              "#fdca26"
             ],
             [
              1,
              "#f0f921"
             ]
            ],
            "type": "contour"
           }
          ],
          "contourcarpet": [
           {
            "colorbar": {
             "outlinewidth": 0,
             "ticks": ""
            },
            "type": "contourcarpet"
           }
          ],
          "heatmap": [
           {
            "colorbar": {
             "outlinewidth": 0,
             "ticks": ""
            },
            "colorscale": [
             [
              0,
              "#0d0887"
             ],
             [
              0.1111111111111111,
              "#46039f"
             ],
             [
              0.2222222222222222,
              "#7201a8"
             ],
             [
              0.3333333333333333,
              "#9c179e"
             ],
             [
              0.4444444444444444,
              "#bd3786"
             ],
             [
              0.5555555555555556,
              "#d8576b"
             ],
             [
              0.6666666666666666,
              "#ed7953"
             ],
             [
              0.7777777777777778,
              "#fb9f3a"
             ],
             [
              0.8888888888888888,
              "#fdca26"
             ],
             [
              1,
              "#f0f921"
             ]
            ],
            "type": "heatmap"
           }
          ],
          "heatmapgl": [
           {
            "colorbar": {
             "outlinewidth": 0,
             "ticks": ""
            },
            "colorscale": [
             [
              0,
              "#0d0887"
             ],
             [
              0.1111111111111111,
              "#46039f"
             ],
             [
              0.2222222222222222,
              "#7201a8"
             ],
             [
              0.3333333333333333,
              "#9c179e"
             ],
             [
              0.4444444444444444,
              "#bd3786"
             ],
             [
              0.5555555555555556,
              "#d8576b"
             ],
             [
              0.6666666666666666,
              "#ed7953"
             ],
             [
              0.7777777777777778,
              "#fb9f3a"
             ],
             [
              0.8888888888888888,
              "#fdca26"
             ],
             [
              1,
              "#f0f921"
             ]
            ],
            "type": "heatmapgl"
           }
          ],
          "histogram": [
           {
            "marker": {
             "colorbar": {
              "outlinewidth": 0,
              "ticks": ""
             }
            },
            "type": "histogram"
           }
          ],
          "histogram2d": [
           {
            "colorbar": {
             "outlinewidth": 0,
             "ticks": ""
            },
            "colorscale": [
             [
              0,
              "#0d0887"
             ],
             [
              0.1111111111111111,
              "#46039f"
             ],
             [
              0.2222222222222222,
              "#7201a8"
             ],
             [
              0.3333333333333333,
              "#9c179e"
             ],
             [
              0.4444444444444444,
              "#bd3786"
             ],
             [
              0.5555555555555556,
              "#d8576b"
             ],
             [
              0.6666666666666666,
              "#ed7953"
             ],
             [
              0.7777777777777778,
              "#fb9f3a"
             ],
             [
              0.8888888888888888,
              "#fdca26"
             ],
             [
              1,
              "#f0f921"
             ]
            ],
            "type": "histogram2d"
           }
          ],
          "histogram2dcontour": [
           {
            "colorbar": {
             "outlinewidth": 0,
             "ticks": ""
            },
            "colorscale": [
             [
              0,
              "#0d0887"
             ],
             [
              0.1111111111111111,
              "#46039f"
             ],
             [
              0.2222222222222222,
              "#7201a8"
             ],
             [
              0.3333333333333333,
              "#9c179e"
             ],
             [
              0.4444444444444444,
              "#bd3786"
             ],
             [
              0.5555555555555556,
              "#d8576b"
             ],
             [
              0.6666666666666666,
              "#ed7953"
             ],
             [
              0.7777777777777778,
              "#fb9f3a"
             ],
             [
              0.8888888888888888,
              "#fdca26"
             ],
             [
              1,
              "#f0f921"
             ]
            ],
            "type": "histogram2dcontour"
           }
          ],
          "mesh3d": [
           {
            "colorbar": {
             "outlinewidth": 0,
             "ticks": ""
            },
            "type": "mesh3d"
           }
          ],
          "parcoords": [
           {
            "line": {
             "colorbar": {
              "outlinewidth": 0,
              "ticks": ""
             }
            },
            "type": "parcoords"
           }
          ],
          "pie": [
           {
            "automargin": true,
            "type": "pie"
           }
          ],
          "scatter": [
           {
            "marker": {
             "colorbar": {
              "outlinewidth": 0,
              "ticks": ""
             }
            },
            "type": "scatter"
           }
          ],
          "scatter3d": [
           {
            "line": {
             "colorbar": {
              "outlinewidth": 0,
              "ticks": ""
             }
            },
            "marker": {
             "colorbar": {
              "outlinewidth": 0,
              "ticks": ""
             }
            },
            "type": "scatter3d"
           }
          ],
          "scattercarpet": [
           {
            "marker": {
             "colorbar": {
              "outlinewidth": 0,
              "ticks": ""
             }
            },
            "type": "scattercarpet"
           }
          ],
          "scattergeo": [
           {
            "marker": {
             "colorbar": {
              "outlinewidth": 0,
              "ticks": ""
             }
            },
            "type": "scattergeo"
           }
          ],
          "scattergl": [
           {
            "marker": {
             "colorbar": {
              "outlinewidth": 0,
              "ticks": ""
             }
            },
            "type": "scattergl"
           }
          ],
          "scattermapbox": [
           {
            "marker": {
             "colorbar": {
              "outlinewidth": 0,
              "ticks": ""
             }
            },
            "type": "scattermapbox"
           }
          ],
          "scatterpolar": [
           {
            "marker": {
             "colorbar": {
              "outlinewidth": 0,
              "ticks": ""
             }
            },
            "type": "scatterpolar"
           }
          ],
          "scatterpolargl": [
           {
            "marker": {
             "colorbar": {
              "outlinewidth": 0,
              "ticks": ""
             }
            },
            "type": "scatterpolargl"
           }
          ],
          "scatterternary": [
           {
            "marker": {
             "colorbar": {
              "outlinewidth": 0,
              "ticks": ""
             }
            },
            "type": "scatterternary"
           }
          ],
          "surface": [
           {
            "colorbar": {
             "outlinewidth": 0,
             "ticks": ""
            },
            "colorscale": [
             [
              0,
              "#0d0887"
             ],
             [
              0.1111111111111111,
              "#46039f"
             ],
             [
              0.2222222222222222,
              "#7201a8"
             ],
             [
              0.3333333333333333,
              "#9c179e"
             ],
             [
              0.4444444444444444,
              "#bd3786"
             ],
             [
              0.5555555555555556,
              "#d8576b"
             ],
             [
              0.6666666666666666,
              "#ed7953"
             ],
             [
              0.7777777777777778,
              "#fb9f3a"
             ],
             [
              0.8888888888888888,
              "#fdca26"
             ],
             [
              1,
              "#f0f921"
             ]
            ],
            "type": "surface"
           }
          ],
          "table": [
           {
            "cells": {
             "fill": {
              "color": "#EBF0F8"
             },
             "line": {
              "color": "white"
             }
            },
            "header": {
             "fill": {
              "color": "#C8D4E3"
             },
             "line": {
              "color": "white"
             }
            },
            "type": "table"
           }
          ]
         },
         "layout": {
          "annotationdefaults": {
           "arrowcolor": "#2a3f5f",
           "arrowhead": 0,
           "arrowwidth": 1
          },
          "coloraxis": {
           "colorbar": {
            "outlinewidth": 0,
            "ticks": ""
           }
          },
          "colorscale": {
           "diverging": [
            [
             0,
             "#8e0152"
            ],
            [
             0.1,
             "#c51b7d"
            ],
            [
             0.2,
             "#de77ae"
            ],
            [
             0.3,
             "#f1b6da"
            ],
            [
             0.4,
             "#fde0ef"
            ],
            [
             0.5,
             "#f7f7f7"
            ],
            [
             0.6,
             "#e6f5d0"
            ],
            [
             0.7,
             "#b8e186"
            ],
            [
             0.8,
             "#7fbc41"
            ],
            [
             0.9,
             "#4d9221"
            ],
            [
             1,
             "#276419"
            ]
           ],
           "sequential": [
            [
             0,
             "#0d0887"
            ],
            [
             0.1111111111111111,
             "#46039f"
            ],
            [
             0.2222222222222222,
             "#7201a8"
            ],
            [
             0.3333333333333333,
             "#9c179e"
            ],
            [
             0.4444444444444444,
             "#bd3786"
            ],
            [
             0.5555555555555556,
             "#d8576b"
            ],
            [
             0.6666666666666666,
             "#ed7953"
            ],
            [
             0.7777777777777778,
             "#fb9f3a"
            ],
            [
             0.8888888888888888,
             "#fdca26"
            ],
            [
             1,
             "#f0f921"
            ]
           ],
           "sequentialminus": [
            [
             0,
             "#0d0887"
            ],
            [
             0.1111111111111111,
             "#46039f"
            ],
            [
             0.2222222222222222,
             "#7201a8"
            ],
            [
             0.3333333333333333,
             "#9c179e"
            ],
            [
             0.4444444444444444,
             "#bd3786"
            ],
            [
             0.5555555555555556,
             "#d8576b"
            ],
            [
             0.6666666666666666,
             "#ed7953"
            ],
            [
             0.7777777777777778,
             "#fb9f3a"
            ],
            [
             0.8888888888888888,
             "#fdca26"
            ],
            [
             1,
             "#f0f921"
            ]
           ]
          },
          "colorway": [
           "#636efa",
           "#EF553B",
           "#00cc96",
           "#ab63fa",
           "#FFA15A",
           "#19d3f3",
           "#FF6692",
           "#B6E880",
           "#FF97FF",
           "#FECB52"
          ],
          "font": {
           "color": "#2a3f5f"
          },
          "geo": {
           "bgcolor": "white",
           "lakecolor": "white",
           "landcolor": "#E5ECF6",
           "showlakes": true,
           "showland": true,
           "subunitcolor": "white"
          },
          "hoverlabel": {
           "align": "left"
          },
          "hovermode": "closest",
          "mapbox": {
           "style": "light"
          },
          "paper_bgcolor": "white",
          "plot_bgcolor": "#E5ECF6",
          "polar": {
           "angularaxis": {
            "gridcolor": "white",
            "linecolor": "white",
            "ticks": ""
           },
           "bgcolor": "#E5ECF6",
           "radialaxis": {
            "gridcolor": "white",
            "linecolor": "white",
            "ticks": ""
           }
          },
          "scene": {
           "xaxis": {
            "backgroundcolor": "#E5ECF6",
            "gridcolor": "white",
            "gridwidth": 2,
            "linecolor": "white",
            "showbackground": true,
            "ticks": "",
            "zerolinecolor": "white"
           },
           "yaxis": {
            "backgroundcolor": "#E5ECF6",
            "gridcolor": "white",
            "gridwidth": 2,
            "linecolor": "white",
            "showbackground": true,
            "ticks": "",
            "zerolinecolor": "white"
           },
           "zaxis": {
            "backgroundcolor": "#E5ECF6",
            "gridcolor": "white",
            "gridwidth": 2,
            "linecolor": "white",
            "showbackground": true,
            "ticks": "",
            "zerolinecolor": "white"
           }
          },
          "shapedefaults": {
           "line": {
            "color": "#2a3f5f"
           }
          },
          "ternary": {
           "aaxis": {
            "gridcolor": "white",
            "linecolor": "white",
            "ticks": ""
           },
           "baxis": {
            "gridcolor": "white",
            "linecolor": "white",
            "ticks": ""
           },
           "bgcolor": "#E5ECF6",
           "caxis": {
            "gridcolor": "white",
            "linecolor": "white",
            "ticks": ""
           }
          },
          "title": {
           "x": 0.05
          },
          "xaxis": {
           "automargin": true,
           "gridcolor": "white",
           "linecolor": "white",
           "ticks": "",
           "title": {
            "standoff": 15
           },
           "zerolinecolor": "white",
           "zerolinewidth": 2
          },
          "yaxis": {
           "automargin": true,
           "gridcolor": "white",
           "linecolor": "white",
           "ticks": "",
           "title": {
            "standoff": 15
           },
           "zerolinecolor": "white",
           "zerolinewidth": 2
          }
         }
        }
       },
       "_py2js_addTraces": {},
       "_py2js_animate": {},
       "_py2js_deleteTraces": {},
       "_py2js_moveTraces": {},
       "_py2js_removeTraceProps": {},
       "_py2js_restyle": {},
       "_view_count": 1
      }
     },
     "8bab204f7ce54233ab4ebbfd0c91e372": {
      "model_module": "@jupyter-widgets/controls",
      "model_module_version": "1.5.0",
      "model_name": "SliderStyleModel",
      "state": {
       "description_width": ""
      }
     },
     "8fd4b356b8714acea1e6f200c3b55cae": {
      "model_module": "@jupyter-widgets/controls",
      "model_module_version": "1.5.0",
      "model_name": "VBoxModel",
      "state": {
       "_dom_classes": [
        "widget-interact"
       ],
       "children": [
        "IPY_MODEL_2c208800f2b54e1dbd1f32c506236bbc",
        "IPY_MODEL_604c7027744743a9ac12518692d2f4b1",
        "IPY_MODEL_b6c07504eb67497299014527e1111945"
       ],
       "layout": "IPY_MODEL_5e5eebaad56a411eb10c25752dfae9a0"
      }
     },
     "9135e8494e7046659bc20b0c77e48beb": {
      "model_module": "@jupyter-widgets/controls",
      "model_module_version": "1.5.0",
      "model_name": "SliderStyleModel",
      "state": {
       "description_width": ""
      }
     },
     "98cd460acb3c4485971fca4473e69542": {
      "model_module": "@jupyter-widgets/controls",
      "model_module_version": "1.5.0",
      "model_name": "IntSliderModel",
      "state": {
       "description": "rotation angle of waveplate",
       "layout": "IPY_MODEL_2de40eb8fd3849ef9acbc78c6803a79c",
       "max": 180,
       "style": "IPY_MODEL_d2141f4cb2a3458f92ac1801a19994a1"
      }
     },
     "9c9c19ed9c5843a3b8b769cca0fee350": {
      "model_module": "@jupyter-widgets/controls",
      "model_module_version": "1.5.0",
      "model_name": "SliderStyleModel",
      "state": {
       "description_width": ""
      }
     },
     "9d413a078a124d578cc4dcb787416b3a": {
      "buffers": [
       {
        "data": "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",
        "encoding": "base64",
        "path": [
         "_data",
         0,
         "marker",
         "color",
         "value"
        ]
       },
       {
        "data": "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",
        "encoding": "base64",
        "path": [
         "_data",
         0,
         "x",
         "value"
        ]
       },
       {
        "data": "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",
        "encoding": "base64",
        "path": [
         "_data",
         0,
         "y",
         "value"
        ]
       },
       {
        "data": "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",
        "encoding": "base64",
        "path": [
         "_data",
         0,
         "z",
         "value"
        ]
       },
       {
        "data": "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",
        "encoding": "base64",
        "path": [
         "_data",
         5,
         "x",
         "value"
        ]
       },
       {
        "data": "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",
        "encoding": "base64",
        "path": [
         "_data",
         5,
         "y",
         "value"
        ]
       },
       {
        "data": "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",
        "encoding": "base64",
        "path": [
         "_data",
         5,
         "z",
         "value"
        ]
       }
      ],
      "model_module": "plotlywidget",
      "model_module_version": "^4.13.0",
      "model_name": "FigureModel",
      "state": {
       "_config": {
        "plotlyServerURL": "https://plot.ly"
       },
       "_data": [
        {
         "marker": {
          "color": {
           "dtype": "float64",
           "shape": [
            400
           ],
           "value": {}
          },
          "colorscale": [
           [
            0,
            "#440154"
           ],
           [
            0.1111111111111111,
            "#482878"
           ],
           [
            0.2222222222222222,
            "#3e4989"
           ],
           [
            0.3333333333333333,
            "#31688e"
           ],
           [
            0.4444444444444444,
            "#26828e"
           ],
           [
            0.5555555555555556,
            "#1f9e89"
           ],
           [
            0.6666666666666666,
            "#35b779"
           ],
           [
            0.7777777777777778,
            "#6ece58"
           ],
           [
            0.8888888888888888,
            "#b5de2b"
           ],
           [
            1,
            "#fde725"
           ]
          ],
          "opacity": 0.5,
          "size": 3
         },
         "mode": "markers",
         "type": "scatter3d",
         "uid": "ac7bfded-472b-429d-bd69-328ff192b188",
         "x": {
          "dtype": "float64",
          "shape": [
           400
          ],
          "value": {}
         },
         "y": {
          "dtype": "float64",
          "shape": [
           400
          ],
          "value": {}
         },
         "z": {
          "dtype": "float64",
          "shape": [
           400
          ],
          "value": {}
         }
        },
        {
         "line": {
          "color": "rgba(255,0,0,0.5)",
          "width": 5
         },
         "mode": "lines",
         "type": "scatter3d",
         "uid": "b7d851e4-5577-43b9-8eaa-83543a764ddb",
         "x": [
          0,
          1
         ],
         "y": [
          0,
          0
         ],
         "z": [
          0,
          0
         ]
        },
        {
         "line": {
          "color": "rgba(0,255,0,0.5)",
          "width": 5
         },
         "mode": "lines",
         "type": "scatter3d",
         "uid": "0221c443-7068-41b7-937d-c66fa43e2ea8",
         "x": [
          0,
          0
         ],
         "y": [
          0,
          1
         ],
         "z": [
          0,
          0
         ]
        },
        {
         "line": {
          "color": "rgba(0,0,255,0.5)",
          "width": 5
         },
         "mode": "lines",
         "type": "scatter3d",
         "uid": "2c90855f-0bd5-43a8-a511-c4335c65fd69",
         "x": [
          0,
          0
         ],
         "y": [
          0,
          0
         ],
         "z": [
          0,
          1
         ]
        },
        {
         "line": {
          "color": "rgba(255,0,255,0.8)",
          "width": 5
         },
         "mode": "lines",
         "type": "scatter3d",
         "uid": "0b7b7c5f-ca98-4550-ad74-28d0a5e44712",
         "x": [],
         "y": [],
         "z": []
        },
        {
         "alphahull": 0,
         "flatshading": true,
         "opacity": 0.4,
         "type": "mesh3d",
         "uid": "21227c9c-17a5-4ecb-b51d-e9f85dc4edc9",
         "vertexcolor": [
          "rgba(253,231,36,1)",
          "rgba(253,231,36,1)",
          "rgba(253,231,36,1)",
          "rgba(253,231,36,1)",
          "rgba(253,231,36,1)",
          "rgba(253,231,36,1)",
          "rgba(253,231,36,1)",
          "rgba(253,231,36,1)",
          "rgba(253,231,36,1)",
          "rgba(253,231,36,1)",
          "rgba(253,231,36,1)",
          "rgba(253,231,36,1)",
          "rgba(253,231,36,1)",
          "rgba(253,231,36,1)",
          "rgba(253,231,36,1)",
          "rgba(253,231,36,1)",
          "rgba(253,231,36,1)",
          "rgba(253,231,36,1)",
          "rgba(253,231,36,1)",
          "rgba(253,231,36,1)",
          "rgba(235,228,37,1)",
          "rgba(235,228,37,1)",
          "rgba(235,228,37,1)",
          "rgba(235,228,37,1)",
          "rgba(235,228,37,1)",
          "rgba(235,228,37,1)",
          "rgba(235,228,37,1)",
          "rgba(235,228,37,1)",
          "rgba(235,228,37,1)",
          "rgba(235,228,37,1)",
          "rgba(235,228,37,1)",
          "rgba(235,228,37,1)",
          "rgba(235,228,37,1)",
          "rgba(235,228,37,1)",
          "rgba(235,228,37,1)",
          "rgba(235,228,37,1)",
          "rgba(235,228,37,1)",
          "rgba(235,228,37,1)",
          "rgba(235,228,37,1)",
          "rgba(235,228,37,1)",
          "rgba(185,222,40,1)",
          "rgba(185,222,40,1)",
          "rgba(185,222,40,1)",
          "rgba(185,222,40,1)",
          "rgba(185,222,40,1)",
          "rgba(185,222,40,1)",
          "rgba(185,222,40,1)",
          "rgba(185,222,40,1)",
          "rgba(185,222,40,1)",
          "rgba(185,222,40,1)",
          "rgba(185,222,40,1)",
          "rgba(185,222,40,1)",
          "rgba(185,222,40,1)",
          "rgba(185,222,40,1)",
          "rgba(185,222,40,1)",
          "rgba(185,222,40,1)",
          "rgba(185,222,40,1)",
          "rgba(185,222,40,1)",
          "rgba(185,222,40,1)",
          "rgba(185,222,40,1)",
          "rgba(107,204,89,1)",
          "rgba(107,204,89,1)",
          "rgba(107,204,89,1)",
          "rgba(107,204,89,1)",
          "rgba(107,204,89,1)",
          "rgba(107,204,89,1)",
          "rgba(107,204,89,1)",
          "rgba(107,204,89,1)",
          "rgba(107,204,89,1)",
          "rgba(107,204,89,1)",
          "rgba(107,204,89,1)",
          "rgba(107,204,89,1)",
          "rgba(107,204,89,1)",
          "rgba(107,204,89,1)",
          "rgba(107,204,89,1)",
          "rgba(107,204,89,1)",
          "rgba(107,204,89,1)",
          "rgba(107,204,89,1)",
          "rgba(107,204,89,1)",
          "rgba(107,204,89,1)",
          "rgba(42,173,127,1)",
          "rgba(42,173,127,1)",
          "rgba(42,173,127,1)",
          "rgba(42,173,127,1)",
          "rgba(42,173,127,1)",
          "rgba(42,173,127,1)",
          "rgba(42,173,127,1)",
          "rgba(42,173,127,1)",
          "rgba(42,173,127,1)",
          "rgba(42,173,127,1)",
          "rgba(42,173,127,1)",
          "rgba(42,173,127,1)",
          "rgba(42,173,127,1)",
          "rgba(42,173,127,1)",
          "rgba(42,173,127,1)",
          "rgba(42,173,127,1)",
          "rgba(42,173,127,1)",
          "rgba(42,173,127,1)",
          "rgba(42,173,127,1)",
          "rgba(42,173,127,1)",
          "rgba(36,134,141,1)",
          "rgba(36,134,141,1)",
          "rgba(36,134,141,1)",
          "rgba(36,134,141,1)",
          "rgba(36,134,141,1)",
          "rgba(36,134,141,1)",
          "rgba(36,134,141,1)",
          "rgba(36,134,141,1)",
          "rgba(36,134,141,1)",
          "rgba(36,134,141,1)",
          "rgba(36,134,141,1)",
          "rgba(36,134,141,1)",
          "rgba(36,134,141,1)",
          "rgba(36,134,141,1)",
          "rgba(36,134,141,1)",
          "rgba(36,134,141,1)",
          "rgba(36,134,141,1)",
          "rgba(36,134,141,1)",
          "rgba(36,134,141,1)",
          "rgba(36,134,141,1)",
          "rgba(52,94,140,1)",
          "rgba(52,94,140,1)",
          "rgba(52,94,140,1)",
          "rgba(52,94,140,1)",
          "rgba(52,94,140,1)",
          "rgba(52,94,140,1)",
          "rgba(52,94,140,1)",
          "rgba(52,94,140,1)",
          "rgba(52,94,140,1)",
          "rgba(52,94,140,1)",
          "rgba(52,94,140,1)",
          "rgba(52,94,140,1)",
          "rgba(52,94,140,1)",
          "rgba(52,94,140,1)",
          "rgba(52,94,140,1)",
          "rgba(52,94,140,1)",
          "rgba(52,94,140,1)",
          "rgba(52,94,140,1)",
          "rgba(52,94,140,1)",
          "rgba(52,94,140,1)",
          "rgba(67,55,128,1)",
          "rgba(67,55,128,1)",
          "rgba(67,55,128,1)",
          "rgba(67,55,128,1)",
          "rgba(67,55,128,1)",
          "rgba(67,55,128,1)",
          "rgba(67,55,128,1)",
          "rgba(67,55,128,1)",
          "rgba(67,55,128,1)",
          "rgba(67,55,128,1)",
          "rgba(67,55,128,1)",
          "rgba(67,55,128,1)",
          "rgba(67,55,128,1)",
          "rgba(67,55,128,1)",
          "rgba(67,55,128,1)",
          "rgba(67,55,128,1)",
          "rgba(67,55,128,1)",
          "rgba(67,55,128,1)",
          "rgba(67,55,128,1)",
          "rgba(67,55,128,1)",
          "rgba(70,22,103,1)",
          "rgba(70,22,103,1)",
          "rgba(70,22,103,1)",
          "rgba(70,22,103,1)",
          "rgba(70,22,103,1)",
          "rgba(70,22,103,1)",
          "rgba(70,22,103,1)",
          "rgba(70,22,103,1)",
          "rgba(70,22,103,1)",
          "rgba(70,22,103,1)",
          "rgba(70,22,103,1)",
          "rgba(70,22,103,1)",
          "rgba(70,22,103,1)",
          "rgba(70,22,103,1)",
          "rgba(70,22,103,1)",
          "rgba(70,22,103,1)",
          "rgba(70,22,103,1)",
          "rgba(70,22,103,1)",
          "rgba(70,22,103,1)",
          "rgba(70,22,103,1)",
          "rgba(68,3,86,1)",
          "rgba(68,3,86,1)",
          "rgba(68,3,86,1)",
          "rgba(68,3,86,1)",
          "rgba(68,3,86,1)",
          "rgba(68,3,86,1)",
          "rgba(68,3,86,1)",
          "rgba(68,3,86,1)",
          "rgba(68,3,86,1)",
          "rgba(68,3,86,1)",
          "rgba(68,3,86,1)",
          "rgba(68,3,86,1)",
          "rgba(68,3,86,1)",
          "rgba(68,3,86,1)",
          "rgba(68,3,86,1)",
          "rgba(68,3,86,1)",
          "rgba(68,3,86,1)",
          "rgba(68,3,86,1)",
          "rgba(68,3,86,1)",
          "rgba(68,3,86,1)",
          "rgba(68,3,86,1)",
          "rgba(68,3,86,1)",
          "rgba(68,3,86,1)",
          "rgba(68,3,86,1)",
          "rgba(68,3,86,1)",
          "rgba(68,3,86,1)",
          "rgba(68,3,86,1)",
          "rgba(68,3,86,1)",
          "rgba(68,3,86,1)",
          "rgba(68,3,86,1)",
          "rgba(68,3,86,1)",
          "rgba(68,3,86,1)",
          "rgba(68,3,86,1)",
          "rgba(68,3,86,1)",
          "rgba(68,3,86,1)",
          "rgba(68,3,86,1)",
          "rgba(68,3,86,1)",
          "rgba(68,3,86,1)",
          "rgba(68,3,86,1)",
          "rgba(68,3,86,1)",
          "rgba(70,22,103,1)",
          "rgba(70,22,103,1)",
          "rgba(70,22,103,1)",
          "rgba(70,22,103,1)",
          "rgba(70,22,103,1)",
          "rgba(70,22,103,1)",
          "rgba(70,22,103,1)",
          "rgba(70,22,103,1)",
          "rgba(70,22,103,1)",
          "rgba(70,22,103,1)",
          "rgba(70,22,103,1)",
          "rgba(70,22,103,1)",
          "rgba(70,22,103,1)",
          "rgba(70,22,103,1)",
          "rgba(70,22,103,1)",
          "rgba(70,22,103,1)",
          "rgba(70,22,103,1)",
          "rgba(70,22,103,1)",
          "rgba(70,22,103,1)",
          "rgba(70,22,103,1)",
          "rgba(67,55,128,1)",
          "rgba(67,55,128,1)",
          "rgba(67,55,128,1)",
          "rgba(67,55,128,1)",
          "rgba(67,55,128,1)",
          "rgba(67,55,128,1)",
          "rgba(67,55,128,1)",
          "rgba(67,55,128,1)",
          "rgba(67,55,128,1)",
          "rgba(67,55,128,1)",
          "rgba(67,55,128,1)",
          "rgba(67,55,128,1)",
          "rgba(67,55,128,1)",
          "rgba(67,55,128,1)",
          "rgba(67,55,128,1)",
          "rgba(67,55,128,1)",
          "rgba(67,55,128,1)",
          "rgba(67,55,128,1)",
          "rgba(67,55,128,1)",
          "rgba(67,55,128,1)",
          "rgba(52,94,140,1)",
          "rgba(52,94,140,1)",
          "rgba(52,94,140,1)",
          "rgba(52,94,140,1)",
          "rgba(52,94,140,1)",
          "rgba(52,94,140,1)",
          "rgba(52,94,140,1)",
          "rgba(52,94,140,1)",
          "rgba(52,94,140,1)",
          "rgba(52,94,140,1)",
          "rgba(52,94,140,1)",
          "rgba(52,94,140,1)",
          "rgba(52,94,140,1)",
          "rgba(52,94,140,1)",
          "rgba(52,94,140,1)",
          "rgba(52,94,140,1)",
          "rgba(52,94,140,1)",
          "rgba(52,94,140,1)",
          "rgba(52,94,140,1)",
          "rgba(52,94,140,1)",
          "rgba(36,134,141,1)",
          "rgba(36,134,141,1)",
          "rgba(36,134,141,1)",
          "rgba(36,134,141,1)",
          "rgba(36,134,141,1)",
          "rgba(36,134,141,1)",
          "rgba(36,134,141,1)",
          "rgba(36,134,141,1)",
          "rgba(36,134,141,1)",
          "rgba(36,134,141,1)",
          "rgba(36,134,141,1)",
          "rgba(36,134,141,1)",
          "rgba(36,134,141,1)",
          "rgba(36,134,141,1)",
          "rgba(36,134,141,1)",
          "rgba(36,134,141,1)",
          "rgba(36,134,141,1)",
          "rgba(36,134,141,1)",
          "rgba(36,134,141,1)",
          "rgba(36,134,141,1)",
          "rgba(42,173,127,1)",
          "rgba(42,173,127,1)",
          "rgba(42,173,127,1)",
          "rgba(42,173,127,1)",
          "rgba(42,173,127,1)",
          "rgba(42,173,127,1)",
          "rgba(42,173,127,1)",
          "rgba(42,173,127,1)",
          "rgba(42,173,127,1)",
          "rgba(42,173,127,1)",
          "rgba(42,173,127,1)",
          "rgba(42,173,127,1)",
          "rgba(42,173,127,1)",
          "rgba(42,173,127,1)",
          "rgba(42,173,127,1)",
          "rgba(42,173,127,1)",
          "rgba(42,173,127,1)",
          "rgba(42,173,127,1)",
          "rgba(42,173,127,1)",
          "rgba(42,173,127,1)",
          "rgba(107,204,89,1)",
          "rgba(107,204,89,1)",
          "rgba(107,204,89,1)",
          "rgba(107,204,89,1)",
          "rgba(107,204,89,1)",
          "rgba(107,204,89,1)",
          "rgba(107,204,89,1)",
          "rgba(107,204,89,1)",
          "rgba(107,204,89,1)",
          "rgba(107,204,89,1)",
          "rgba(107,204,89,1)",
          "rgba(107,204,89,1)",
          "rgba(107,204,89,1)",
          "rgba(107,204,89,1)",
          "rgba(107,204,89,1)",
          "rgba(107,204,89,1)",
          "rgba(107,204,89,1)",
          "rgba(107,204,89,1)",
          "rgba(107,204,89,1)",
          "rgba(107,204,89,1)",
          "rgba(185,222,40,1)",
          "rgba(185,222,40,1)",
          "rgba(185,222,40,1)",
          "rgba(185,222,40,1)",
          "rgba(185,222,40,1)",
          "rgba(185,222,40,1)",
          "rgba(185,222,40,1)",
          "rgba(185,222,40,1)",
          "rgba(185,222,40,1)",
          "rgba(185,222,40,1)",
          "rgba(185,222,40,1)",
          "rgba(185,222,40,1)",
          "rgba(185,222,40,1)",
          "rgba(185,222,40,1)",
          "rgba(185,222,40,1)",
          "rgba(185,222,40,1)",
          "rgba(185,222,40,1)",
          "rgba(185,222,40,1)",
          "rgba(185,222,40,1)",
          "rgba(185,222,40,1)",
          "rgba(235,228,37,1)",
          "rgba(235,228,37,1)",
          "rgba(235,228,37,1)",
          "rgba(235,228,37,1)",
          "rgba(235,228,37,1)",
          "rgba(235,228,37,1)",
          "rgba(235,228,37,1)",
          "rgba(235,228,37,1)",
          "rgba(235,228,37,1)",
          "rgba(235,228,37,1)",
          "rgba(235,228,37,1)",
          "rgba(235,228,37,1)",
          "rgba(235,228,37,1)",
          "rgba(235,228,37,1)",
          "rgba(235,228,37,1)",
          "rgba(235,228,37,1)",
          "rgba(235,228,37,1)",
          "rgba(235,228,37,1)",
          "rgba(235,228,37,1)",
          "rgba(235,228,37,1)",
          "rgba(253,231,36,1)",
          "rgba(253,231,36,1)",
          "rgba(253,231,36,1)",
          "rgba(253,231,36,1)",
          "rgba(253,231,36,1)",
          "rgba(253,231,36,1)",
          "rgba(253,231,36,1)",
          "rgba(253,231,36,1)",
          "rgba(253,231,36,1)",
          "rgba(253,231,36,1)",
          "rgba(253,231,36,1)",
          "rgba(253,231,36,1)",
          "rgba(253,231,36,1)",
          "rgba(253,231,36,1)",
          "rgba(253,231,36,1)",
          "rgba(253,231,36,1)",
          "rgba(253,231,36,1)",
          "rgba(253,231,36,1)",
          "rgba(253,231,36,1)",
          "rgba(253,231,36,1)"
         ],
         "x": {
          "dtype": "float64",
          "shape": [
           400
          ],
          "value": {}
         },
         "y": {
          "dtype": "float64",
          "shape": [
           400
          ],
          "value": {}
         },
         "z": {
          "dtype": "float64",
          "shape": [
           400
          ],
          "value": {}
         }
        }
       ],
       "_js2py_pointsCallback": {},
       "_js2py_restyle": {},
       "_js2py_update": {},
       "_last_layout_edit_id": 9,
       "_last_trace_edit_id": 1,
       "_layout": {
        "margin": {
         "b": 0,
         "l": 0,
         "r": 0,
         "t": 0
        },
        "scene": {
         "camera": {
          "center": {
           "x": 0,
           "y": 0,
           "z": 0
          },
          "eye": {
           "x": 1.4870405407574694,
           "y": 1.4870405407574696,
           "z": 1.4870405407574694
          },
          "projection": {
           "type": "perspective"
          },
          "up": {
           "x": 0,
           "y": 0,
           "z": 1
          }
         },
         "xaxis": {
          "color": "white",
          "title": {
           "text": "s1"
          }
         },
         "yaxis": {
          "color": "white",
          "title": {
           "text": "s2"
          }
         },
         "zaxis": {
          "color": "white",
          "title": {
           "text": "s3"
          }
         }
        },
        "showlegend": false,
        "template": {
         "data": {
          "bar": [
           {
            "error_x": {
             "color": "#2a3f5f"
            },
            "error_y": {
             "color": "#2a3f5f"
            },
            "marker": {
             "line": {
              "color": "#E5ECF6",
              "width": 0.5
             }
            },
            "type": "bar"
           }
          ],
          "barpolar": [
           {
            "marker": {
             "line": {
              "color": "#E5ECF6",
              "width": 0.5
             }
            },
            "type": "barpolar"
           }
          ],
          "carpet": [
           {
            "aaxis": {
             "endlinecolor": "#2a3f5f",
             "gridcolor": "white",
             "linecolor": "white",
             "minorgridcolor": "white",
             "startlinecolor": "#2a3f5f"
            },
            "baxis": {
             "endlinecolor": "#2a3f5f",
             "gridcolor": "white",
             "linecolor": "white",
             "minorgridcolor": "white",
             "startlinecolor": "#2a3f5f"
            },
            "type": "carpet"
           }
          ],
          "choropleth": [
           {
            "colorbar": {
             "outlinewidth": 0,
             "ticks": ""
            },
            "type": "choropleth"
           }
          ],
          "contour": [
           {
            "colorbar": {
             "outlinewidth": 0,
             "ticks": ""
            },
            "colorscale": [
             [
              0,
              "#0d0887"
             ],
             [
              0.1111111111111111,
              "#46039f"
             ],
             [
              0.2222222222222222,
              "#7201a8"
             ],
             [
              0.3333333333333333,
              "#9c179e"
             ],
             [
              0.4444444444444444,
              "#bd3786"
             ],
             [
              0.5555555555555556,
              "#d8576b"
             ],
             [
              0.6666666666666666,
              "#ed7953"
             ],
             [
              0.7777777777777778,
              "#fb9f3a"
             ],
             [
              0.8888888888888888,
              "#fdca26"
             ],
             [
              1,
              "#f0f921"
             ]
            ],
            "type": "contour"
           }
          ],
          "contourcarpet": [
           {
            "colorbar": {
             "outlinewidth": 0,
             "ticks": ""
            },
            "type": "contourcarpet"
           }
          ],
          "heatmap": [
           {
            "colorbar": {
             "outlinewidth": 0,
             "ticks": ""
            },
            "colorscale": [
             [
              0,
              "#0d0887"
             ],
             [
              0.1111111111111111,
              "#46039f"
             ],
             [
              0.2222222222222222,
              "#7201a8"
             ],
             [
              0.3333333333333333,
              "#9c179e"
             ],
             [
              0.4444444444444444,
              "#bd3786"
             ],
             [
              0.5555555555555556,
              "#d8576b"
             ],
             [
              0.6666666666666666,
              "#ed7953"
             ],
             [
              0.7777777777777778,
              "#fb9f3a"
             ],
             [
              0.8888888888888888,
              "#fdca26"
             ],
             [
              1,
              "#f0f921"
             ]
            ],
            "type": "heatmap"
           }
          ],
          "heatmapgl": [
           {
            "colorbar": {
             "outlinewidth": 0,
             "ticks": ""
            },
            "colorscale": [
             [
              0,
              "#0d0887"
             ],
             [
              0.1111111111111111,
              "#46039f"
             ],
             [
              0.2222222222222222,
              "#7201a8"
             ],
             [
              0.3333333333333333,
              "#9c179e"
             ],
             [
              0.4444444444444444,
              "#bd3786"
             ],
             [
              0.5555555555555556,
              "#d8576b"
             ],
             [
              0.6666666666666666,
              "#ed7953"
             ],
             [
              0.7777777777777778,
              "#fb9f3a"
             ],
             [
              0.8888888888888888,
              "#fdca26"
             ],
             [
              1,
              "#f0f921"
             ]
            ],
            "type": "heatmapgl"
           }
          ],
          "histogram": [
           {
            "marker": {
             "colorbar": {
              "outlinewidth": 0,
              "ticks": ""
             }
            },
            "type": "histogram"
           }
          ],
          "histogram2d": [
           {
            "colorbar": {
             "outlinewidth": 0,
             "ticks": ""
            },
            "colorscale": [
             [
              0,
              "#0d0887"
             ],
             [
              0.1111111111111111,
              "#46039f"
             ],
             [
              0.2222222222222222,
              "#7201a8"
             ],
             [
              0.3333333333333333,
              "#9c179e"
             ],
             [
              0.4444444444444444,
              "#bd3786"
             ],
             [
              0.5555555555555556,
              "#d8576b"
             ],
             [
              0.6666666666666666,
              "#ed7953"
             ],
             [
              0.7777777777777778,
              "#fb9f3a"
             ],
             [
              0.8888888888888888,
              "#fdca26"
             ],
             [
              1,
              "#f0f921"
             ]
            ],
            "type": "histogram2d"
           }
          ],
          "histogram2dcontour": [
           {
            "colorbar": {
             "outlinewidth": 0,
             "ticks": ""
            },
            "colorscale": [
             [
              0,
              "#0d0887"
             ],
             [
              0.1111111111111111,
              "#46039f"
             ],
             [
              0.2222222222222222,
              "#7201a8"
             ],
             [
              0.3333333333333333,
              "#9c179e"
             ],
             [
              0.4444444444444444,
              "#bd3786"
             ],
             [
              0.5555555555555556,
              "#d8576b"
             ],
             [
              0.6666666666666666,
              "#ed7953"
             ],
             [
              0.7777777777777778,
              "#fb9f3a"
             ],
             [
              0.8888888888888888,
              "#fdca26"
             ],
             [
              1,
              "#f0f921"
             ]
            ],
            "type": "histogram2dcontour"
           }
          ],
          "mesh3d": [
           {
            "colorbar": {
             "outlinewidth": 0,
             "ticks": ""
            },
            "type": "mesh3d"
           }
          ],
          "parcoords": [
           {
            "line": {
             "colorbar": {
              "outlinewidth": 0,
              "ticks": ""
             }
            },
            "type": "parcoords"
           }
          ],
          "pie": [
           {
            "automargin": true,
            "type": "pie"
           }
          ],
          "scatter": [
           {
            "marker": {
             "colorbar": {
              "outlinewidth": 0,
              "ticks": ""
             }
            },
            "type": "scatter"
           }
          ],
          "scatter3d": [
           {
            "line": {
             "colorbar": {
              "outlinewidth": 0,
              "ticks": ""
             }
            },
            "marker": {
             "colorbar": {
              "outlinewidth": 0,
              "ticks": ""
             }
            },
            "type": "scatter3d"
           }
          ],
          "scattercarpet": [
           {
            "marker": {
             "colorbar": {
              "outlinewidth": 0,
              "ticks": ""
             }
            },
            "type": "scattercarpet"
           }
          ],
          "scattergeo": [
           {
            "marker": {
             "colorbar": {
              "outlinewidth": 0,
              "ticks": ""
             }
            },
            "type": "scattergeo"
           }
          ],
          "scattergl": [
           {
            "marker": {
             "colorbar": {
              "outlinewidth": 0,
              "ticks": ""
             }
            },
            "type": "scattergl"
           }
          ],
          "scattermapbox": [
           {
            "marker": {
             "colorbar": {
              "outlinewidth": 0,
              "ticks": ""
             }
            },
            "type": "scattermapbox"
           }
          ],
          "scatterpolar": [
           {
            "marker": {
             "colorbar": {
              "outlinewidth": 0,
              "ticks": ""
             }
            },
            "type": "scatterpolar"
           }
          ],
          "scatterpolargl": [
           {
            "marker": {
             "colorbar": {
              "outlinewidth": 0,
              "ticks": ""
             }
            },
            "type": "scatterpolargl"
           }
          ],
          "scatterternary": [
           {
            "marker": {
             "colorbar": {
              "outlinewidth": 0,
              "ticks": ""
             }
            },
            "type": "scatterternary"
           }
          ],
          "surface": [
           {
            "colorbar": {
             "outlinewidth": 0,
             "ticks": ""
            },
            "colorscale": [
             [
              0,
              "#0d0887"
             ],
             [
              0.1111111111111111,
              "#46039f"
             ],
             [
              0.2222222222222222,
              "#7201a8"
             ],
             [
              0.3333333333333333,
              "#9c179e"
             ],
             [
              0.4444444444444444,
              "#bd3786"
             ],
             [
              0.5555555555555556,
              "#d8576b"
             ],
             [
              0.6666666666666666,
              "#ed7953"
             ],
             [
              0.7777777777777778,
              "#fb9f3a"
             ],
             [
              0.8888888888888888,
              "#fdca26"
             ],
             [
              1,
              "#f0f921"
             ]
            ],
            "type": "surface"
           }
          ],
          "table": [
           {
            "cells": {
             "fill": {
              "color": "#EBF0F8"
             },
             "line": {
              "color": "white"
             }
            },
            "header": {
             "fill": {
              "color": "#C8D4E3"
             },
             "line": {
              "color": "white"
             }
            },
            "type": "table"
           }
          ]
         },
         "layout": {
          "annotationdefaults": {
           "arrowcolor": "#2a3f5f",
           "arrowhead": 0,
           "arrowwidth": 1
          },
          "coloraxis": {
           "colorbar": {
            "outlinewidth": 0,
            "ticks": ""
           }
          },
          "colorscale": {
           "diverging": [
            [
             0,
             "#8e0152"
            ],
            [
             0.1,
             "#c51b7d"
            ],
            [
             0.2,
             "#de77ae"
            ],
            [
             0.3,
             "#f1b6da"
            ],
            [
             0.4,
             "#fde0ef"
            ],
            [
             0.5,
             "#f7f7f7"
            ],
            [
             0.6,
             "#e6f5d0"
            ],
            [
             0.7,
             "#b8e186"
            ],
            [
             0.8,
             "#7fbc41"
            ],
            [
             0.9,
             "#4d9221"
            ],
            [
             1,
             "#276419"
            ]
           ],
           "sequential": [
            [
             0,
             "#0d0887"
            ],
            [
             0.1111111111111111,
             "#46039f"
            ],
            [
             0.2222222222222222,
             "#7201a8"
            ],
            [
             0.3333333333333333,
             "#9c179e"
            ],
            [
             0.4444444444444444,
             "#bd3786"
            ],
            [
             0.5555555555555556,
             "#d8576b"
            ],
            [
             0.6666666666666666,
             "#ed7953"
            ],
            [
             0.7777777777777778,
             "#fb9f3a"
            ],
            [
             0.8888888888888888,
             "#fdca26"
            ],
            [
             1,
             "#f0f921"
            ]
           ],
           "sequentialminus": [
            [
             0,
             "#0d0887"
            ],
            [
             0.1111111111111111,
             "#46039f"
            ],
            [
             0.2222222222222222,
             "#7201a8"
            ],
            [
             0.3333333333333333,
             "#9c179e"
            ],
            [
             0.4444444444444444,
             "#bd3786"
            ],
            [
             0.5555555555555556,
             "#d8576b"
            ],
            [
             0.6666666666666666,
             "#ed7953"
            ],
            [
             0.7777777777777778,
             "#fb9f3a"
            ],
            [
             0.8888888888888888,
             "#fdca26"
            ],
            [
             1,
             "#f0f921"
            ]
           ]
          },
          "colorway": [
           "#636efa",
           "#EF553B",
           "#00cc96",
           "#ab63fa",
           "#FFA15A",
           "#19d3f3",
           "#FF6692",
           "#B6E880",
           "#FF97FF",
           "#FECB52"
          ],
          "font": {
           "color": "#2a3f5f"
          },
          "geo": {
           "bgcolor": "white",
           "lakecolor": "white",
           "landcolor": "#E5ECF6",
           "showlakes": true,
           "showland": true,
           "subunitcolor": "white"
          },
          "hoverlabel": {
           "align": "left"
          },
          "hovermode": "closest",
          "mapbox": {
           "style": "light"
          },
          "paper_bgcolor": "white",
          "plot_bgcolor": "#E5ECF6",
          "polar": {
           "angularaxis": {
            "gridcolor": "white",
            "linecolor": "white",
            "ticks": ""
           },
           "bgcolor": "#E5ECF6",
           "radialaxis": {
            "gridcolor": "white",
            "linecolor": "white",
            "ticks": ""
           }
          },
          "scene": {
           "xaxis": {
            "backgroundcolor": "#E5ECF6",
            "gridcolor": "white",
            "gridwidth": 2,
            "linecolor": "white",
            "showbackground": true,
            "ticks": "",
            "zerolinecolor": "white"
           },
           "yaxis": {
            "backgroundcolor": "#E5ECF6",
            "gridcolor": "white",
            "gridwidth": 2,
            "linecolor": "white",
            "showbackground": true,
            "ticks": "",
            "zerolinecolor": "white"
           },
           "zaxis": {
            "backgroundcolor": "#E5ECF6",
            "gridcolor": "white",
            "gridwidth": 2,
            "linecolor": "white",
            "showbackground": true,
            "ticks": "",
            "zerolinecolor": "white"
           }
          },
          "shapedefaults": {
           "line": {
            "color": "#2a3f5f"
           }
          },
          "ternary": {
           "aaxis": {
            "gridcolor": "white",
            "linecolor": "white",
            "ticks": ""
           },
           "baxis": {
            "gridcolor": "white",
            "linecolor": "white",
            "ticks": ""
           },
           "bgcolor": "#E5ECF6",
           "caxis": {
            "gridcolor": "white",
            "linecolor": "white",
            "ticks": ""
           }
          },
          "title": {
           "x": 0.05
          },
          "xaxis": {
           "automargin": true,
           "gridcolor": "white",
           "linecolor": "white",
           "ticks": "",
           "title": {
            "standoff": 15
           },
           "zerolinecolor": "white",
           "zerolinewidth": 2
          },
          "yaxis": {
           "automargin": true,
           "gridcolor": "white",
           "linecolor": "white",
           "ticks": "",
           "title": {
            "standoff": 15
           },
           "zerolinecolor": "white",
           "zerolinewidth": 2
          }
         }
        }
       },
       "_py2js_addTraces": {},
       "_py2js_animate": {},
       "_py2js_deleteTraces": {},
       "_py2js_moveTraces": {},
       "_py2js_removeTraceProps": {},
       "_py2js_restyle": {},
       "_view_count": 1
      }
     },
     "9d84f51800ea47f6bbcb6f7ac2b0e387": {
      "model_module": "@jupyter-widgets/controls",
      "model_module_version": "1.5.0",
      "model_name": "SliderStyleModel",
      "state": {
       "description_width": ""
      }
     },
     "9ddd2e04b05e4305b66b57db6556e7ee": {
      "model_module": "@jupyter-widgets/controls",
      "model_module_version": "1.5.0",
      "model_name": "SliderStyleModel",
      "state": {
       "description_width": ""
      }
     },
     "9f2d774994904a1196f758d921590741": {
      "model_module": "@jupyter-widgets/output",
      "model_module_version": "1.0.0",
      "model_name": "OutputModel",
      "state": {
       "layout": "IPY_MODEL_d7c81f5003c242d2bff3d6bb71d396f3",
       "outputs": [
        {
         "name": "stdout",
         "output_type": "stream",
         "text": "[[6.46446609e-01 1.61611652e-01 2.79919593e-01 1.97917193e-17]\n [1.61611652e-01 5.81491042e-01 3.75021144e-02 2.65158760e-18]\n [2.79919593e-01 3.75021144e-02 6.24794754e-01 4.59268444e-18]\n [1.97917193e-17 2.65158760e-18 4.59268444e-18 5.59839186e-01]]\n"
        }
       ]
      }
     },
     "a21d1ca7276f43f4a8ec3c013fdee8b3": {
      "model_module": "@jupyter-widgets/controls",
      "model_module_version": "1.5.0",
      "model_name": "FloatSliderModel",
      "state": {
       "description": "alpha",
       "layout": "IPY_MODEL_d3542f86b1274bee85d89da898bbb794",
       "max": 1,
       "min": 0.01,
       "step": 0.01,
       "style": "IPY_MODEL_56cfdcdcbd654c2d86b77a169f926f65",
       "value": 1
      }
     },
     "aa877b05d165488c8f361cd43c3814ea": {
      "model_module": "@jupyter-widgets/controls",
      "model_module_version": "1.5.0",
      "model_name": "IntSliderModel",
      "state": {
       "description": "elevation",
       "layout": "IPY_MODEL_209e2d498a784db3bf994a01994eb25c",
       "max": 90,
       "style": "IPY_MODEL_7f4b726d4c05472bb059b61f73b6cf6d"
      }
     },
     "ad191d0414344b20881e575f5a5748ea": {
      "model_module": "@jupyter-widgets/base",
      "model_module_version": "1.2.0",
      "model_name": "LayoutModel",
      "state": {
       "width": "75%"
      }
     },
     "adf5a6daac49461bbc9ce67931ad1f8a": {
      "model_module": "@jupyter-widgets/controls",
      "model_module_version": "1.5.0",
      "model_name": "FloatSliderModel",
      "state": {
       "description": "beta",
       "layout": "IPY_MODEL_5008bd7f49d5449398cee50e00eb4b1b",
       "max": 1,
       "min": 0.01,
       "step": 0.01,
       "style": "IPY_MODEL_9135e8494e7046659bc20b0c77e48beb",
       "value": 1
      }
     },
     "b019b97529b44371bb3c578660ea3fd6": {
      "model_module": "@jupyter-widgets/base",
      "model_module_version": "1.2.0",
      "model_name": "LayoutModel",
      "state": {}
     },
     "b03c656305454dd79835247972d9e746": {
      "model_module": "@jupyter-widgets/controls",
      "model_module_version": "1.5.0",
      "model_name": "IntSliderModel",
      "state": {
       "description": "phase_shift",
       "layout": "IPY_MODEL_cc5050fbb8e54a729c4ab109f29b1ca4",
       "max": 180,
       "style": "IPY_MODEL_402e17def7c1450c952fbd9d6879c679"
      }
     },
     "b24e1026e7404164a158211ccb41f335": {
      "model_module": "@jupyter-widgets/base",
      "model_module_version": "1.2.0",
      "model_name": "LayoutModel",
      "state": {}
     },
     "b644a349c6a2432292ae6261c432582d": {
      "model_module": "@jupyter-widgets/output",
      "model_module_version": "1.0.0",
      "model_name": "OutputModel",
      "state": {
       "layout": "IPY_MODEL_041270573e4442c996cca1dd1bb507e4",
       "outputs": [
        {
         "name": "stdout",
         "output_type": "stream",
         "text": "[[1. 0. 0. 0.]\n [0. 1. 0. 0.]\n [0. 0. 1. 0.]\n [0. 0. 0. 1.]]\n"
        }
       ]
      }
     },
     "b67bd9d3c5074a69b7ac4bcde9e1091c": {
      "model_module": "@jupyter-widgets/controls",
      "model_module_version": "1.5.0",
      "model_name": "FloatSliderModel",
      "state": {
       "description": "scale",
       "layout": "IPY_MODEL_ec8ba3d13f1a4179a0e59054a9be9af7",
       "max": 1,
       "step": 0.01,
       "style": "IPY_MODEL_448f349e2d0542c0a80b3cf604a75166",
       "value": 1
      }
     },
     "b6c07504eb67497299014527e1111945": {
      "model_module": "@jupyter-widgets/output",
      "model_module_version": "1.0.0",
      "model_name": "OutputModel",
      "state": {
       "layout": "IPY_MODEL_e3227035db4a4e1396f0dcf5220baaab",
       "outputs": [
        {
         "name": "stdout",
         "output_type": "stream",
         "text": "[[0.02005931 0.         0.         0.        ]\n [0.         0.02005931 0.         0.        ]\n [0.         0.         0.02005931 0.        ]\n [0.         0.         0.         0.02005931]]\n"
        }
       ]
      }
     },
     "b824473ebd424888bef8c21113b7a278": {
      "model_module": "@jupyter-widgets/controls",
      "model_module_version": "1.5.0",
      "model_name": "FloatSliderModel",
      "state": {
       "description": "D",
       "layout": "IPY_MODEL_73e16d04b9e94463b521ddc72bbda5ba",
       "max": 1,
       "min": 0.01,
       "step": 0.005,
       "style": "IPY_MODEL_8bab204f7ce54233ab4ebbfd0c91e372",
       "value": 0.5
      }
     },
     "c24c374dfede4b039fd6d00a2168ba82": {
      "model_module": "@jupyter-widgets/output",
      "model_module_version": "1.0.0",
      "model_name": "OutputModel",
      "state": {
       "layout": "IPY_MODEL_b24e1026e7404164a158211ccb41f335",
       "outputs": [
        {
         "name": "stdout",
         "output_type": "stream",
         "text": "[[ 1.  0.  0.  0.]\n [ 0.  1.  0.  0.]\n [ 0.  0.  1. -0.]\n [ 0. -0.  0.  1.]]\n"
        }
       ]
      }
     },
     "c69570c12ef94c0688c70ea10958b830": {
      "model_module": "@jupyter-widgets/base",
      "model_module_version": "1.2.0",
      "model_name": "LayoutModel",
      "state": {
       "width": "75%"
      }
     },
     "c6da01555c5e4e0a995fd41535006024": {
      "model_module": "@jupyter-widgets/base",
      "model_module_version": "1.2.0",
      "model_name": "LayoutModel",
      "state": {}
     },
     "c9571487b7134427992a28d99eb0f68e": {
      "model_module": "@jupyter-widgets/base",
      "model_module_version": "1.2.0",
      "model_name": "LayoutModel",
      "state": {}
     },
     "ca9af44f14d7474488f21414e5aae4a4": {
      "model_module": "@jupyter-widgets/base",
      "model_module_version": "1.2.0",
      "model_name": "LayoutModel",
      "state": {
       "width": "75%"
      }
     },
     "cc5050fbb8e54a729c4ab109f29b1ca4": {
      "model_module": "@jupyter-widgets/base",
      "model_module_version": "1.2.0",
      "model_name": "LayoutModel",
      "state": {
       "width": "75%"
      }
     },
     "cf129ec229c645289e36f6349bf9f01f": {
      "model_module": "@jupyter-widgets/controls",
      "model_module_version": "1.5.0",
      "model_name": "VBoxModel",
      "state": {
       "_dom_classes": [
        "widget-interact"
       ],
       "children": [
        "IPY_MODEL_b67bd9d3c5074a69b7ac4bcde9e1091c",
        "IPY_MODEL_b644a349c6a2432292ae6261c432582d"
       ],
       "layout": "IPY_MODEL_5d329fda609d44e19b485c60d44c57be"
      }
     },
     "d0755cdee1f84495af2b46c8f5103a41": {
      "model_module": "@jupyter-widgets/base",
      "model_module_version": "1.2.0",
      "model_name": "LayoutModel",
      "state": {}
     },
     "d2141f4cb2a3458f92ac1801a19994a1": {
      "model_module": "@jupyter-widgets/controls",
      "model_module_version": "1.5.0",
      "model_name": "SliderStyleModel",
      "state": {
       "description_width": ""
      }
     },
     "d3542f86b1274bee85d89da898bbb794": {
      "model_module": "@jupyter-widgets/base",
      "model_module_version": "1.2.0",
      "model_name": "LayoutModel",
      "state": {
       "width": "75%"
      }
     },
     "d600509997334a068e47d3f136d862cc": {
      "model_module": "@jupyter-widgets/base",
      "model_module_version": "1.2.0",
      "model_name": "LayoutModel",
      "state": {
       "width": "75%"
      }
     },
     "d74e434aeac6470dba92f96f3d43491e": {
      "buffers": [
       {
        "data": "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",
        "encoding": "base64",
        "path": [
         "_data",
         0,
         "marker",
         "color",
         "value"
        ]
       },
       {
        "data": "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",
        "encoding": "base64",
        "path": [
         "_data",
         0,
         "x",
         "value"
        ]
       },
       {
        "data": "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",
        "encoding": "base64",
        "path": [
         "_data",
         0,
         "y",
         "value"
        ]
       },
       {
        "data": "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",
        "encoding": "base64",
        "path": [
         "_data",
         0,
         "z",
         "value"
        ]
       },
       {
        "data": "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",
        "encoding": "base64",
        "path": [
         "_data",
         5,
         "x",
         "value"
        ]
       },
       {
        "data": "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",
        "encoding": "base64",
        "path": [
         "_data",
         5,
         "y",
         "value"
        ]
       },
       {
        "data": "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",
        "encoding": "base64",
        "path": [
         "_data",
         5,
         "z",
         "value"
        ]
       }
      ],
      "model_module": "plotlywidget",
      "model_module_version": "^4.13.0",
      "model_name": "FigureModel",
      "state": {
       "_config": {
        "plotlyServerURL": "https://plot.ly"
       },
       "_data": [
        {
         "marker": {
          "color": {
           "dtype": "float64",
           "shape": [
            400
           ],
           "value": {}
          },
          "colorscale": [
           [
            0,
            "#440154"
           ],
           [
            0.1111111111111111,
            "#482878"
           ],
           [
            0.2222222222222222,
            "#3e4989"
           ],
           [
            0.3333333333333333,
            "#31688e"
           ],
           [
            0.4444444444444444,
            "#26828e"
           ],
           [
            0.5555555555555556,
            "#1f9e89"
           ],
           [
            0.6666666666666666,
            "#35b779"
           ],
           [
            0.7777777777777778,
            "#6ece58"
           ],
           [
            0.8888888888888888,
            "#b5de2b"
           ],
           [
            1,
            "#fde725"
           ]
          ],
          "opacity": 0.5,
          "size": 3
         },
         "mode": "markers",
         "type": "scatter3d",
         "uid": "4a600511-986a-4c58-a6ca-2b5479c07c59",
         "x": {
          "dtype": "float64",
          "shape": [
           400
          ],
          "value": {}
         },
         "y": {
          "dtype": "float64",
          "shape": [
           400
          ],
          "value": {}
         },
         "z": {
          "dtype": "float64",
          "shape": [
           400
          ],
          "value": {}
         }
        },
        {
         "line": {
          "color": "rgba(255,0,0,0.5)",
          "width": 5
         },
         "mode": "lines",
         "type": "scatter3d",
         "uid": "db3e6e24-6c10-4db9-8b08-3620e87d962f",
         "x": [
          0,
          1
         ],
         "y": [
          0,
          0
         ],
         "z": [
          0,
          0
         ]
        },
        {
         "line": {
          "color": "rgba(0,255,0,0.5)",
          "width": 5
         },
         "mode": "lines",
         "type": "scatter3d",
         "uid": "ab555aa3-1b24-4df2-9bfa-fd185236e796",
         "x": [
          0,
          0
         ],
         "y": [
          0,
          1
         ],
         "z": [
          0,
          0
         ]
        },
        {
         "line": {
          "color": "rgba(0,0,255,0.5)",
          "width": 5
         },
         "mode": "lines",
         "type": "scatter3d",
         "uid": "4c86ee3a-069a-4cc7-ad55-c2b696d1d50e",
         "x": [
          0,
          0
         ],
         "y": [
          0,
          0
         ],
         "z": [
          0,
          1
         ]
        },
        {
         "line": {
          "color": "rgba(255,0,255,0.8)",
          "width": 5
         },
         "mode": "lines",
         "type": "scatter3d",
         "uid": "0db7a316-edd7-4db5-9d81-fc73a8b05176",
         "x": [],
         "y": [],
         "z": []
        },
        {
         "alphahull": 0,
         "flatshading": true,
         "opacity": 0.4,
         "type": "mesh3d",
         "uid": "5909c7ff-996a-4890-afc9-44029ce568bb",
         "vertexcolor": [
          "rgba(253,231,36,1)",
          "rgba(253,231,36,1)",
          "rgba(253,231,36,1)",
          "rgba(253,231,36,1)",
          "rgba(253,231,36,1)",
          "rgba(253,231,36,1)",
          "rgba(253,231,36,1)",
          "rgba(253,231,36,1)",
          "rgba(253,231,36,1)",
          "rgba(253,231,36,1)",
          "rgba(253,231,36,1)",
          "rgba(253,231,36,1)",
          "rgba(253,231,36,1)",
          "rgba(253,231,36,1)",
          "rgba(253,231,36,1)",
          "rgba(253,231,36,1)",
          "rgba(253,231,36,1)",
          "rgba(253,231,36,1)",
          "rgba(253,231,36,1)",
          "rgba(253,231,36,1)",
          "rgba(235,228,37,1)",
          "rgba(235,228,37,1)",
          "rgba(235,228,37,1)",
          "rgba(235,228,37,1)",
          "rgba(235,228,37,1)",
          "rgba(235,228,37,1)",
          "rgba(235,228,37,1)",
          "rgba(235,228,37,1)",
          "rgba(235,228,37,1)",
          "rgba(235,228,37,1)",
          "rgba(235,228,37,1)",
          "rgba(235,228,37,1)",
          "rgba(235,228,37,1)",
          "rgba(235,228,37,1)",
          "rgba(235,228,37,1)",
          "rgba(235,228,37,1)",
          "rgba(235,228,37,1)",
          "rgba(235,228,37,1)",
          "rgba(235,228,37,1)",
          "rgba(235,228,37,1)",
          "rgba(185,222,40,1)",
          "rgba(185,222,40,1)",
          "rgba(185,222,40,1)",
          "rgba(185,222,40,1)",
          "rgba(185,222,40,1)",
          "rgba(185,222,40,1)",
          "rgba(185,222,40,1)",
          "rgba(185,222,40,1)",
          "rgba(185,222,40,1)",
          "rgba(185,222,40,1)",
          "rgba(185,222,40,1)",
          "rgba(185,222,40,1)",
          "rgba(185,222,40,1)",
          "rgba(185,222,40,1)",
          "rgba(185,222,40,1)",
          "rgba(185,222,40,1)",
          "rgba(185,222,40,1)",
          "rgba(185,222,40,1)",
          "rgba(185,222,40,1)",
          "rgba(185,222,40,1)",
          "rgba(107,204,89,1)",
          "rgba(107,204,89,1)",
          "rgba(107,204,89,1)",
          "rgba(107,204,89,1)",
          "rgba(107,204,89,1)",
          "rgba(107,204,89,1)",
          "rgba(107,204,89,1)",
          "rgba(107,204,89,1)",
          "rgba(107,204,89,1)",
          "rgba(107,204,89,1)",
          "rgba(107,204,89,1)",
          "rgba(107,204,89,1)",
          "rgba(107,204,89,1)",
          "rgba(107,204,89,1)",
          "rgba(107,204,89,1)",
          "rgba(107,204,89,1)",
          "rgba(107,204,89,1)",
          "rgba(107,204,89,1)",
          "rgba(107,204,89,1)",
          "rgba(107,204,89,1)",
          "rgba(42,173,127,1)",
          "rgba(42,173,127,1)",
          "rgba(42,173,127,1)",
          "rgba(42,173,127,1)",
          "rgba(42,173,127,1)",
          "rgba(42,173,127,1)",
          "rgba(42,173,127,1)",
          "rgba(42,173,127,1)",
          "rgba(42,173,127,1)",
          "rgba(42,173,127,1)",
          "rgba(42,173,127,1)",
          "rgba(42,173,127,1)",
          "rgba(42,173,127,1)",
          "rgba(42,173,127,1)",
          "rgba(42,173,127,1)",
          "rgba(42,173,127,1)",
          "rgba(42,173,127,1)",
          "rgba(42,173,127,1)",
          "rgba(42,173,127,1)",
          "rgba(42,173,127,1)",
          "rgba(36,134,141,1)",
          "rgba(36,134,141,1)",
          "rgba(36,134,141,1)",
          "rgba(36,134,141,1)",
          "rgba(36,134,141,1)",
          "rgba(36,134,141,1)",
          "rgba(36,134,141,1)",
          "rgba(36,134,141,1)",
          "rgba(36,134,141,1)",
          "rgba(36,134,141,1)",
          "rgba(36,134,141,1)",
          "rgba(36,134,141,1)",
          "rgba(36,134,141,1)",
          "rgba(36,134,141,1)",
          "rgba(36,134,141,1)",
          "rgba(36,134,141,1)",
          "rgba(36,134,141,1)",
          "rgba(36,134,141,1)",
          "rgba(36,134,141,1)",
          "rgba(36,134,141,1)",
          "rgba(52,94,140,1)",
          "rgba(52,94,140,1)",
          "rgba(52,94,140,1)",
          "rgba(52,94,140,1)",
          "rgba(52,94,140,1)",
          "rgba(52,94,140,1)",
          "rgba(52,94,140,1)",
          "rgba(52,94,140,1)",
          "rgba(52,94,140,1)",
          "rgba(52,94,140,1)",
          "rgba(52,94,140,1)",
          "rgba(52,94,140,1)",
          "rgba(52,94,140,1)",
          "rgba(52,94,140,1)",
          "rgba(52,94,140,1)",
          "rgba(52,94,140,1)",
          "rgba(52,94,140,1)",
          "rgba(52,94,140,1)",
          "rgba(52,94,140,1)",
          "rgba(52,94,140,1)",
          "rgba(67,55,128,1)",
          "rgba(67,55,128,1)",
          "rgba(67,55,128,1)",
          "rgba(67,55,128,1)",
          "rgba(67,55,128,1)",
          "rgba(67,55,128,1)",
          "rgba(67,55,128,1)",
          "rgba(67,55,128,1)",
          "rgba(67,55,128,1)",
          "rgba(67,55,128,1)",
          "rgba(67,55,128,1)",
          "rgba(67,55,128,1)",
          "rgba(67,55,128,1)",
          "rgba(67,55,128,1)",
          "rgba(67,55,128,1)",
          "rgba(67,55,128,1)",
          "rgba(67,55,128,1)",
          "rgba(67,55,128,1)",
          "rgba(67,55,128,1)",
          "rgba(67,55,128,1)",
          "rgba(70,22,103,1)",
          "rgba(70,22,103,1)",
          "rgba(70,22,103,1)",
          "rgba(70,22,103,1)",
          "rgba(70,22,103,1)",
          "rgba(70,22,103,1)",
          "rgba(70,22,103,1)",
          "rgba(70,22,103,1)",
          "rgba(70,22,103,1)",
          "rgba(70,22,103,1)",
          "rgba(70,22,103,1)",
          "rgba(70,22,103,1)",
          "rgba(70,22,103,1)",
          "rgba(70,22,103,1)",
          "rgba(70,22,103,1)",
          "rgba(70,22,103,1)",
          "rgba(70,22,103,1)",
          "rgba(70,22,103,1)",
          "rgba(70,22,103,1)",
          "rgba(70,22,103,1)",
          "rgba(68,3,86,1)",
          "rgba(68,3,86,1)",
          "rgba(68,3,86,1)",
          "rgba(68,3,86,1)",
          "rgba(68,3,86,1)",
          "rgba(68,3,86,1)",
          "rgba(68,3,86,1)",
          "rgba(68,3,86,1)",
          "rgba(68,3,86,1)",
          "rgba(68,3,86,1)",
          "rgba(68,3,86,1)",
          "rgba(68,3,86,1)",
          "rgba(68,3,86,1)",
          "rgba(68,3,86,1)",
          "rgba(68,3,86,1)",
          "rgba(68,3,86,1)",
          "rgba(68,3,86,1)",
          "rgba(68,3,86,1)",
          "rgba(68,3,86,1)",
          "rgba(68,3,86,1)",
          "rgba(68,3,86,1)",
          "rgba(68,3,86,1)",
          "rgba(68,3,86,1)",
          "rgba(68,3,86,1)",
          "rgba(68,3,86,1)",
          "rgba(68,3,86,1)",
          "rgba(68,3,86,1)",
          "rgba(68,3,86,1)",
          "rgba(68,3,86,1)",
          "rgba(68,3,86,1)",
          "rgba(68,3,86,1)",
          "rgba(68,3,86,1)",
          "rgba(68,3,86,1)",
          "rgba(68,3,86,1)",
          "rgba(68,3,86,1)",
          "rgba(68,3,86,1)",
          "rgba(68,3,86,1)",
          "rgba(68,3,86,1)",
          "rgba(68,3,86,1)",
          "rgba(68,3,86,1)",
          "rgba(70,22,103,1)",
          "rgba(70,22,103,1)",
          "rgba(70,22,103,1)",
          "rgba(70,22,103,1)",
          "rgba(70,22,103,1)",
          "rgba(70,22,103,1)",
          "rgba(70,22,103,1)",
          "rgba(70,22,103,1)",
          "rgba(70,22,103,1)",
          "rgba(70,22,103,1)",
          "rgba(70,22,103,1)",
          "rgba(70,22,103,1)",
          "rgba(70,22,103,1)",
          "rgba(70,22,103,1)",
          "rgba(70,22,103,1)",
          "rgba(70,22,103,1)",
          "rgba(70,22,103,1)",
          "rgba(70,22,103,1)",
          "rgba(70,22,103,1)",
          "rgba(70,22,103,1)",
          "rgba(67,55,128,1)",
          "rgba(67,55,128,1)",
          "rgba(67,55,128,1)",
          "rgba(67,55,128,1)",
          "rgba(67,55,128,1)",
          "rgba(67,55,128,1)",
          "rgba(67,55,128,1)",
          "rgba(67,55,128,1)",
          "rgba(67,55,128,1)",
          "rgba(67,55,128,1)",
          "rgba(67,55,128,1)",
          "rgba(67,55,128,1)",
          "rgba(67,55,128,1)",
          "rgba(67,55,128,1)",
          "rgba(67,55,128,1)",
          "rgba(67,55,128,1)",
          "rgba(67,55,128,1)",
          "rgba(67,55,128,1)",
          "rgba(67,55,128,1)",
          "rgba(67,55,128,1)",
          "rgba(52,94,140,1)",
          "rgba(52,94,140,1)",
          "rgba(52,94,140,1)",
          "rgba(52,94,140,1)",
          "rgba(52,94,140,1)",
          "rgba(52,94,140,1)",
          "rgba(52,94,140,1)",
          "rgba(52,94,140,1)",
          "rgba(52,94,140,1)",
          "rgba(52,94,140,1)",
          "rgba(52,94,140,1)",
          "rgba(52,94,140,1)",
          "rgba(52,94,140,1)",
          "rgba(52,94,140,1)",
          "rgba(52,94,140,1)",
          "rgba(52,94,140,1)",
          "rgba(52,94,140,1)",
          "rgba(52,94,140,1)",
          "rgba(52,94,140,1)",
          "rgba(52,94,140,1)",
          "rgba(36,134,141,1)",
          "rgba(36,134,141,1)",
          "rgba(36,134,141,1)",
          "rgba(36,134,141,1)",
          "rgba(36,134,141,1)",
          "rgba(36,134,141,1)",
          "rgba(36,134,141,1)",
          "rgba(36,134,141,1)",
          "rgba(36,134,141,1)",
          "rgba(36,134,141,1)",
          "rgba(36,134,141,1)",
          "rgba(36,134,141,1)",
          "rgba(36,134,141,1)",
          "rgba(36,134,141,1)",
          "rgba(36,134,141,1)",
          "rgba(36,134,141,1)",
          "rgba(36,134,141,1)",
          "rgba(36,134,141,1)",
          "rgba(36,134,141,1)",
          "rgba(36,134,141,1)",
          "rgba(42,173,127,1)",
          "rgba(42,173,127,1)",
          "rgba(42,173,127,1)",
          "rgba(42,173,127,1)",
          "rgba(42,173,127,1)",
          "rgba(42,173,127,1)",
          "rgba(42,173,127,1)",
          "rgba(42,173,127,1)",
          "rgba(42,173,127,1)",
          "rgba(42,173,127,1)",
          "rgba(42,173,127,1)",
          "rgba(42,173,127,1)",
          "rgba(42,173,127,1)",
          "rgba(42,173,127,1)",
          "rgba(42,173,127,1)",
          "rgba(42,173,127,1)",
          "rgba(42,173,127,1)",
          "rgba(42,173,127,1)",
          "rgba(42,173,127,1)",
          "rgba(42,173,127,1)",
          "rgba(107,204,89,1)",
          "rgba(107,204,89,1)",
          "rgba(107,204,89,1)",
          "rgba(107,204,89,1)",
          "rgba(107,204,89,1)",
          "rgba(107,204,89,1)",
          "rgba(107,204,89,1)",
          "rgba(107,204,89,1)",
          "rgba(107,204,89,1)",
          "rgba(107,204,89,1)",
          "rgba(107,204,89,1)",
          "rgba(107,204,89,1)",
          "rgba(107,204,89,1)",
          "rgba(107,204,89,1)",
          "rgba(107,204,89,1)",
          "rgba(107,204,89,1)",
          "rgba(107,204,89,1)",
          "rgba(107,204,89,1)",
          "rgba(107,204,89,1)",
          "rgba(107,204,89,1)",
          "rgba(185,222,40,1)",
          "rgba(185,222,40,1)",
          "rgba(185,222,40,1)",
          "rgba(185,222,40,1)",
          "rgba(185,222,40,1)",
          "rgba(185,222,40,1)",
          "rgba(185,222,40,1)",
          "rgba(185,222,40,1)",
          "rgba(185,222,40,1)",
          "rgba(185,222,40,1)",
          "rgba(185,222,40,1)",
          "rgba(185,222,40,1)",
          "rgba(185,222,40,1)",
          "rgba(185,222,40,1)",
          "rgba(185,222,40,1)",
          "rgba(185,222,40,1)",
          "rgba(185,222,40,1)",
          "rgba(185,222,40,1)",
          "rgba(185,222,40,1)",
          "rgba(185,222,40,1)",
          "rgba(235,228,37,1)",
          "rgba(235,228,37,1)",
          "rgba(235,228,37,1)",
          "rgba(235,228,37,1)",
          "rgba(235,228,37,1)",
          "rgba(235,228,37,1)",
          "rgba(235,228,37,1)",
          "rgba(235,228,37,1)",
          "rgba(235,228,37,1)",
          "rgba(235,228,37,1)",
          "rgba(235,228,37,1)",
          "rgba(235,228,37,1)",
          "rgba(235,228,37,1)",
          "rgba(235,228,37,1)",
          "rgba(235,228,37,1)",
          "rgba(235,228,37,1)",
          "rgba(235,228,37,1)",
          "rgba(235,228,37,1)",
          "rgba(235,228,37,1)",
          "rgba(235,228,37,1)",
          "rgba(253,231,36,1)",
          "rgba(253,231,36,1)",
          "rgba(253,231,36,1)",
          "rgba(253,231,36,1)",
          "rgba(253,231,36,1)",
          "rgba(253,231,36,1)",
          "rgba(253,231,36,1)",
          "rgba(253,231,36,1)",
          "rgba(253,231,36,1)",
          "rgba(253,231,36,1)",
          "rgba(253,231,36,1)",
          "rgba(253,231,36,1)",
          "rgba(253,231,36,1)",
          "rgba(253,231,36,1)",
          "rgba(253,231,36,1)",
          "rgba(253,231,36,1)",
          "rgba(253,231,36,1)",
          "rgba(253,231,36,1)",
          "rgba(253,231,36,1)",
          "rgba(253,231,36,1)"
         ],
         "x": {
          "dtype": "float64",
          "shape": [
           400
          ],
          "value": {}
         },
         "y": {
          "dtype": "float64",
          "shape": [
           400
          ],
          "value": {}
         },
         "z": {
          "dtype": "float64",
          "shape": [
           400
          ],
          "value": {}
         }
        }
       ],
       "_js2py_pointsCallback": {},
       "_js2py_relayout": {},
       "_js2py_restyle": {},
       "_js2py_update": {},
       "_last_layout_edit_id": 1,
       "_last_trace_edit_id": 1,
       "_layout": {
        "margin": {
         "b": 0,
         "l": 0,
         "r": 0,
         "t": 0
        },
        "scene": {
         "xaxis": {
          "color": "white",
          "title": {
           "text": "s1"
          }
         },
         "yaxis": {
          "color": "white",
          "title": {
           "text": "s2"
          }
         },
         "zaxis": {
          "color": "white",
          "title": {
           "text": "s3"
          }
         }
        },
        "showlegend": false,
        "template": {
         "data": {
          "bar": [
           {
            "error_x": {
             "color": "#2a3f5f"
            },
            "error_y": {
             "color": "#2a3f5f"
            },
            "marker": {
             "line": {
              "color": "#E5ECF6",
              "width": 0.5
             }
            },
            "type": "bar"
           }
          ],
          "barpolar": [
           {
            "marker": {
             "line": {
              "color": "#E5ECF6",
              "width": 0.5
             }
            },
            "type": "barpolar"
           }
          ],
          "carpet": [
           {
            "aaxis": {
             "endlinecolor": "#2a3f5f",
             "gridcolor": "white",
             "linecolor": "white",
             "minorgridcolor": "white",
             "startlinecolor": "#2a3f5f"
            },
            "baxis": {
             "endlinecolor": "#2a3f5f",
             "gridcolor": "white",
             "linecolor": "white",
             "minorgridcolor": "white",
             "startlinecolor": "#2a3f5f"
            },
            "type": "carpet"
           }
          ],
          "choropleth": [
           {
            "colorbar": {
             "outlinewidth": 0,
             "ticks": ""
            },
            "type": "choropleth"
           }
          ],
          "contour": [
           {
            "colorbar": {
             "outlinewidth": 0,
             "ticks": ""
            },
            "colorscale": [
             [
              0,
              "#0d0887"
             ],
             [
              0.1111111111111111,
              "#46039f"
             ],
             [
              0.2222222222222222,
              "#7201a8"
             ],
             [
              0.3333333333333333,
              "#9c179e"
             ],
             [
              0.4444444444444444,
              "#bd3786"
             ],
             [
              0.5555555555555556,
              "#d8576b"
             ],
             [
              0.6666666666666666,
              "#ed7953"
             ],
             [
              0.7777777777777778,
              "#fb9f3a"
             ],
             [
              0.8888888888888888,
              "#fdca26"
             ],
             [
              1,
              "#f0f921"
             ]
            ],
            "type": "contour"
           }
          ],
          "contourcarpet": [
           {
            "colorbar": {
             "outlinewidth": 0,
             "ticks": ""
            },
            "type": "contourcarpet"
           }
          ],
          "heatmap": [
           {
            "colorbar": {
             "outlinewidth": 0,
             "ticks": ""
            },
            "colorscale": [
             [
              0,
              "#0d0887"
             ],
             [
              0.1111111111111111,
              "#46039f"
             ],
             [
              0.2222222222222222,
              "#7201a8"
             ],
             [
              0.3333333333333333,
              "#9c179e"
             ],
             [
              0.4444444444444444,
              "#bd3786"
             ],
             [
              0.5555555555555556,
              "#d8576b"
             ],
             [
              0.6666666666666666,
              "#ed7953"
             ],
             [
              0.7777777777777778,
              "#fb9f3a"
             ],
             [
              0.8888888888888888,
              "#fdca26"
             ],
             [
              1,
              "#f0f921"
             ]
            ],
            "type": "heatmap"
           }
          ],
          "heatmapgl": [
           {
            "colorbar": {
             "outlinewidth": 0,
             "ticks": ""
            },
            "colorscale": [
             [
              0,
              "#0d0887"
             ],
             [
              0.1111111111111111,
              "#46039f"
             ],
             [
              0.2222222222222222,
              "#7201a8"
             ],
             [
              0.3333333333333333,
              "#9c179e"
             ],
             [
              0.4444444444444444,
              "#bd3786"
             ],
             [
              0.5555555555555556,
              "#d8576b"
             ],
             [
              0.6666666666666666,
              "#ed7953"
             ],
             [
              0.7777777777777778,
              "#fb9f3a"
             ],
             [
              0.8888888888888888,
              "#fdca26"
             ],
             [
              1,
              "#f0f921"
             ]
            ],
            "type": "heatmapgl"
           }
          ],
          "histogram": [
           {
            "marker": {
             "colorbar": {
              "outlinewidth": 0,
              "ticks": ""
             }
            },
            "type": "histogram"
           }
          ],
          "histogram2d": [
           {
            "colorbar": {
             "outlinewidth": 0,
             "ticks": ""
            },
            "colorscale": [
             [
              0,
              "#0d0887"
             ],
             [
              0.1111111111111111,
              "#46039f"
             ],
             [
              0.2222222222222222,
              "#7201a8"
             ],
             [
              0.3333333333333333,
              "#9c179e"
             ],
             [
              0.4444444444444444,
              "#bd3786"
             ],
             [
              0.5555555555555556,
              "#d8576b"
             ],
             [
              0.6666666666666666,
              "#ed7953"
             ],
             [
              0.7777777777777778,
              "#fb9f3a"
             ],
             [
              0.8888888888888888,
              "#fdca26"
             ],
             [
              1,
              "#f0f921"
             ]
            ],
            "type": "histogram2d"
           }
          ],
          "histogram2dcontour": [
           {
            "colorbar": {
             "outlinewidth": 0,
             "ticks": ""
            },
            "colorscale": [
             [
              0,
              "#0d0887"
             ],
             [
              0.1111111111111111,
              "#46039f"
             ],
             [
              0.2222222222222222,
              "#7201a8"
             ],
             [
              0.3333333333333333,
              "#9c179e"
             ],
             [
              0.4444444444444444,
              "#bd3786"
             ],
             [
              0.5555555555555556,
              "#d8576b"
             ],
             [
              0.6666666666666666,
              "#ed7953"
             ],
             [
              0.7777777777777778,
              "#fb9f3a"
             ],
             [
              0.8888888888888888,
              "#fdca26"
             ],
             [
              1,
              "#f0f921"
             ]
            ],
            "type": "histogram2dcontour"
           }
          ],
          "mesh3d": [
           {
            "colorbar": {
             "outlinewidth": 0,
             "ticks": ""
            },
            "type": "mesh3d"
           }
          ],
          "parcoords": [
           {
            "line": {
             "colorbar": {
              "outlinewidth": 0,
              "ticks": ""
             }
            },
            "type": "parcoords"
           }
          ],
          "pie": [
           {
            "automargin": true,
            "type": "pie"
           }
          ],
          "scatter": [
           {
            "marker": {
             "colorbar": {
              "outlinewidth": 0,
              "ticks": ""
             }
            },
            "type": "scatter"
           }
          ],
          "scatter3d": [
           {
            "line": {
             "colorbar": {
              "outlinewidth": 0,
              "ticks": ""
             }
            },
            "marker": {
             "colorbar": {
              "outlinewidth": 0,
              "ticks": ""
             }
            },
            "type": "scatter3d"
           }
          ],
          "scattercarpet": [
           {
            "marker": {
             "colorbar": {
              "outlinewidth": 0,
              "ticks": ""
             }
            },
            "type": "scattercarpet"
           }
          ],
          "scattergeo": [
           {
            "marker": {
             "colorbar": {
              "outlinewidth": 0,
              "ticks": ""
             }
            },
            "type": "scattergeo"
           }
          ],
          "scattergl": [
           {
            "marker": {
             "colorbar": {
              "outlinewidth": 0,
              "ticks": ""
             }
            },
            "type": "scattergl"
           }
          ],
          "scattermapbox": [
           {
            "marker": {
             "colorbar": {
              "outlinewidth": 0,
              "ticks": ""
             }
            },
            "type": "scattermapbox"
           }
          ],
          "scatterpolar": [
           {
            "marker": {
             "colorbar": {
              "outlinewidth": 0,
              "ticks": ""
             }
            },
            "type": "scatterpolar"
           }
          ],
          "scatterpolargl": [
           {
            "marker": {
             "colorbar": {
              "outlinewidth": 0,
              "ticks": ""
             }
            },
            "type": "scatterpolargl"
           }
          ],
          "scatterternary": [
           {
            "marker": {
             "colorbar": {
              "outlinewidth": 0,
              "ticks": ""
             }
            },
            "type": "scatterternary"
           }
          ],
          "surface": [
           {
            "colorbar": {
             "outlinewidth": 0,
             "ticks": ""
            },
            "colorscale": [
             [
              0,
              "#0d0887"
             ],
             [
              0.1111111111111111,
              "#46039f"
             ],
             [
              0.2222222222222222,
              "#7201a8"
             ],
             [
              0.3333333333333333,
              "#9c179e"
             ],
             [
              0.4444444444444444,
              "#bd3786"
             ],
             [
              0.5555555555555556,
              "#d8576b"
             ],
             [
              0.6666666666666666,
              "#ed7953"
             ],
             [
              0.7777777777777778,
              "#fb9f3a"
             ],
             [
              0.8888888888888888,
              "#fdca26"
             ],
             [
              1,
              "#f0f921"
             ]
            ],
            "type": "surface"
           }
          ],
          "table": [
           {
            "cells": {
             "fill": {
              "color": "#EBF0F8"
             },
             "line": {
              "color": "white"
             }
            },
            "header": {
             "fill": {
              "color": "#C8D4E3"
             },
             "line": {
              "color": "white"
             }
            },
            "type": "table"
           }
          ]
         },
         "layout": {
          "annotationdefaults": {
           "arrowcolor": "#2a3f5f",
           "arrowhead": 0,
           "arrowwidth": 1
          },
          "coloraxis": {
           "colorbar": {
            "outlinewidth": 0,
            "ticks": ""
           }
          },
          "colorscale": {
           "diverging": [
            [
             0,
             "#8e0152"
            ],
            [
             0.1,
             "#c51b7d"
            ],
            [
             0.2,
             "#de77ae"
            ],
            [
             0.3,
             "#f1b6da"
            ],
            [
             0.4,
             "#fde0ef"
            ],
            [
             0.5,
             "#f7f7f7"
            ],
            [
             0.6,
             "#e6f5d0"
            ],
            [
             0.7,
             "#b8e186"
            ],
            [
             0.8,
             "#7fbc41"
            ],
            [
             0.9,
             "#4d9221"
            ],
            [
             1,
             "#276419"
            ]
           ],
           "sequential": [
            [
             0,
             "#0d0887"
            ],
            [
             0.1111111111111111,
             "#46039f"
            ],
            [
             0.2222222222222222,
             "#7201a8"
            ],
            [
             0.3333333333333333,
             "#9c179e"
            ],
            [
             0.4444444444444444,
             "#bd3786"
            ],
            [
             0.5555555555555556,
             "#d8576b"
            ],
            [
             0.6666666666666666,
             "#ed7953"
            ],
            [
             0.7777777777777778,
             "#fb9f3a"
            ],
            [
             0.8888888888888888,
             "#fdca26"
            ],
            [
             1,
             "#f0f921"
            ]
           ],
           "sequentialminus": [
            [
             0,
             "#0d0887"
            ],
            [
             0.1111111111111111,
             "#46039f"
            ],
            [
             0.2222222222222222,
             "#7201a8"
            ],
            [
             0.3333333333333333,
             "#9c179e"
            ],
            [
             0.4444444444444444,
             "#bd3786"
            ],
            [
             0.5555555555555556,
             "#d8576b"
            ],
            [
             0.6666666666666666,
             "#ed7953"
            ],
            [
             0.7777777777777778,
             "#fb9f3a"
            ],
            [
             0.8888888888888888,
             "#fdca26"
            ],
            [
             1,
             "#f0f921"
            ]
           ]
          },
          "colorway": [
           "#636efa",
           "#EF553B",
           "#00cc96",
           "#ab63fa",
           "#FFA15A",
           "#19d3f3",
           "#FF6692",
           "#B6E880",
           "#FF97FF",
           "#FECB52"
          ],
          "font": {
           "color": "#2a3f5f"
          },
          "geo": {
           "bgcolor": "white",
           "lakecolor": "white",
           "landcolor": "#E5ECF6",
           "showlakes": true,
           "showland": true,
           "subunitcolor": "white"
          },
          "hoverlabel": {
           "align": "left"
          },
          "hovermode": "closest",
          "mapbox": {
           "style": "light"
          },
          "paper_bgcolor": "white",
          "plot_bgcolor": "#E5ECF6",
          "polar": {
           "angularaxis": {
            "gridcolor": "white",
            "linecolor": "white",
            "ticks": ""
           },
           "bgcolor": "#E5ECF6",
           "radialaxis": {
            "gridcolor": "white",
            "linecolor": "white",
            "ticks": ""
           }
          },
          "scene": {
           "xaxis": {
            "backgroundcolor": "#E5ECF6",
            "gridcolor": "white",
            "gridwidth": 2,
            "linecolor": "white",
            "showbackground": true,
            "ticks": "",
            "zerolinecolor": "white"
           },
           "yaxis": {
            "backgroundcolor": "#E5ECF6",
            "gridcolor": "white",
            "gridwidth": 2,
            "linecolor": "white",
            "showbackground": true,
            "ticks": "",
            "zerolinecolor": "white"
           },
           "zaxis": {
            "backgroundcolor": "#E5ECF6",
            "gridcolor": "white",
            "gridwidth": 2,
            "linecolor": "white",
            "showbackground": true,
            "ticks": "",
            "zerolinecolor": "white"
           }
          },
          "shapedefaults": {
           "line": {
            "color": "#2a3f5f"
           }
          },
          "ternary": {
           "aaxis": {
            "gridcolor": "white",
            "linecolor": "white",
            "ticks": ""
           },
           "baxis": {
            "gridcolor": "white",
            "linecolor": "white",
            "ticks": ""
           },
           "bgcolor": "#E5ECF6",
           "caxis": {
            "gridcolor": "white",
            "linecolor": "white",
            "ticks": ""
           }
          },
          "title": {
           "x": 0.05
          },
          "xaxis": {
           "automargin": true,
           "gridcolor": "white",
           "linecolor": "white",
           "ticks": "",
           "title": {
            "standoff": 15
           },
           "zerolinecolor": "white",
           "zerolinewidth": 2
          },
          "yaxis": {
           "automargin": true,
           "gridcolor": "white",
           "linecolor": "white",
           "ticks": "",
           "title": {
            "standoff": 15
           },
           "zerolinecolor": "white",
           "zerolinewidth": 2
          }
         }
        }
       },
       "_py2js_addTraces": {},
       "_py2js_animate": {},
       "_py2js_deleteTraces": {},
       "_py2js_moveTraces": {},
       "_py2js_removeTraceProps": {},
       "_py2js_restyle": {},
       "_view_count": 0
      }
     },
     "d7c81f5003c242d2bff3d6bb71d396f3": {
      "model_module": "@jupyter-widgets/base",
      "model_module_version": "1.2.0",
      "model_name": "LayoutModel",
      "state": {}
     },
     "dab7e9e58b404067bb57e63aa9adf080": {
      "buffers": [
       {
        "data": "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",
        "encoding": "base64",
        "path": [
         "_data",
         0,
         "marker",
         "color",
         "value"
        ]
       },
       {
        "data": "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",
        "encoding": "base64",
        "path": [
         "_data",
         0,
         "x",
         "value"
        ]
       },
       {
        "data": "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",
        "encoding": "base64",
        "path": [
         "_data",
         0,
         "y",
         "value"
        ]
       },
       {
        "data": "AAAAAAAA8D8AAAAAAADwPwAAAAAAAPA/AAAAAAAA8D8AAAAAAADwPwAAAAAAAPA/AAAAAAAA8D8AAAAAAADwPwAAAAAAAPA/AAAAAAAA8D8AAAAAAADwPwAAAAAAAPA/AAAAAAAA8D8AAAAAAADwPwAAAAAAAPA/AAAAAAAA8D8AAAAAAADwPwAAAAAAAPA/AAAAAAAA8D8AAAAAAADwP+EbI4UiRO4/4RsjhSJE7j/hGyOFIkTuP+EbI4UiRO4/4RsjhSJE7j/hGyOFIkTuP+EbI4UiRO4/4RsjhSJE7j/hGyOFIkTuP+EbI4UiRO4/4RsjhSJE7j/hGyOFIkTuP+EbI4UiRO4/4RsjhSJE7j/hGyOFIkTuP+EbI4UiRO4/4RsjhSJE7j/hGyOFIkTuP+EbI4UiRO4/4RsjhSJE7j8jzfmYo0DpPyPN+ZijQOk/I835mKNA6T8jzfmYo0DpPyPN+ZijQOk/I835mKNA6T8jzfmYo0DpPyPN+ZijQOk/I835mKNA6T8jzfmYo0DpPyPN+ZijQOk/I835mKNA6T8jzfmYo0DpPyPN+ZijQOk/I835mKNA6T8jzfmYo0DpPyPN+ZijQOk/I835mKNA6T8jzfmYo0DpPyPN+ZijQOk/ysh3bJmA4T/KyHdsmYDhP8rId2yZgOE/ysh3bJmA4T/KyHdsmYDhP8rId2yZgOE/ysh3bJmA4T/KyHdsmYDhP8rId2yZgOE/ysh3bJmA4T/KyHdsmYDhP8rId2yZgOE/ysh3bJmA4T/KyHdsmYDhP8rId2yZgOE/ysh3bJmA4T/KyHdsmYDhP8rId2yZgOE/ysh3bJmA4T/KyHdsmYDhP0HIdIURbM8/Qch0hRFszz9ByHSFEWzPP0HIdIURbM8/Qch0hRFszz9ByHSFEWzPP0HIdIURbM8/Qch0hRFszz9ByHSFEWzPP0HIdIURbM8/Qch0hRFszz9ByHSFEWzPP0HIdIURbM8/Qch0hRFszz9ByHSFEWzPP0HIdIURbM8/Qch0hRFszz9ByHSFEWzPP0HIdIURbM8/Qch0hRFszz/x9SCE6yO1v/H1IITrI7W/8fUghOsjtb/x9SCE6yO1v/H1IITrI7W/8fUghOsjtb/x9SCE6yO1v/H1IITrI7W/8fUghOsjtb/x9SCE6yO1v/H1IITrI7W/8fUghOsjtb/x9SCE6yO1v/H1IITrI7W/8fUghOsjtb/x9SCE6yO1v/H1IITrI7W/8fUghOsjtb/x9SCE6yO1v/H1IITrI7W/5pb1uWC12b/mlvW5YLXZv+aW9blgtdm/5pb1uWC12b/mlvW5YLXZv+aW9blgtdm/5pb1uWC12b/mlvW5YLXZv+aW9blgtdm/5pb1uWC12b/mlvW5YLXZv+aW9blgtdm/5pb1uWC12b/mlvW5YLXZv+aW9blgtdm/5pb1uWC12b/mlvW5YLXZv+aW9blgtdm/5pb1uWC12b/mlvW5YLXZv/0cCmdKrOW//RwKZ0qs5b/9HApnSqzlv/0cCmdKrOW//RwKZ0qs5b/9HApnSqzlv/0cCmdKrOW//RwKZ0qs5b/9HApnSqzlv/0cCmdKrOW//RwKZ0qs5b/9HApnSqzlv/0cCmdKrOW//RwKZ0qs5b/9HApnSqzlv/0cCmdKrOW//RwKZ0qs5b/9HApnSqzlv/0cCmdKrOW//RwKZ0qs5b/46eMipiTsv/jp4yKmJOy/+OnjIqYk7L/46eMipiTsv/jp4yKmJOy/+OnjIqYk7L/46eMipiTsv/jp4yKmJOy/+OnjIqYk7L/46eMipiTsv/jp4yKmJOy/+OnjIqYk7L/46eMipiTsv/jp4yKmJOy/+OnjIqYk7L/46eMipiTsv/jp4yKmJOy/+OnjIqYk7L/46eMipiTsv/jp4yKmJOy/svKElEWQ77+y8oSURZDvv7LyhJRFkO+/svKElEWQ77+y8oSURZDvv7LyhJRFkO+/svKElEWQ77+y8oSURZDvv7LyhJRFkO+/svKElEWQ77+y8oSURZDvv7LyhJRFkO+/svKElEWQ77+y8oSURZDvv7LyhJRFkO+/svKElEWQ77+y8oSURZDvv7LyhJRFkO+/svKElEWQ77+y8oSURZDvv7PyhJRFkO+/s/KElEWQ77+z8oSURZDvv7PyhJRFkO+/s/KElEWQ77+z8oSURZDvv7PyhJRFkO+/s/KElEWQ77+z8oSURZDvv7PyhJRFkO+/s/KElEWQ77+z8oSURZDvv7PyhJRFkO+/s/KElEWQ77+z8oSURZDvv7PyhJRFkO+/s/KElEWQ77+z8oSURZDvv7PyhJRFkO+/s/KElEWQ77/56eMipiTsv/np4yKmJOy/+enjIqYk7L/56eMipiTsv/np4yKmJOy/+enjIqYk7L/56eMipiTsv/np4yKmJOy/+enjIqYk7L/56eMipiTsv/np4yKmJOy/+enjIqYk7L/56eMipiTsv/np4yKmJOy/+enjIqYk7L/56eMipiTsv/np4yKmJOy/+enjIqYk7L/56eMipiTsv/np4yKmJOy/Ah0KZ0qs5b8CHQpnSqzlvwIdCmdKrOW/Ah0KZ0qs5b8CHQpnSqzlvwIdCmdKrOW/Ah0KZ0qs5b8CHQpnSqzlvwIdCmdKrOW/Ah0KZ0qs5b8CHQpnSqzlvwIdCmdKrOW/Ah0KZ0qs5b8CHQpnSqzlvwIdCmdKrOW/Ah0KZ0qs5b8CHQpnSqzlvwIdCmdKrOW/Ah0KZ0qs5b8CHQpnSqzlv/GW9blgtdm/8Zb1uWC12b/xlvW5YLXZv/GW9blgtdm/8Zb1uWC12b/xlvW5YLXZv/GW9blgtdm/8Zb1uWC12b/xlvW5YLXZv/GW9blgtdm/8Zb1uWC12b/xlvW5YLXZv/GW9blgtdm/8Zb1uWC12b/xlvW5YLXZv/GW9blgtdm/8Zb1uWC12b/xlvW5YLXZv/GW9blgtdm/8Zb1uWC12b8T9iCE6yO1vxP2IITrI7W/E/YghOsjtb8T9iCE6yO1vxP2IITrI7W/E/YghOsjtb8T9iCE6yO1vxP2IITrI7W/E/YghOsjtb8T9iCE6yO1vxP2IITrI7W/E/YghOsjtb8T9iCE6yO1vxP2IITrI7W/E/YghOsjtb8T9iCE6yO1vxP2IITrI7W/E/YghOsjtb8T9iCE6yO1vxP2IITrI7W/Mch0hRFszz8xyHSFEWzPPzHIdIURbM8/Mch0hRFszz8xyHSFEWzPPzHIdIURbM8/Mch0hRFszz8xyHSFEWzPPzHIdIURbM8/Mch0hRFszz8xyHSFEWzPPzHIdIURbM8/Mch0hRFszz8xyHSFEWzPPzHIdIURbM8/Mch0hRFszz8xyHSFEWzPPzHIdIURbM8/Mch0hRFszz8xyHSFEWzPP8fId2yZgOE/x8h3bJmA4T/HyHdsmYDhP8fId2yZgOE/x8h3bJmA4T/HyHdsmYDhP8fId2yZgOE/x8h3bJmA4T/HyHdsmYDhP8fId2yZgOE/x8h3bJmA4T/HyHdsmYDhP8fId2yZgOE/x8h3bJmA4T/HyHdsmYDhP8fId2yZgOE/x8h3bJmA4T/HyHdsmYDhP8fId2yZgOE/x8h3bJmA4T8hzfmYo0DpPyHN+ZijQOk/Ic35mKNA6T8hzfmYo0DpPyHN+ZijQOk/Ic35mKNA6T8hzfmYo0DpPyHN+ZijQOk/Ic35mKNA6T8hzfmYo0DpPyHN+ZijQOk/Ic35mKNA6T8hzfmYo0DpPyHN+ZijQOk/Ic35mKNA6T8hzfmYo0DpPyHN+ZijQOk/Ic35mKNA6T8hzfmYo0DpPyHN+ZijQOk/4RsjhSJE7j/hGyOFIkTuP+EbI4UiRO4/4RsjhSJE7j/hGyOFIkTuP+EbI4UiRO4/4RsjhSJE7j/hGyOFIkTuP+EbI4UiRO4/4RsjhSJE7j/hGyOFIkTuP+EbI4UiRO4/4RsjhSJE7j/hGyOFIkTuP+EbI4UiRO4/4RsjhSJE7j/hGyOFIkTuP+EbI4UiRO4/4RsjhSJE7j/hGyOFIkTuPwAAAAAAAPA/AAAAAAAA8D8AAAAAAADwPwAAAAAAAPA/AAAAAAAA8D8AAAAAAADwPwAAAAAAAPA/AAAAAAAA8D8AAAAAAADwPwAAAAAAAPA/AAAAAAAA8D8AAAAAAADwPwAAAAAAAPA/AAAAAAAA8D8AAAAAAADwPwAAAAAAAPA/AAAAAAAA8D8AAAAAAADwPwAAAAAAAPA/AAAAAAAA8D8=",
        "encoding": "base64",
        "path": [
         "_data",
         0,
         "z",
         "value"
        ]
       },
       {
        "data": "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",
        "encoding": "base64",
        "path": [
         "_data",
         5,
         "x",
         "value"
        ]
       },
       {
        "data": "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",
        "encoding": "base64",
        "path": [
         "_data",
         5,
         "y",
         "value"
        ]
       },
       {
        "data": "DkSCp22KlD8ORIKnbYqUPw5EgqdtipQ/DkSCp22KlD8ORIKnbYqUPw5EgqdtipQ/DkSCp22KlD8ORIKnbYqUPw5EgqdtipQ/DkSCp22KlD8ORIKnbYqUPw5EgqdtipQ/DkSCp22KlD8ORIKnbYqUPw5EgqdtipQ/DkSCp22KlD8ORIKnbYqUPw5EgqdtipQ/DkSCp22KlD8ORIKnbYqUP6Z3mB6DbZM/pneYHoNtkz+md5geg22TP6Z3mB6DbZM/pneYHoNtkz+md5geg22TP6Z3mB6DbZM/pneYHoNtkz+md5geg22TP6Z3mB6DbZM/pneYHoNtkz+md5geg22TP6Z3mB6DbZM/pneYHoNtkz+md5geg22TP6Z3mB6DbZM/pneYHoNtkz+md5geg22TP6Z3mB6DbZM/pneYHoNtkz+hOH2JozWQP6E4fYmjNZA/oTh9iaM1kD+hOH2JozWQP6E4fYmjNZA/oTh9iaM1kD+hOH2JozWQP6E4fYmjNZA/oTh9iaM1kD+hOH2JozWQP6E4fYmjNZA/oTh9iaM1kD+hOH2JozWQP6E4fYmjNZA/oTh9iaM1kD+hOH2JozWQP6E4fYmjNZA/oTh9iaM1kD+hOH2JozWQP6E4fYmjNZA/vTcv5ix4hj+9Ny/mLHiGP703L+YseIY/vTcv5ix4hj+9Ny/mLHiGP703L+YseIY/vTcv5ix4hj+9Ny/mLHiGP703L+YseIY/vTcv5ix4hj+9Ny/mLHiGP703L+YseIY/vTcv5ix4hj+9Ny/mLHiGP703L+YseIY/vTcv5ix4hj+9Ny/mLHiGP703L+YseIY/vTcv5ix4hj+9Ny/mLHiGP6kYkKt4K3Q/qRiQq3grdD+pGJCreCt0P6kYkKt4K3Q/qRiQq3grdD+pGJCreCt0P6kYkKt4K3Q/qRiQq3grdD+pGJCreCt0P6kYkKt4K3Q/qRiQq3grdD+pGJCreCt0P6kYkKt4K3Q/qRiQq3grdD+pGJCreCt0P6kYkKt4K3Q/qRiQq3grdD+pGJCreCt0P6kYkKt4K3Q/qRiQq3grdD/PS4QWzSNbv89LhBbNI1u/z0uEFs0jW7/PS4QWzSNbv89LhBbNI1u/z0uEFs0jW7/PS4QWzSNbv89LhBbNI1u/z0uEFs0jW7/PS4QWzSNbv89LhBbNI1u/z0uEFs0jW7/PS4QWzSNbv89LhBbNI1u/z0uEFs0jW7/PS4QWzSNbv89LhBbNI1u/z0uEFs0jW7/PS4QWzSNbv89LhBbNI1u/JyPAvZKAgL8nI8C9koCAvycjwL2SgIC/JyPAvZKAgL8nI8C9koCAvycjwL2SgIC/JyPAvZKAgL8nI8C9koCAvycjwL2SgIC/JyPAvZKAgL8nI8C9koCAvycjwL2SgIC/JyPAvZKAgL8nI8C9koCAvycjwL2SgIC/JyPAvZKAgL8nI8C9koCAvycjwL2SgIC/JyPAvZKAgL8nI8C9koCAvwr2Jovf0ou/CvYmi9/Si78K9iaL39KLvwr2Jovf0ou/CvYmi9/Si78K9iaL39KLvwr2Jovf0ou/CvYmi9/Si78K9iaL39KLvwr2Jovf0ou/CvYmi9/Si78K9iaL39KLvwr2Jovf0ou/CvYmi9/Si78K9iaL39KLvwr2Jovf0ou/CvYmi9/Si78K9iaL39KLvwr2Jovf0ou/CvYmi9/Si7+4o2xSphCSv7ijbFKmEJK/uKNsUqYQkr+4o2xSphCSv7ijbFKmEJK/uKNsUqYQkr+4o2xSphCSv7ijbFKmEJK/uKNsUqYQkr+4o2xSphCSv7ijbFKmEJK/uKNsUqYQkr+4o2xSphCSv7ijbFKmEJK/uKNsUqYQkr+4o2xSphCSv7ijbFKmEJK/uKNsUqYQkr+4o2xSphCSv7ijbFKmEJK/Rf+J0bVClL9F/4nRtUKUv0X/idG1QpS/Rf+J0bVClL9F/4nRtUKUv0X/idG1QpS/Rf+J0bVClL9F/4nRtUKUv0X/idG1QpS/Rf+J0bVClL9F/4nRtUKUv0X/idG1QpS/Rf+J0bVClL9F/4nRtUKUv0X/idG1QpS/Rf+J0bVClL9F/4nRtUKUv0X/idG1QpS/Rf+J0bVClL9F/4nRtUKUv0b/idG1QpS/Rv+J0bVClL9G/4nRtUKUv0b/idG1QpS/Rv+J0bVClL9G/4nRtUKUv0b/idG1QpS/Rv+J0bVClL9G/4nRtUKUv0b/idG1QpS/Rv+J0bVClL9G/4nRtUKUv0b/idG1QpS/Rv+J0bVClL9G/4nRtUKUv0b/idG1QpS/Rv+J0bVClL9G/4nRtUKUv0b/idG1QpS/Rv+J0bVClL+4o2xSphCSv7ijbFKmEJK/uKNsUqYQkr+4o2xSphCSv7ijbFKmEJK/uKNsUqYQkr+4o2xSphCSv7ijbFKmEJK/uKNsUqYQkr+4o2xSphCSv7ijbFKmEJK/uKNsUqYQkr+4o2xSphCSv7ijbFKmEJK/uKNsUqYQkr+4o2xSphCSv7ijbFKmEJK/uKNsUqYQkr+4o2xSphCSv7ijbFKmEJK/EfYmi9/Si78R9iaL39KLvxH2Jovf0ou/EfYmi9/Si78R9iaL39KLvxH2Jovf0ou/EfYmi9/Si78R9iaL39KLvxH2Jovf0ou/EfYmi9/Si78R9iaL39KLvxH2Jovf0ou/EfYmi9/Si78R9iaL39KLvxH2Jovf0ou/EfYmi9/Si78R9iaL39KLvxH2Jovf0ou/EfYmi9/Si78R9iaL39KLvy4jwL2SgIC/LiPAvZKAgL8uI8C9koCAvy4jwL2SgIC/LiPAvZKAgL8uI8C9koCAvy4jwL2SgIC/LiPAvZKAgL8uI8C9koCAvy4jwL2SgIC/LiPAvZKAgL8uI8C9koCAvy4jwL2SgIC/LiPAvZKAgL8uI8C9koCAvy4jwL2SgIC/LiPAvZKAgL8uI8C9koCAvy4jwL2SgIC/LiPAvZKAgL/7S4QWzSNbv/tLhBbNI1u/+0uEFs0jW7/7S4QWzSNbv/tLhBbNI1u/+0uEFs0jW7/7S4QWzSNbv/tLhBbNI1u/+0uEFs0jW7/7S4QWzSNbv/tLhBbNI1u/+0uEFs0jW7/7S4QWzSNbv/tLhBbNI1u/+0uEFs0jW7/7S4QWzSNbv/tLhBbNI1u/+0uEFs0jW7/7S4QWzSNbv/tLhBbNI1u/nxiQq3grdD+fGJCreCt0P58YkKt4K3Q/nxiQq3grdD+fGJCreCt0P58YkKt4K3Q/nxiQq3grdD+fGJCreCt0P58YkKt4K3Q/nxiQq3grdD+fGJCreCt0P58YkKt4K3Q/nxiQq3grdD+fGJCreCt0P58YkKt4K3Q/nxiQq3grdD+fGJCreCt0P58YkKt4K3Q/nxiQq3grdD+fGJCreCt0P7k3L+YseIY/uTcv5ix4hj+5Ny/mLHiGP7k3L+YseIY/uTcv5ix4hj+5Ny/mLHiGP7k3L+YseIY/uTcv5ix4hj+5Ny/mLHiGP7k3L+YseIY/uTcv5ix4hj+5Ny/mLHiGP7k3L+YseIY/uTcv5ix4hj+5Ny/mLHiGP7k3L+YseIY/uTcv5ix4hj+5Ny/mLHiGP7k3L+YseIY/uTcv5ix4hj+fOH2JozWQP584fYmjNZA/nzh9iaM1kD+fOH2JozWQP584fYmjNZA/nzh9iaM1kD+fOH2JozWQP584fYmjNZA/nzh9iaM1kD+fOH2JozWQP584fYmjNZA/nzh9iaM1kD+fOH2JozWQP584fYmjNZA/nzh9iaM1kD+fOH2JozWQP584fYmjNZA/nzh9iaM1kD+fOH2JozWQP584fYmjNZA/pneYHoNtkz+md5geg22TP6Z3mB6DbZM/pneYHoNtkz+md5geg22TP6Z3mB6DbZM/pneYHoNtkz+md5geg22TP6Z3mB6DbZM/pneYHoNtkz+md5geg22TP6Z3mB6DbZM/pneYHoNtkz+md5geg22TP6Z3mB6DbZM/pneYHoNtkz+md5geg22TP6Z3mB6DbZM/pneYHoNtkz+md5geg22TPw5EgqdtipQ/DkSCp22KlD8ORIKnbYqUPw5EgqdtipQ/DkSCp22KlD8ORIKnbYqUPw5EgqdtipQ/DkSCp22KlD8ORIKnbYqUPw5EgqdtipQ/DkSCp22KlD8ORIKnbYqUPw5EgqdtipQ/DkSCp22KlD8ORIKnbYqUPw5EgqdtipQ/DkSCp22KlD8ORIKnbYqUPw5EgqdtipQ/DkSCp22KlD8=",
        "encoding": "base64",
        "path": [
         "_data",
         5,
         "z",
         "value"
        ]
       }
      ],
      "model_module": "plotlywidget",
      "model_module_version": "^4.13.0",
      "model_name": "FigureModel",
      "state": {
       "_config": {
        "plotlyServerURL": "https://plot.ly"
       },
       "_data": [
        {
         "marker": {
          "color": {
           "dtype": "float64",
           "shape": [
            400
           ],
           "value": {}
          },
          "colorscale": [
           [
            0,
            "#440154"
           ],
           [
            0.1111111111111111,
            "#482878"
           ],
           [
            0.2222222222222222,
            "#3e4989"
           ],
           [
            0.3333333333333333,
            "#31688e"
           ],
           [
            0.4444444444444444,
            "#26828e"
           ],
           [
            0.5555555555555556,
            "#1f9e89"
           ],
           [
            0.6666666666666666,
            "#35b779"
           ],
           [
            0.7777777777777778,
            "#6ece58"
           ],
           [
            0.8888888888888888,
            "#b5de2b"
           ],
           [
            1,
            "#fde725"
           ]
          ],
          "opacity": 0.5,
          "size": 3
         },
         "mode": "markers",
         "type": "scatter3d",
         "uid": "46bc218f-e9ca-4385-8f5d-a390f38de72b",
         "x": {
          "dtype": "float64",
          "shape": [
           400
          ],
          "value": {}
         },
         "y": {
          "dtype": "float64",
          "shape": [
           400
          ],
          "value": {}
         },
         "z": {
          "dtype": "float64",
          "shape": [
           400
          ],
          "value": {}
         }
        },
        {
         "line": {
          "color": "rgba(255,0,0,0.5)",
          "width": 5
         },
         "mode": "lines",
         "type": "scatter3d",
         "uid": "97cf2356-68ad-4b2f-8aeb-3a7768472b71",
         "x": [
          0,
          1
         ],
         "y": [
          0,
          0
         ],
         "z": [
          0,
          0
         ]
        },
        {
         "line": {
          "color": "rgba(0,255,0,0.5)",
          "width": 5
         },
         "mode": "lines",
         "type": "scatter3d",
         "uid": "a762dd91-c07e-4378-b810-6aa5433e7eac",
         "x": [
          0,
          0
         ],
         "y": [
          0,
          1
         ],
         "z": [
          0,
          0
         ]
        },
        {
         "line": {
          "color": "rgba(0,0,255,0.5)",
          "width": 5
         },
         "mode": "lines",
         "type": "scatter3d",
         "uid": "650bca56-909a-4b47-82ff-035b98b0e070",
         "x": [
          0,
          0
         ],
         "y": [
          0,
          0
         ],
         "z": [
          0,
          1
         ]
        },
        {
         "line": {
          "color": "rgba(255,0,255,0.8)",
          "width": 5
         },
         "mode": "lines",
         "type": "scatter3d",
         "uid": "c9624a6a-25f9-47fa-9740-110043ce53be",
         "x": [],
         "y": [],
         "z": []
        },
        {
         "alphahull": 0,
         "flatshading": true,
         "opacity": 0.4,
         "type": "mesh3d",
         "uid": "88b82630-5684-4b39-b6d9-c835e186891d",
         "vertexcolor": [
          "rgba(253,231,36,1)",
          "rgba(253,231,36,1)",
          "rgba(253,231,36,1)",
          "rgba(253,231,36,1)",
          "rgba(253,231,36,1)",
          "rgba(253,231,36,1)",
          "rgba(253,231,36,1)",
          "rgba(253,231,36,1)",
          "rgba(253,231,36,1)",
          "rgba(253,231,36,1)",
          "rgba(253,231,36,1)",
          "rgba(253,231,36,1)",
          "rgba(253,231,36,1)",
          "rgba(253,231,36,1)",
          "rgba(253,231,36,1)",
          "rgba(253,231,36,1)",
          "rgba(253,231,36,1)",
          "rgba(253,231,36,1)",
          "rgba(253,231,36,1)",
          "rgba(253,231,36,1)",
          "rgba(235,228,37,1)",
          "rgba(235,228,37,1)",
          "rgba(235,228,37,1)",
          "rgba(235,228,37,1)",
          "rgba(235,228,37,1)",
          "rgba(235,228,37,1)",
          "rgba(235,228,37,1)",
          "rgba(235,228,37,1)",
          "rgba(235,228,37,1)",
          "rgba(235,228,37,1)",
          "rgba(235,228,37,1)",
          "rgba(235,228,37,1)",
          "rgba(235,228,37,1)",
          "rgba(235,228,37,1)",
          "rgba(235,228,37,1)",
          "rgba(235,228,37,1)",
          "rgba(235,228,37,1)",
          "rgba(235,228,37,1)",
          "rgba(235,228,37,1)",
          "rgba(235,228,37,1)",
          "rgba(185,222,40,1)",
          "rgba(185,222,40,1)",
          "rgba(185,222,40,1)",
          "rgba(185,222,40,1)",
          "rgba(185,222,40,1)",
          "rgba(185,222,40,1)",
          "rgba(185,222,40,1)",
          "rgba(185,222,40,1)",
          "rgba(185,222,40,1)",
          "rgba(185,222,40,1)",
          "rgba(185,222,40,1)",
          "rgba(185,222,40,1)",
          "rgba(185,222,40,1)",
          "rgba(185,222,40,1)",
          "rgba(185,222,40,1)",
          "rgba(185,222,40,1)",
          "rgba(185,222,40,1)",
          "rgba(185,222,40,1)",
          "rgba(185,222,40,1)",
          "rgba(185,222,40,1)",
          "rgba(107,204,89,1)",
          "rgba(107,204,89,1)",
          "rgba(107,204,89,1)",
          "rgba(107,204,89,1)",
          "rgba(107,204,89,1)",
          "rgba(107,204,89,1)",
          "rgba(107,204,89,1)",
          "rgba(107,204,89,1)",
          "rgba(107,204,89,1)",
          "rgba(107,204,89,1)",
          "rgba(107,204,89,1)",
          "rgba(107,204,89,1)",
          "rgba(107,204,89,1)",
          "rgba(107,204,89,1)",
          "rgba(107,204,89,1)",
          "rgba(107,204,89,1)",
          "rgba(107,204,89,1)",
          "rgba(107,204,89,1)",
          "rgba(107,204,89,1)",
          "rgba(107,204,89,1)",
          "rgba(42,173,127,1)",
          "rgba(42,173,127,1)",
          "rgba(42,173,127,1)",
          "rgba(42,173,127,1)",
          "rgba(42,173,127,1)",
          "rgba(42,173,127,1)",
          "rgba(42,173,127,1)",
          "rgba(42,173,127,1)",
          "rgba(42,173,127,1)",
          "rgba(42,173,127,1)",
          "rgba(42,173,127,1)",
          "rgba(42,173,127,1)",
          "rgba(42,173,127,1)",
          "rgba(42,173,127,1)",
          "rgba(42,173,127,1)",
          "rgba(42,173,127,1)",
          "rgba(42,173,127,1)",
          "rgba(42,173,127,1)",
          "rgba(42,173,127,1)",
          "rgba(42,173,127,1)",
          "rgba(36,134,141,1)",
          "rgba(36,134,141,1)",
          "rgba(36,134,141,1)",
          "rgba(36,134,141,1)",
          "rgba(36,134,141,1)",
          "rgba(36,134,141,1)",
          "rgba(36,134,141,1)",
          "rgba(36,134,141,1)",
          "rgba(36,134,141,1)",
          "rgba(36,134,141,1)",
          "rgba(36,134,141,1)",
          "rgba(36,134,141,1)",
          "rgba(36,134,141,1)",
          "rgba(36,134,141,1)",
          "rgba(36,134,141,1)",
          "rgba(36,134,141,1)",
          "rgba(36,134,141,1)",
          "rgba(36,134,141,1)",
          "rgba(36,134,141,1)",
          "rgba(36,134,141,1)",
          "rgba(52,94,140,1)",
          "rgba(52,94,140,1)",
          "rgba(52,94,140,1)",
          "rgba(52,94,140,1)",
          "rgba(52,94,140,1)",
          "rgba(52,94,140,1)",
          "rgba(52,94,140,1)",
          "rgba(52,94,140,1)",
          "rgba(52,94,140,1)",
          "rgba(52,94,140,1)",
          "rgba(52,94,140,1)",
          "rgba(52,94,140,1)",
          "rgba(52,94,140,1)",
          "rgba(52,94,140,1)",
          "rgba(52,94,140,1)",
          "rgba(52,94,140,1)",
          "rgba(52,94,140,1)",
          "rgba(52,94,140,1)",
          "rgba(52,94,140,1)",
          "rgba(52,94,140,1)",
          "rgba(67,55,128,1)",
          "rgba(67,55,128,1)",
          "rgba(67,55,128,1)",
          "rgba(67,55,128,1)",
          "rgba(67,55,128,1)",
          "rgba(67,55,128,1)",
          "rgba(67,55,128,1)",
          "rgba(67,55,128,1)",
          "rgba(67,55,128,1)",
          "rgba(67,55,128,1)",
          "rgba(67,55,128,1)",
          "rgba(67,55,128,1)",
          "rgba(67,55,128,1)",
          "rgba(67,55,128,1)",
          "rgba(67,55,128,1)",
          "rgba(67,55,128,1)",
          "rgba(67,55,128,1)",
          "rgba(67,55,128,1)",
          "rgba(67,55,128,1)",
          "rgba(67,55,128,1)",
          "rgba(70,22,103,1)",
          "rgba(70,22,103,1)",
          "rgba(70,22,103,1)",
          "rgba(70,22,103,1)",
          "rgba(70,22,103,1)",
          "rgba(70,22,103,1)",
          "rgba(70,22,103,1)",
          "rgba(70,22,103,1)",
          "rgba(70,22,103,1)",
          "rgba(70,22,103,1)",
          "rgba(70,22,103,1)",
          "rgba(70,22,103,1)",
          "rgba(70,22,103,1)",
          "rgba(70,22,103,1)",
          "rgba(70,22,103,1)",
          "rgba(70,22,103,1)",
          "rgba(70,22,103,1)",
          "rgba(70,22,103,1)",
          "rgba(70,22,103,1)",
          "rgba(70,22,103,1)",
          "rgba(68,3,86,1)",
          "rgba(68,3,86,1)",
          "rgba(68,3,86,1)",
          "rgba(68,3,86,1)",
          "rgba(68,3,86,1)",
          "rgba(68,3,86,1)",
          "rgba(68,3,86,1)",
          "rgba(68,3,86,1)",
          "rgba(68,3,86,1)",
          "rgba(68,3,86,1)",
          "rgba(68,3,86,1)",
          "rgba(68,3,86,1)",
          "rgba(68,3,86,1)",
          "rgba(68,3,86,1)",
          "rgba(68,3,86,1)",
          "rgba(68,3,86,1)",
          "rgba(68,3,86,1)",
          "rgba(68,3,86,1)",
          "rgba(68,3,86,1)",
          "rgba(68,3,86,1)",
          "rgba(68,3,86,1)",
          "rgba(68,3,86,1)",
          "rgba(68,3,86,1)",
          "rgba(68,3,86,1)",
          "rgba(68,3,86,1)",
          "rgba(68,3,86,1)",
          "rgba(68,3,86,1)",
          "rgba(68,3,86,1)",
          "rgba(68,3,86,1)",
          "rgba(68,3,86,1)",
          "rgba(68,3,86,1)",
          "rgba(68,3,86,1)",
          "rgba(68,3,86,1)",
          "rgba(68,3,86,1)",
          "rgba(68,3,86,1)",
          "rgba(68,3,86,1)",
          "rgba(68,3,86,1)",
          "rgba(68,3,86,1)",
          "rgba(68,3,86,1)",
          "rgba(68,3,86,1)",
          "rgba(70,22,103,1)",
          "rgba(70,22,103,1)",
          "rgba(70,22,103,1)",
          "rgba(70,22,103,1)",
          "rgba(70,22,103,1)",
          "rgba(70,22,103,1)",
          "rgba(70,22,103,1)",
          "rgba(70,22,103,1)",
          "rgba(70,22,103,1)",
          "rgba(70,22,103,1)",
          "rgba(70,22,103,1)",
          "rgba(70,22,103,1)",
          "rgba(70,22,103,1)",
          "rgba(70,22,103,1)",
          "rgba(70,22,103,1)",
          "rgba(70,22,103,1)",
          "rgba(70,22,103,1)",
          "rgba(70,22,103,1)",
          "rgba(70,22,103,1)",
          "rgba(70,22,103,1)",
          "rgba(67,55,128,1)",
          "rgba(67,55,128,1)",
          "rgba(67,55,128,1)",
          "rgba(67,55,128,1)",
          "rgba(67,55,128,1)",
          "rgba(67,55,128,1)",
          "rgba(67,55,128,1)",
          "rgba(67,55,128,1)",
          "rgba(67,55,128,1)",
          "rgba(67,55,128,1)",
          "rgba(67,55,128,1)",
          "rgba(67,55,128,1)",
          "rgba(67,55,128,1)",
          "rgba(67,55,128,1)",
          "rgba(67,55,128,1)",
          "rgba(67,55,128,1)",
          "rgba(67,55,128,1)",
          "rgba(67,55,128,1)",
          "rgba(67,55,128,1)",
          "rgba(67,55,128,1)",
          "rgba(52,94,140,1)",
          "rgba(52,94,140,1)",
          "rgba(52,94,140,1)",
          "rgba(52,94,140,1)",
          "rgba(52,94,140,1)",
          "rgba(52,94,140,1)",
          "rgba(52,94,140,1)",
          "rgba(52,94,140,1)",
          "rgba(52,94,140,1)",
          "rgba(52,94,140,1)",
          "rgba(52,94,140,1)",
          "rgba(52,94,140,1)",
          "rgba(52,94,140,1)",
          "rgba(52,94,140,1)",
          "rgba(52,94,140,1)",
          "rgba(52,94,140,1)",
          "rgba(52,94,140,1)",
          "rgba(52,94,140,1)",
          "rgba(52,94,140,1)",
          "rgba(52,94,140,1)",
          "rgba(36,134,141,1)",
          "rgba(36,134,141,1)",
          "rgba(36,134,141,1)",
          "rgba(36,134,141,1)",
          "rgba(36,134,141,1)",
          "rgba(36,134,141,1)",
          "rgba(36,134,141,1)",
          "rgba(36,134,141,1)",
          "rgba(36,134,141,1)",
          "rgba(36,134,141,1)",
          "rgba(36,134,141,1)",
          "rgba(36,134,141,1)",
          "rgba(36,134,141,1)",
          "rgba(36,134,141,1)",
          "rgba(36,134,141,1)",
          "rgba(36,134,141,1)",
          "rgba(36,134,141,1)",
          "rgba(36,134,141,1)",
          "rgba(36,134,141,1)",
          "rgba(36,134,141,1)",
          "rgba(42,173,127,1)",
          "rgba(42,173,127,1)",
          "rgba(42,173,127,1)",
          "rgba(42,173,127,1)",
          "rgba(42,173,127,1)",
          "rgba(42,173,127,1)",
          "rgba(42,173,127,1)",
          "rgba(42,173,127,1)",
          "rgba(42,173,127,1)",
          "rgba(42,173,127,1)",
          "rgba(42,173,127,1)",
          "rgba(42,173,127,1)",
          "rgba(42,173,127,1)",
          "rgba(42,173,127,1)",
          "rgba(42,173,127,1)",
          "rgba(42,173,127,1)",
          "rgba(42,173,127,1)",
          "rgba(42,173,127,1)",
          "rgba(42,173,127,1)",
          "rgba(42,173,127,1)",
          "rgba(107,204,89,1)",
          "rgba(107,204,89,1)",
          "rgba(107,204,89,1)",
          "rgba(107,204,89,1)",
          "rgba(107,204,89,1)",
          "rgba(107,204,89,1)",
          "rgba(107,204,89,1)",
          "rgba(107,204,89,1)",
          "rgba(107,204,89,1)",
          "rgba(107,204,89,1)",
          "rgba(107,204,89,1)",
          "rgba(107,204,89,1)",
          "rgba(107,204,89,1)",
          "rgba(107,204,89,1)",
          "rgba(107,204,89,1)",
          "rgba(107,204,89,1)",
          "rgba(107,204,89,1)",
          "rgba(107,204,89,1)",
          "rgba(107,204,89,1)",
          "rgba(107,204,89,1)",
          "rgba(185,222,40,1)",
          "rgba(185,222,40,1)",
          "rgba(185,222,40,1)",
          "rgba(185,222,40,1)",
          "rgba(185,222,40,1)",
          "rgba(185,222,40,1)",
          "rgba(185,222,40,1)",
          "rgba(185,222,40,1)",
          "rgba(185,222,40,1)",
          "rgba(185,222,40,1)",
          "rgba(185,222,40,1)",
          "rgba(185,222,40,1)",
          "rgba(185,222,40,1)",
          "rgba(185,222,40,1)",
          "rgba(185,222,40,1)",
          "rgba(185,222,40,1)",
          "rgba(185,222,40,1)",
          "rgba(185,222,40,1)",
          "rgba(185,222,40,1)",
          "rgba(185,222,40,1)",
          "rgba(235,228,37,1)",
          "rgba(235,228,37,1)",
          "rgba(235,228,37,1)",
          "rgba(235,228,37,1)",
          "rgba(235,228,37,1)",
          "rgba(235,228,37,1)",
          "rgba(235,228,37,1)",
          "rgba(235,228,37,1)",
          "rgba(235,228,37,1)",
          "rgba(235,228,37,1)",
          "rgba(235,228,37,1)",
          "rgba(235,228,37,1)",
          "rgba(235,228,37,1)",
          "rgba(235,228,37,1)",
          "rgba(235,228,37,1)",
          "rgba(235,228,37,1)",
          "rgba(235,228,37,1)",
          "rgba(235,228,37,1)",
          "rgba(235,228,37,1)",
          "rgba(235,228,37,1)",
          "rgba(253,231,36,1)",
          "rgba(253,231,36,1)",
          "rgba(253,231,36,1)",
          "rgba(253,231,36,1)",
          "rgba(253,231,36,1)",
          "rgba(253,231,36,1)",
          "rgba(253,231,36,1)",
          "rgba(253,231,36,1)",
          "rgba(253,231,36,1)",
          "rgba(253,231,36,1)",
          "rgba(253,231,36,1)",
          "rgba(253,231,36,1)",
          "rgba(253,231,36,1)",
          "rgba(253,231,36,1)",
          "rgba(253,231,36,1)",
          "rgba(253,231,36,1)",
          "rgba(253,231,36,1)",
          "rgba(253,231,36,1)",
          "rgba(253,231,36,1)",
          "rgba(253,231,36,1)"
         ],
         "x": {
          "dtype": "float64",
          "shape": [
           400
          ],
          "value": {}
         },
         "y": {
          "dtype": "float64",
          "shape": [
           400
          ],
          "value": {}
         },
         "z": {
          "dtype": "float64",
          "shape": [
           400
          ],
          "value": {}
         }
        }
       ],
       "_js2py_pointsCallback": {},
       "_js2py_restyle": {},
       "_js2py_update": {},
       "_last_layout_edit_id": 2,
       "_last_trace_edit_id": 1,
       "_layout": {
        "margin": {
         "b": 0,
         "l": 0,
         "r": 0,
         "t": 0
        },
        "scene": {
         "camera": {
          "center": {
           "x": 0,
           "y": 0,
           "z": 0
          },
          "eye": {
           "x": 1.2499999999999998,
           "y": 1.25,
           "z": 1.2499999999999998
          },
          "projection": {
           "type": "perspective"
          },
          "up": {
           "x": 0,
           "y": 0,
           "z": 1
          }
         },
         "xaxis": {
          "color": "white",
          "title": {
           "text": "s1"
          }
         },
         "yaxis": {
          "color": "white",
          "title": {
           "text": "s2"
          }
         },
         "zaxis": {
          "color": "white",
          "title": {
           "text": "s3"
          }
         }
        },
        "showlegend": false,
        "template": {
         "data": {
          "bar": [
           {
            "error_x": {
             "color": "#2a3f5f"
            },
            "error_y": {
             "color": "#2a3f5f"
            },
            "marker": {
             "line": {
              "color": "#E5ECF6",
              "width": 0.5
             }
            },
            "type": "bar"
           }
          ],
          "barpolar": [
           {
            "marker": {
             "line": {
              "color": "#E5ECF6",
              "width": 0.5
             }
            },
            "type": "barpolar"
           }
          ],
          "carpet": [
           {
            "aaxis": {
             "endlinecolor": "#2a3f5f",
             "gridcolor": "white",
             "linecolor": "white",
             "minorgridcolor": "white",
             "startlinecolor": "#2a3f5f"
            },
            "baxis": {
             "endlinecolor": "#2a3f5f",
             "gridcolor": "white",
             "linecolor": "white",
             "minorgridcolor": "white",
             "startlinecolor": "#2a3f5f"
            },
            "type": "carpet"
           }
          ],
          "choropleth": [
           {
            "colorbar": {
             "outlinewidth": 0,
             "ticks": ""
            },
            "type": "choropleth"
           }
          ],
          "contour": [
           {
            "colorbar": {
             "outlinewidth": 0,
             "ticks": ""
            },
            "colorscale": [
             [
              0,
              "#0d0887"
             ],
             [
              0.1111111111111111,
              "#46039f"
             ],
             [
              0.2222222222222222,
              "#7201a8"
             ],
             [
              0.3333333333333333,
              "#9c179e"
             ],
             [
              0.4444444444444444,
              "#bd3786"
             ],
             [
              0.5555555555555556,
              "#d8576b"
             ],
             [
              0.6666666666666666,
              "#ed7953"
             ],
             [
              0.7777777777777778,
              "#fb9f3a"
             ],
             [
              0.8888888888888888,
              "#fdca26"
             ],
             [
              1,
              "#f0f921"
             ]
            ],
            "type": "contour"
           }
          ],
          "contourcarpet": [
           {
            "colorbar": {
             "outlinewidth": 0,
             "ticks": ""
            },
            "type": "contourcarpet"
           }
          ],
          "heatmap": [
           {
            "colorbar": {
             "outlinewidth": 0,
             "ticks": ""
            },
            "colorscale": [
             [
              0,
              "#0d0887"
             ],
             [
              0.1111111111111111,
              "#46039f"
             ],
             [
              0.2222222222222222,
              "#7201a8"
             ],
             [
              0.3333333333333333,
              "#9c179e"
             ],
             [
              0.4444444444444444,
              "#bd3786"
             ],
             [
              0.5555555555555556,
              "#d8576b"
             ],
             [
              0.6666666666666666,
              "#ed7953"
             ],
             [
              0.7777777777777778,
              "#fb9f3a"
             ],
             [
              0.8888888888888888,
              "#fdca26"
             ],
             [
              1,
              "#f0f921"
             ]
            ],
            "type": "heatmap"
           }
          ],
          "heatmapgl": [
           {
            "colorbar": {
             "outlinewidth": 0,
             "ticks": ""
            },
            "colorscale": [
             [
              0,
              "#0d0887"
             ],
             [
              0.1111111111111111,
              "#46039f"
             ],
             [
              0.2222222222222222,
              "#7201a8"
             ],
             [
              0.3333333333333333,
              "#9c179e"
             ],
             [
              0.4444444444444444,
              "#bd3786"
             ],
             [
              0.5555555555555556,
              "#d8576b"
             ],
             [
              0.6666666666666666,
              "#ed7953"
             ],
             [
              0.7777777777777778,
              "#fb9f3a"
             ],
             [
              0.8888888888888888,
              "#fdca26"
             ],
             [
              1,
              "#f0f921"
             ]
            ],
            "type": "heatmapgl"
           }
          ],
          "histogram": [
           {
            "marker": {
             "colorbar": {
              "outlinewidth": 0,
              "ticks": ""
             }
            },
            "type": "histogram"
           }
          ],
          "histogram2d": [
           {
            "colorbar": {
             "outlinewidth": 0,
             "ticks": ""
            },
            "colorscale": [
             [
              0,
              "#0d0887"
             ],
             [
              0.1111111111111111,
              "#46039f"
             ],
             [
              0.2222222222222222,
              "#7201a8"
             ],
             [
              0.3333333333333333,
              "#9c179e"
             ],
             [
              0.4444444444444444,
              "#bd3786"
             ],
             [
              0.5555555555555556,
              "#d8576b"
             ],
             [
              0.6666666666666666,
              "#ed7953"
             ],
             [
              0.7777777777777778,
              "#fb9f3a"
             ],
             [
              0.8888888888888888,
              "#fdca26"
             ],
             [
              1,
              "#f0f921"
             ]
            ],
            "type": "histogram2d"
           }
          ],
          "histogram2dcontour": [
           {
            "colorbar": {
             "outlinewidth": 0,
             "ticks": ""
            },
            "colorscale": [
             [
              0,
              "#0d0887"
             ],
             [
              0.1111111111111111,
              "#46039f"
             ],
             [
              0.2222222222222222,
              "#7201a8"
             ],
             [
              0.3333333333333333,
              "#9c179e"
             ],
             [
              0.4444444444444444,
              "#bd3786"
             ],
             [
              0.5555555555555556,
              "#d8576b"
             ],
             [
              0.6666666666666666,
              "#ed7953"
             ],
             [
              0.7777777777777778,
              "#fb9f3a"
             ],
             [
              0.8888888888888888,
              "#fdca26"
             ],
             [
              1,
              "#f0f921"
             ]
            ],
            "type": "histogram2dcontour"
           }
          ],
          "mesh3d": [
           {
            "colorbar": {
             "outlinewidth": 0,
             "ticks": ""
            },
            "type": "mesh3d"
           }
          ],
          "parcoords": [
           {
            "line": {
             "colorbar": {
              "outlinewidth": 0,
              "ticks": ""
             }
            },
            "type": "parcoords"
           }
          ],
          "pie": [
           {
            "automargin": true,
            "type": "pie"
           }
          ],
          "scatter": [
           {
            "marker": {
             "colorbar": {
              "outlinewidth": 0,
              "ticks": ""
             }
            },
            "type": "scatter"
           }
          ],
          "scatter3d": [
           {
            "line": {
             "colorbar": {
              "outlinewidth": 0,
              "ticks": ""
             }
            },
            "marker": {
             "colorbar": {
              "outlinewidth": 0,
              "ticks": ""
             }
            },
            "type": "scatter3d"
           }
          ],
          "scattercarpet": [
           {
            "marker": {
             "colorbar": {
              "outlinewidth": 0,
              "ticks": ""
             }
            },
            "type": "scattercarpet"
           }
          ],
          "scattergeo": [
           {
            "marker": {
             "colorbar": {
              "outlinewidth": 0,
              "ticks": ""
             }
            },
            "type": "scattergeo"
           }
          ],
          "scattergl": [
           {
            "marker": {
             "colorbar": {
              "outlinewidth": 0,
              "ticks": ""
             }
            },
            "type": "scattergl"
           }
          ],
          "scattermapbox": [
           {
            "marker": {
             "colorbar": {
              "outlinewidth": 0,
              "ticks": ""
             }
            },
            "type": "scattermapbox"
           }
          ],
          "scatterpolar": [
           {
            "marker": {
             "colorbar": {
              "outlinewidth": 0,
              "ticks": ""
             }
            },
            "type": "scatterpolar"
           }
          ],
          "scatterpolargl": [
           {
            "marker": {
             "colorbar": {
              "outlinewidth": 0,
              "ticks": ""
             }
            },
            "type": "scatterpolargl"
           }
          ],
          "scatterternary": [
           {
            "marker": {
             "colorbar": {
              "outlinewidth": 0,
              "ticks": ""
             }
            },
            "type": "scatterternary"
           }
          ],
          "surface": [
           {
            "colorbar": {
             "outlinewidth": 0,
             "ticks": ""
            },
            "colorscale": [
             [
              0,
              "#0d0887"
             ],
             [
              0.1111111111111111,
              "#46039f"
             ],
             [
              0.2222222222222222,
              "#7201a8"
             ],
             [
              0.3333333333333333,
              "#9c179e"
             ],
             [
              0.4444444444444444,
              "#bd3786"
             ],
             [
              0.5555555555555556,
              "#d8576b"
             ],
             [
              0.6666666666666666,
              "#ed7953"
             ],
             [
              0.7777777777777778,
              "#fb9f3a"
             ],
             [
              0.8888888888888888,
              "#fdca26"
             ],
             [
              1,
              "#f0f921"
             ]
            ],
            "type": "surface"
           }
          ],
          "table": [
           {
            "cells": {
             "fill": {
              "color": "#EBF0F8"
             },
             "line": {
              "color": "white"
             }
            },
            "header": {
             "fill": {
              "color": "#C8D4E3"
             },
             "line": {
              "color": "white"
             }
            },
            "type": "table"
           }
          ]
         },
         "layout": {
          "annotationdefaults": {
           "arrowcolor": "#2a3f5f",
           "arrowhead": 0,
           "arrowwidth": 1
          },
          "coloraxis": {
           "colorbar": {
            "outlinewidth": 0,
            "ticks": ""
           }
          },
          "colorscale": {
           "diverging": [
            [
             0,
             "#8e0152"
            ],
            [
             0.1,
             "#c51b7d"
            ],
            [
             0.2,
             "#de77ae"
            ],
            [
             0.3,
             "#f1b6da"
            ],
            [
             0.4,
             "#fde0ef"
            ],
            [
             0.5,
             "#f7f7f7"
            ],
            [
             0.6,
             "#e6f5d0"
            ],
            [
             0.7,
             "#b8e186"
            ],
            [
             0.8,
             "#7fbc41"
            ],
            [
             0.9,
             "#4d9221"
            ],
            [
             1,
             "#276419"
            ]
           ],
           "sequential": [
            [
             0,
             "#0d0887"
            ],
            [
             0.1111111111111111,
             "#46039f"
            ],
            [
             0.2222222222222222,
             "#7201a8"
            ],
            [
             0.3333333333333333,
             "#9c179e"
            ],
            [
             0.4444444444444444,
             "#bd3786"
            ],
            [
             0.5555555555555556,
             "#d8576b"
            ],
            [
             0.6666666666666666,
             "#ed7953"
            ],
            [
             0.7777777777777778,
             "#fb9f3a"
            ],
            [
             0.8888888888888888,
             "#fdca26"
            ],
            [
             1,
             "#f0f921"
            ]
           ],
           "sequentialminus": [
            [
             0,
             "#0d0887"
            ],
            [
             0.1111111111111111,
             "#46039f"
            ],
            [
             0.2222222222222222,
             "#7201a8"
            ],
            [
             0.3333333333333333,
             "#9c179e"
            ],
            [
             0.4444444444444444,
             "#bd3786"
            ],
            [
             0.5555555555555556,
             "#d8576b"
            ],
            [
             0.6666666666666666,
             "#ed7953"
            ],
            [
             0.7777777777777778,
             "#fb9f3a"
            ],
            [
             0.8888888888888888,
             "#fdca26"
            ],
            [
             1,
             "#f0f921"
            ]
           ]
          },
          "colorway": [
           "#636efa",
           "#EF553B",
           "#00cc96",
           "#ab63fa",
           "#FFA15A",
           "#19d3f3",
           "#FF6692",
           "#B6E880",
           "#FF97FF",
           "#FECB52"
          ],
          "font": {
           "color": "#2a3f5f"
          },
          "geo": {
           "bgcolor": "white",
           "lakecolor": "white",
           "landcolor": "#E5ECF6",
           "showlakes": true,
           "showland": true,
           "subunitcolor": "white"
          },
          "hoverlabel": {
           "align": "left"
          },
          "hovermode": "closest",
          "mapbox": {
           "style": "light"
          },
          "paper_bgcolor": "white",
          "plot_bgcolor": "#E5ECF6",
          "polar": {
           "angularaxis": {
            "gridcolor": "white",
            "linecolor": "white",
            "ticks": ""
           },
           "bgcolor": "#E5ECF6",
           "radialaxis": {
            "gridcolor": "white",
            "linecolor": "white",
            "ticks": ""
           }
          },
          "scene": {
           "xaxis": {
            "backgroundcolor": "#E5ECF6",
            "gridcolor": "white",
            "gridwidth": 2,
            "linecolor": "white",
            "showbackground": true,
            "ticks": "",
            "zerolinecolor": "white"
           },
           "yaxis": {
            "backgroundcolor": "#E5ECF6",
            "gridcolor": "white",
            "gridwidth": 2,
            "linecolor": "white",
            "showbackground": true,
            "ticks": "",
            "zerolinecolor": "white"
           },
           "zaxis": {
            "backgroundcolor": "#E5ECF6",
            "gridcolor": "white",
            "gridwidth": 2,
            "linecolor": "white",
            "showbackground": true,
            "ticks": "",
            "zerolinecolor": "white"
           }
          },
          "shapedefaults": {
           "line": {
            "color": "#2a3f5f"
           }
          },
          "ternary": {
           "aaxis": {
            "gridcolor": "white",
            "linecolor": "white",
            "ticks": ""
           },
           "baxis": {
            "gridcolor": "white",
            "linecolor": "white",
            "ticks": ""
           },
           "bgcolor": "#E5ECF6",
           "caxis": {
            "gridcolor": "white",
            "linecolor": "white",
            "ticks": ""
           }
          },
          "title": {
           "x": 0.05
          },
          "xaxis": {
           "automargin": true,
           "gridcolor": "white",
           "linecolor": "white",
           "ticks": "",
           "title": {
            "standoff": 15
           },
           "zerolinecolor": "white",
           "zerolinewidth": 2
          },
          "yaxis": {
           "automargin": true,
           "gridcolor": "white",
           "linecolor": "white",
           "ticks": "",
           "title": {
            "standoff": 15
           },
           "zerolinecolor": "white",
           "zerolinewidth": 2
          }
         }
        }
       },
       "_py2js_addTraces": {},
       "_py2js_animate": {},
       "_py2js_deleteTraces": {},
       "_py2js_moveTraces": {},
       "_py2js_removeTraceProps": {},
       "_py2js_restyle": {},
       "_view_count": 1
      }
     },
     "e0b4e6ab270c4012b8bb11e4b8d3a06d": {
      "model_module": "@jupyter-widgets/base",
      "model_module_version": "1.2.0",
      "model_name": "LayoutModel",
      "state": {}
     },
     "e3227035db4a4e1396f0dcf5220baaab": {
      "model_module": "@jupyter-widgets/base",
      "model_module_version": "1.2.0",
      "model_name": "LayoutModel",
      "state": {}
     },
     "e64ffc8444924389856a301b63db6189": {
      "model_module": "@jupyter-widgets/controls",
      "model_module_version": "1.5.0",
      "model_name": "FloatSliderModel",
      "state": {
       "description": "scale",
       "layout": "IPY_MODEL_ff25a0c980d84cbab62bf7723c6380b4",
       "max": 1,
       "step": 0.01,
       "style": "IPY_MODEL_9ddd2e04b05e4305b66b57db6556e7ee",
       "value": 1
      }
     },
     "e6ae2ceb8ec44523a4d9a87fd182c9ed": {
      "buffers": [
       {
        "data": "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",
        "encoding": "base64",
        "path": [
         "_data",
         0,
         "marker",
         "color",
         "value"
        ]
       },
       {
        "data": "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",
        "encoding": "base64",
        "path": [
         "_data",
         0,
         "x",
         "value"
        ]
       },
       {
        "data": "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",
        "encoding": "base64",
        "path": [
         "_data",
         0,
         "y",
         "value"
        ]
       },
       {
        "data": "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",
        "encoding": "base64",
        "path": [
         "_data",
         0,
         "z",
         "value"
        ]
       },
       {
        "data": "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",
        "encoding": "base64",
        "path": [
         "_data",
         5,
         "x",
         "value"
        ]
       },
       {
        "data": "AAAAAAAAAAAAAAAAAAAAAAAAAAAAAAAAAAAAAAAAAAAAAAAAAAAAAAAAAAAAAAAAAAAAAAAAAAAAAAAAAAAAAAAAAAAAAAAAAAAAAAAAAAAAAAAAAAAAAAAAAAAAAAAAAAAAAAAAAAAAAAAAAAAAAAAAAAAAAAAAAAAAAAAAAAAAAAAAAAAAAAAAAAAAAAAAAAAAAAAAAAAAAAAAAAAAAAAAAAAAAAAAAAAAAAAAAAAAAAAAAAAAAAAAAAAAAAAAAAAAAAAAAAAAAAAAAAAAAAAAAAAAAAAAAAAAAAAAAAAAAAAAAAAAAAAAAAAAAAAAAAAAAAAAAAAAAAAAAAAAAAAAAAAAAAAAAAAAAAAAAAAAAAAAAAAAAAAAAAAAAAAAAAAAAAAAAAAAAAAAAAAAAAAAAAAAAAAAAAAAAAAAAAAAAAAAAAAAAAAAAAAAAAAAAAAAAAAAAAAAAAAAAAAAAAAAAAAAAAAAAAAAAAAAAAAAAAAAAAAAAAAAAAAAAAAAAAAAAAAAAAAAAAAAAAAAAAAAAAAAAAAAAAAAAAAAAAAAAAAAAAAAAAAAAAAAAAAAAAAAAAAAAAAAAAAAAAAAAAAAAAAAAAAAAAAAAAAAAAAAAAAAAAAAAAAAAAAAAAAAAAAAAAAAAAAAAAAAAAAAAAAAAAAAAAAAAAAAAAAAAAAAAAAAAAAAAAAAAAAAAAAAAAAAAAAAAAAAAAAAAAAAAAAAAAAAAAAAAAAAAAAAAAAAAAAAAAAAAAAAAAAAAAAAAAAAAAAAAAAAAAAAAAAAAAAAAAAAAAAAAAAAAAAAAAAAAAAAAAAAAAAAAAAAAAAAAAAAAAAAAAAAAAAAAAAAAAAAAAAAAAAAAAAAAAAAAAAAAAAAAAAAAAAAAAAAAAAAAAAAAAAAAAAAAAAAAAAAAAAAAAAAAAAAAAAAAAAAAAAAAAAAAAAAAAAAAAAAAAAAAAAAAAAAAAAAAAAAAAAAAAAAAAAAAAAAAAAAAAAAAAAAAAAAAAAAAAAAAAAAAAAAAAAAAAAAAAAAAAAAAAAAAAAAAAAAAAAAAAAAAAAAAAAAAAAAAAAAAAAAAAAAAAAAAAAAAAAAAAAAAAAAAAAAAAAAAAAAAAAAAAAAAAAAAAAAAAAAAAAAAAAAAAAAAAAAAAAAAAAAAAAAAAAAAAAAAAAAAAAAAAAAAAAAAAAAAAAAAAAAAAAAAAAAAAAAAAAAAAAAAAAAAAAAAAAAAAAAAAAAAAAAAAAAAAAAAAAAAAAAAAAAAAAAAAAAAAAAAAAAAAAAAAAAAAAAAAAAAAAAAAAAAAAAAAAAAAAAAAAAAAAAAAAAAAAAAAAAAAAAAAAAAAAAAAAAAAAAAAAAAAAAAAAAAAAAAAAAAAAAAAAAAAAAAAAAAAAAAAAAAAAAAAAAAAAAAAAAAAAAAAAAAAAAAAAAAAAAAAAAAAAAAAAAAAAAAAAAAAAAAAAAAAAAAAAAAAAAAAAAAAAAAAAAAAAAAAAAAAAAAAAAAAAAAAAAAAAAAAAAAAAAAAAAAAAAAAAAAAAAAAAAAAAAAAAAAAAAAAAAAAAAAAAAAAAAAAAAAAAAAAAAAAAAAAAAAAAAAAAAAAAAAAAAAAAAAAAAAAAAAAAAAAAAAAAAAAAAAAAAAAAAAAAAAAAAAAAAAAAAAAAAAAAAAAAAAAAAAAAAAAAAAAAAAAAAAAAAAAAAAAAAAAAAAAAAAAAAAAAAAAAAAAAAAAAAAAAAAAAAAAAAAAAAAAAAAAAAAAAAAAAAAAAAAAAAAAAAAAAAAAAAAAAAAAAAAAAAAAAAAAAAAAAAAAAAAAAAAAAAAAAAAAAAAAAAAAAAAAAAAAAAAAAAAAAAAAAAAAAAAAAAAAAAAAAAAAAAAAAAAAAAAAAAAAAAAAAAAAAAAAAAAAAAAAAAAAAAAAAAAAAAAAAAAAAAAAAAAAAAAAAAAAAAAAAAAAAAAAAAAAAAAAAAAAAAAAAAAAAAAAAAAAAAAAAAAAAAAAAAAAAAAAAAAAAAAAAAAAAAAAAAAAAAAAAAAAAAAAAAAAAAAAAAAAAAAAAAAAAAAAAAAAAAAAAAAAAAAAAAAAAAAAAAAAAAAAAAAAAAAAAAAAAAAAAAAAAAAAAAAAAAAAAAAAAAAAAAAAAAAAAAAAAAAAAAAAAAAAAAAAAAAAAAAAAAAAAAAAAAAAAAAAAAAAAAAAAAAAAAAAAAAAAAAAAAAAAAAAAAAAAAAAAAAAAAAAAAAAAAAAAAAAAAAAAAAAAAAAAAAAAAAAAAAAAAAAAAAAAAAAAAAAAAAAAAAAAAAAAAAAAAAAAAAAAAAAAAAAAAAAAAAAAAAAAAAAAAAAAAAAAAAAAAAAAAAAAAAAAAAAAAAAAAAAAAAAAAAAAAAAAAAAAAAAAAAAAAAAAAAAAAAAAAAAAAAAAAAAAAAAAAAAAAAAAAAAAAAAAAAAAAAAAAAAAAAAAAAAAAAAAAAAAAAAAAAAAAAAAAAAAAAAAAAAAAAAAAAAAAAAAAAAAAAAAAAAAAAAAAAAAAAAAAAAAAAAAAAAAAAAAAAAAAAAAAAAAAAAAAAAAAAAAAAAAAAAAAAAAAAAAAAAAAAAAAAAAAAAAAAAAAAAAAAAAAAAAAAAAAAAAAAAAAAAAAAAAAAAAAAAAAAAAAAAAAAAAAAAAAAAAAAAAAAAAAAAAAAAAAAAAAAAAAAAAAAAAAAAAAAAAAAAAAAAAAAAAAAAAAAAAAAAAAAAAAAAAAAAAAAAAAAAAAAAAAAAAAAAAAAAAAAAAAAAAAAAAAAAAAAAAAAAAAAAAAAAAAAAAAAAAAAAAAAAAAAAAAAAAAAAAAAAAAAAAAAAAAAAAAAAAAAAAAAAAAAAAAAAAAAAAAAAAAAAAAAAAAAAAAAAAAAAAAAAAAAAAAAAAAAAAAAAAAAAAAAAAAAAAAAAAAAAAAAAAAAAAAAAAAAAAAAAAAAAAAAAAAAAAAAAAAAAAAAAAAAAAAAAAAAAAAAAAAAAAAAAAAAAAAAAAAAAAAAAAAAAAAAAAAAAAAAAAAAAAAAAAAAAAAAAAAAAAAAAAAAAAAAAAAAAAAAAAAAAAAAAAAAAAAAAAAAAAAAAAAAAAAAAAAAAAAAAAAAAAAAAAAAAAAAAAAAAAAAAAAAAAAAAAAAAAAAAAAAAAAAAAAAAAAAAAAAAAAAAAAAAAAAAAAAAAAAAAAAAAAAAAAAAAAAAAAAAAAAAAAAAAAAAAAAAAAAAAAAAAAAAAAAAAAAAAAAAAAAAAAAAAAAAAAAAAAAAAAAAAAAAAAAAAAAAAAAAAAAAAAAAAAAAAAAAAAAAAAAAAAAAAAAAAAAAAAAAAAAAAAAAAAAAAAAAAAAAAAAAAAAAAAAAAAAAAAAAAAAAAAAAAAAAAAAAAAAAAAAAAAAAAAAAAAAAAAAAAAAAAAAAAAAAAAAAAAAAAAAAAAAAAAAAAAAAAAAAAAAAAAAAAAAAAAAAAAAAAAAAAAAAAAAAAAAAAAAAAAAAAAAAAAAAAAAAAAAAAAAAAAAAAAAAAAAAAAAAAAAAAAAAAAAAAAAAAAAAAAAAAAAAAAAAAAAAAAAAAAAAAAAAAAAAAAAAAAAAAAAAAAAAAAAAAAAAAAAAAAAAAAAAAAAAAAAAAAAAAAAAAAAAAAAAAAAAAAAAAAAAAAAAAAAAAAAAAAAAAAAAAAAAAAAAAAAAAAAAAAAAAAAAAAAAAAAAAAAAAAAAAAAAAAAAAAAAAAAAAAAAAAAAAAAAAAAAAAAAAAAAAAAAAAAAAAAAAAAAAAAAAAAAAAAAAAAAAAAAAAAAAAAAAAAAAAAAAAAAAAAAAAAAAAAAAAAAAAAAAAAAAAAAAAAAAAAAAAAAAAAAAAAAAAAAAAAAAAAAAAAAAAAAAAAAAAAAAAAAAAAAAAAAAAAAAAAAAAAAAAAAAAAAAAAAAAAAAAAAAAAAAAAAAAAAAAAAAAAAAAAAAAAAAAAAAAAAAAAAAAAAAAAAAAAAAAAAAAAAAAAAAAAAAAAAAAAAAAAAAAAAAAAAAAAAAAAAAAAAAAAAAAAAAAAAAAAAAAAAAAAAAAAAAAAAAAAAAAAAAAAAAAAAAAAAAAAAAAAAAAAAAAAAAAAAAAAAAAAAAAAAAAAAAAAAAAAAAAAAAAAAAAAAAAAAAAAAAAAAAAAAAAAAAAAAAAAAAAAAAAAAAAAAAAAAAAAAAAAAAAAAAAAAAAAAAAAAAAAAAAAAAAAAAAAAAAAAAAAAAAAAAAAAAAAAAAAAAAAAAAAAAAAAAAAAAAAAAAAAA=",
        "encoding": "base64",
        "path": [
         "_data",
         5,
         "y",
         "value"
        ]
       },
       {
        "data": "AAAAAAAAAAAAAAAAAAAAAAAAAAAAAAAAAAAAAAAAAAAAAAAAAAAAAAAAAAAAAAAAAAAAAAAAAAAAAAAAAAAAAAAAAAAAAAAAAAAAAAAAAAAAAAAAAAAAAAAAAAAAAAAAAAAAAAAAAAAAAAAAAAAAAAAAAAAAAAAAAAAAAAAAAAAAAAAAAAAAAAAAAAAAAAAAAAAAAAAAAAAAAAAAAAAAAAAAAAAAAAAAAAAAAAAAAAAAAAAAAAAAAAAAAAAAAAAAAAAAAAAAAAAAAAAAAAAAAAAAAAAAAAAAAAAAAAAAAAAAAAAAAAAAAAAAAAAAAAAAAAAAAAAAAAAAAAAAAAAAAAAAAAAAAAAAAAAAAAAAAAAAAAAAAAAAAAAAAAAAAAAAAAAAAAAAAAAAAAAAAAAAAAAAAAAAAAAAAAAAAAAAAAAAAAAAAAAAAAAAAAAAAAAAAAAAAAAAAAAAAAAAAAAAAAAAAAAAAAAAAAAAAAAAAAAAAAAAAAAAAAAAAAAAAAAAAAAAAAAAAAAAAAAAAAAAAAAAAAAAAAAAAAAAAAAAAAAAAAAAAAAAAAAAAAAAAAAAAAAAAAAAAAAAAAAAAAAAAAAAAAAAAAAAAAAAAAAAAAAAAAAAAAAAAAAAAAAAAAAAAAAAAAAAAAAAAAAAAAAAAAAAAAAAAAAAAAAAAAAAAAAAAAAAAAAAAAAAAAAAAAAAAAAAAAAAAAAAAAAAAAAAAAAAAAAAAAAAAAAAAAAAAAAAAAAAAAAAAAAAAAAAAAAAAAAAAAAAAAAAAAAAAAAAAAAAAAAAAAAAAAAAAAAAAAAAAAAAAAAAAAAAAAAAAAAAAAAAAAAAAAAAAAAAAAAAAAAAAAAAAAAAAAAAAAAAAAAAAAAAAAAAAAAAAAAAAAAAAAAAAAAAAAAAAAAAAAAAAAAAAAAAAAAAAAAAAAAAAAAAAAAAAAAAAAAAAAAAAAAAAAAAAAAAAAAAAAAAAAAAAAAAAAAAAAAAAAAAAAAAAAAAAAAAAAAAAAAAAAAAAAAAAAAAAAAAAAAAAAAAAAAAAAAAAAAAAAAAAAAAAAAAAAAAAAAAAAAAAAAAAAAAAAAAAAAAAAAAAAAAAAAAAAAAAAAAAAAAAAAAAAAAAAAAAAAAAAAAAAAAAAAAAAAAAAAAAAAAAAAAAAAAAAAAAAAAAAAAAAAAAAAAAAAAAAAAAAAAAAAAAAAAAAAAAAAAAAAAAAAAAAAAAAAAAAAAAAAAAAAAAAAAAAAAAAAAAAAAAAAAAAAAAAAAAAAAAAAAAAAAAAAAAAAAAAAAAAAAAAAAAAAAAAAAAAAAAAAAAAAAAAAAAAAAAAAAAAAAAAAAAAAAAAAAAAAAAAAAAAAAAAAAAAAAAAAAAAAAAAAAAAAAAAAAAAAAAAAAAAAAAAAAAAAAAAAAAAAAAAAAAAAAAAAAAAAAAAAAAAAAAAAAAAAAAAAAAAAAAAAAAAAAAAAAAAAAAAAAAAAAAAAAAAAAAAAAAAAAAAAAAAAAAAAAAAAAAAAAAAAAAAAAAAAAAAAAAAAAAAAAAAAAAAAAAAAAAAAAAAAAAAAAAAAAAAAAAAAAAAAAAAAAAAAAAAAAAAAAAAAAAAAAAAAAAAAAAAAAAAAAAAAAAAAAAAAAAAAAAAAAAAAAAAAAAAAAAAAAAAAAAAAAAAAAAAAAAAAAAAAAAAAAAAAAAAAAAAAAAAAAAAAAAAAAAAAAAAAAAAAAAAAAAAAAAAAAAAAAAAAAAAAAAAAAAAAAAAAAAAAAAAAAAAAAAAAAAAAAAAAAAAAAAAAAAAAAAAAAAAAAAAAAAAAAAAAAAAAAAAAAAAAAAAAAAAAAAAAAAAAAAAAAAAAAAAAAAAAAAAAAAAAAAAAAAAAAAAAAAAAAAAAAAAAAAAAAAAAAAAAAAAAAAAAAAAAAAAAAAAAAAAAAAAAAAAAAAAAAAAAAAAAAAAAAAAAAAAAAAAAAAAAAAAAAAAAAAAAAAAAAAAAAAAAAAAAAAAAAAAAAAAAAAAAAAAAAAAAAAAAAAAAAAAAAAAAAAAAAAAAAAAAAAAAAAAAAAAAAAAAAAAAAAAAAAAAAAAAAAAAAAAAAAAAAAAAAAAAAAAAAAAAAAAAAAAAAAAAAAAAAAAAAAAAAAAAAAAAAAAAAAAAAAAAAAAAAAAAAAAAAAAAAAAAAAAAAAAAAAAAAAAAAAAAAAAAAAAAAAAAAAAAAAAAAAAAAAAAAAAAAAAAAAAAAAAAAAAAAAAAAAAAAAAAAAAAAAAAAAAAAAAAAAAAAAAAAAAAAAAAAAAAAAAAAAAAAAAAAAAAAAAAAAAAAAAAAAAAAAAAAAAAAAAAAAAAAAAAAAAAAAAAAAAAAAAAAAAAAAAAAAAAAAAAAAAAAAAAAAAAAAAAAAAAAAAAAAAAAAAAAAAAAAAAAAAAAAAAAAAAAAAAAAAAAAAAAAAAAAAAAAAAAAAAAAAAAAAAAAAAAAAAAAAAAAAAAAAAAAAAAAAAAAAAAAAAAAAAAAAAAAAAAAAAAAAAAAAAAAAAAAAAAAAAAAAAAAAAAAAAAAAAAAAAAAAAAAAAAAAAAAAAAAAAAAAAAAAAAAAAAAAAAAAAAAAAAAAAAAAAAAAAAAAAAAAAAAAAAAAAAAAAAAAAAAAAAAAAAAAAAAAAAAAAAAAAAAAAAAAAAAAAAAAAAAAAAAAAAAAAAAAAAAAAAAAAAAAAAAAAAAAAAAAAAAAAAAAAAAAAAAAAAAAAAAAAAAAAAAAAAAAAAAAAAAAAAAAAAAAAAAAAAAAAAAAAAAAAAAAAAAAAAAAAAAAAAAAAAAAAAAAAAAAAAAAAAAAAAAAAAAAAAAAAAAAAAAAAAAAAAAAAAAAAAAAAAAAAAAAAAAAAAAAAAAAAAAAAAAAAAAAAAAAAAAAAAAAAAAAAAAAAAAAAAAAAAAAAAAAAAAAAAAAAAAAAAAAAAAAAAAAAAAAAAAAAAAAAAAAAAAAAAAAAAAAAAAAAAAAAAAAAAAAAAAAAAAAAAAAAAAAAAAAAAAAAAAAAAAAAAAAAAAAAAAAAAAAAAAAAAAAAAAAAAAAAAAAAAAAAAAAAAAAAAAAAAAAAAAAAAAAAAAAAAAAAAAAAAAAAAAAAAAAAAAAAAAAAAAAAAAAAAAAAAAAAAAAAAAAAAAAAAAAAAAAAAAAAAAAAAAAAAAAAAAAAAAAAAAAAAAAAAAAAAAAAAAAAAAAAAAAAAAAAAAAAAAAAAAAAAAAAAAAAAAAAAAAAAAAAAAAAAAAAAAAAAAAAAAAAAAAAAAAAAAAAAAAAAAAAAAAAAAAAAAAAAAAAAAAAAAAAAAAAAAAAAAAAAAAAAAAAAAAAAAAAAAAAAAAAAAAAAAAAAAAAAAAAAAAAAAAAAAAAAAAAAAAAAAAAAAAAAAAAAAAAAAAAAAAAAAAAAAAAAAAAAAAAAAAAAAAAAAAAAAAAAAAAAAAAAAAAAAAAAAAAAAAAAAAAAAAAAAAAAAAAAAAAAAAAAAAAAAAAAAAAAAAAAAAAAAAAAAAAAAAAAAAAAAAAAAAAAAAAAAAAAAAAAAAAAAAAAAAAAAAAAAAAAAAAAAAAAAAAAAAAAAAAAAAAAAAAAAAAAAAAAAAAAAAAAAAAAAAAAAAAAAAAAAAAAAAAAAAAAAAAAAAAAAAAAAAAAAAAAAAAAAAAAAAAAAAAAAAAAAAAAAAAAAAAAAAAAAAAAAAAAAAAAAAAAAAAAAAAAAAAAAAAAAAAAAAAAAAAAAAAAAAAAAAAAAAAAAAAAAAAAAAAAAAAAAAAAAAAAAAAAAAAAAAAAAAAAAAAAAAAAAAAAAAAAAAAAAAAAAAAAAAAAAAAAAAAAAAAAAAAAAAAAAAAAAAAAAAAAAAAAAAAAAAAAAAAAAAAAAAAAAAAAAAAAAAAAAAAAAAAAAAAAAAAAAAAAAAAAAAAAAAAAAAAAAAAAAAAAAAAAAAAAAAAAAAAAAAAAAAAAAAAAAAAAAAAAAAAAAAAAAAAAAAAAAAAAAAAAAAAAAAAAAAAAAAAAAAAAAAAAAAAAAAAAAAAAAAAAAAAAAAAAAAAAAAAAAAAAAAAAAAAAAAAAAAAAAAAAAAAAAAAAAAAAAAAAAAAAAAAAAAAAAAAAAAAAAAAAAAAAAAAAAAAAAAAAAAAAAAAAAAAAAAAAAAAAAAAAAAAAAAAAAAAAAAAAAAAAAAAAAAAAAAAAAAAAAAAAAAAAAAAAAAAAAAAAAAAAAAAAAAAAAAAAAAAAAAAAAAAAAAAAAAAAAAAAAAAAAAAAAAAAAAAAAAAAAAA=",
        "encoding": "base64",
        "path": [
         "_data",
         5,
         "z",
         "value"
        ]
       }
      ],
      "model_module": "plotlywidget",
      "model_module_version": "^4.13.0",
      "model_name": "FigureModel",
      "state": {
       "_config": {
        "plotlyServerURL": "https://plot.ly"
       },
       "_data": [
        {
         "marker": {
          "color": {
           "dtype": "float64",
           "shape": [
            400
           ],
           "value": {}
          },
          "colorscale": [
           [
            0,
            "#440154"
           ],
           [
            0.1111111111111111,
            "#482878"
           ],
           [
            0.2222222222222222,
            "#3e4989"
           ],
           [
            0.3333333333333333,
            "#31688e"
           ],
           [
            0.4444444444444444,
            "#26828e"
           ],
           [
            0.5555555555555556,
            "#1f9e89"
           ],
           [
            0.6666666666666666,
            "#35b779"
           ],
           [
            0.7777777777777778,
            "#6ece58"
           ],
           [
            0.8888888888888888,
            "#b5de2b"
           ],
           [
            1,
            "#fde725"
           ]
          ],
          "opacity": 0.5,
          "size": 3
         },
         "mode": "markers",
         "type": "scatter3d",
         "uid": "e85a280d-7fda-41a1-be36-6e4accbfd239",
         "x": {
          "dtype": "float64",
          "shape": [
           400
          ],
          "value": {}
         },
         "y": {
          "dtype": "float64",
          "shape": [
           400
          ],
          "value": {}
         },
         "z": {
          "dtype": "float64",
          "shape": [
           400
          ],
          "value": {}
         }
        },
        {
         "line": {
          "color": "rgba(255,0,0,0.5)",
          "width": 5
         },
         "mode": "lines",
         "type": "scatter3d",
         "uid": "47bf344e-6d08-42f5-91b8-8fcf202f3c1b",
         "x": [
          0,
          1
         ],
         "y": [
          0,
          0
         ],
         "z": [
          0,
          0
         ]
        },
        {
         "line": {
          "color": "rgba(0,255,0,0.5)",
          "width": 5
         },
         "mode": "lines",
         "type": "scatter3d",
         "uid": "449a7879-48ca-41ed-b90f-b3c66a04f112",
         "x": [
          0,
          0
         ],
         "y": [
          0,
          1
         ],
         "z": [
          0,
          0
         ]
        },
        {
         "line": {
          "color": "rgba(0,0,255,0.5)",
          "width": 5
         },
         "mode": "lines",
         "type": "scatter3d",
         "uid": "03584fe2-64e7-4dcb-9330-6e37af0fbc12",
         "x": [
          0,
          0
         ],
         "y": [
          0,
          0
         ],
         "z": [
          0,
          1
         ]
        },
        {
         "line": {
          "color": "rgba(255,0,255,0.8)",
          "width": 5
         },
         "mode": "lines",
         "type": "scatter3d",
         "uid": "c3f6ebe5-2479-4afd-9bc9-1fd90b32bb0d",
         "x": [],
         "y": [],
         "z": []
        },
        {
         "line": {
          "color": "rgba(255,255,0,0.8)",
          "width": 5
         },
         "mode": "lines",
         "type": "scatter3d",
         "uid": "1afaee04-a813-4523-94bc-6d77395a7fcd",
         "x": {
          "dtype": "float64",
          "shape": [
           400
          ],
          "value": {}
         },
         "y": {
          "dtype": "float64",
          "shape": [
           400
          ],
          "value": {}
         },
         "z": {
          "dtype": "float64",
          "shape": [
           400
          ],
          "value": {}
         }
        }
       ],
       "_js2py_pointsCallback": {},
       "_js2py_relayout": {},
       "_js2py_restyle": {},
       "_js2py_update": {},
       "_last_layout_edit_id": 1,
       "_last_trace_edit_id": 1,
       "_layout": {
        "margin": {
         "b": 0,
         "l": 0,
         "r": 0,
         "t": 0
        },
        "scene": {
         "xaxis": {
          "color": "white",
          "title": {
           "text": "s1"
          }
         },
         "yaxis": {
          "color": "white",
          "title": {
           "text": "s2"
          }
         },
         "zaxis": {
          "color": "white",
          "title": {
           "text": "s3"
          }
         }
        },
        "showlegend": false,
        "template": {
         "data": {
          "bar": [
           {
            "error_x": {
             "color": "#2a3f5f"
            },
            "error_y": {
             "color": "#2a3f5f"
            },
            "marker": {
             "line": {
              "color": "#E5ECF6",
              "width": 0.5
             }
            },
            "type": "bar"
           }
          ],
          "barpolar": [
           {
            "marker": {
             "line": {
              "color": "#E5ECF6",
              "width": 0.5
             }
            },
            "type": "barpolar"
           }
          ],
          "carpet": [
           {
            "aaxis": {
             "endlinecolor": "#2a3f5f",
             "gridcolor": "white",
             "linecolor": "white",
             "minorgridcolor": "white",
             "startlinecolor": "#2a3f5f"
            },
            "baxis": {
             "endlinecolor": "#2a3f5f",
             "gridcolor": "white",
             "linecolor": "white",
             "minorgridcolor": "white",
             "startlinecolor": "#2a3f5f"
            },
            "type": "carpet"
           }
          ],
          "choropleth": [
           {
            "colorbar": {
             "outlinewidth": 0,
             "ticks": ""
            },
            "type": "choropleth"
           }
          ],
          "contour": [
           {
            "colorbar": {
             "outlinewidth": 0,
             "ticks": ""
            },
            "colorscale": [
             [
              0,
              "#0d0887"
             ],
             [
              0.1111111111111111,
              "#46039f"
             ],
             [
              0.2222222222222222,
              "#7201a8"
             ],
             [
              0.3333333333333333,
              "#9c179e"
             ],
             [
              0.4444444444444444,
              "#bd3786"
             ],
             [
              0.5555555555555556,
              "#d8576b"
             ],
             [
              0.6666666666666666,
              "#ed7953"
             ],
             [
              0.7777777777777778,
              "#fb9f3a"
             ],
             [
              0.8888888888888888,
              "#fdca26"
             ],
             [
              1,
              "#f0f921"
             ]
            ],
            "type": "contour"
           }
          ],
          "contourcarpet": [
           {
            "colorbar": {
             "outlinewidth": 0,
             "ticks": ""
            },
            "type": "contourcarpet"
           }
          ],
          "heatmap": [
           {
            "colorbar": {
             "outlinewidth": 0,
             "ticks": ""
            },
            "colorscale": [
             [
              0,
              "#0d0887"
             ],
             [
              0.1111111111111111,
              "#46039f"
             ],
             [
              0.2222222222222222,
              "#7201a8"
             ],
             [
              0.3333333333333333,
              "#9c179e"
             ],
             [
              0.4444444444444444,
              "#bd3786"
             ],
             [
              0.5555555555555556,
              "#d8576b"
             ],
             [
              0.6666666666666666,
              "#ed7953"
             ],
             [
              0.7777777777777778,
              "#fb9f3a"
             ],
             [
              0.8888888888888888,
              "#fdca26"
             ],
             [
              1,
              "#f0f921"
             ]
            ],
            "type": "heatmap"
           }
          ],
          "heatmapgl": [
           {
            "colorbar": {
             "outlinewidth": 0,
             "ticks": ""
            },
            "colorscale": [
             [
              0,
              "#0d0887"
             ],
             [
              0.1111111111111111,
              "#46039f"
             ],
             [
              0.2222222222222222,
              "#7201a8"
             ],
             [
              0.3333333333333333,
              "#9c179e"
             ],
             [
              0.4444444444444444,
              "#bd3786"
             ],
             [
              0.5555555555555556,
              "#d8576b"
             ],
             [
              0.6666666666666666,
              "#ed7953"
             ],
             [
              0.7777777777777778,
              "#fb9f3a"
             ],
             [
              0.8888888888888888,
              "#fdca26"
             ],
             [
              1,
              "#f0f921"
             ]
            ],
            "type": "heatmapgl"
           }
          ],
          "histogram": [
           {
            "marker": {
             "colorbar": {
              "outlinewidth": 0,
              "ticks": ""
             }
            },
            "type": "histogram"
           }
          ],
          "histogram2d": [
           {
            "colorbar": {
             "outlinewidth": 0,
             "ticks": ""
            },
            "colorscale": [
             [
              0,
              "#0d0887"
             ],
             [
              0.1111111111111111,
              "#46039f"
             ],
             [
              0.2222222222222222,
              "#7201a8"
             ],
             [
              0.3333333333333333,
              "#9c179e"
             ],
             [
              0.4444444444444444,
              "#bd3786"
             ],
             [
              0.5555555555555556,
              "#d8576b"
             ],
             [
              0.6666666666666666,
              "#ed7953"
             ],
             [
              0.7777777777777778,
              "#fb9f3a"
             ],
             [
              0.8888888888888888,
              "#fdca26"
             ],
             [
              1,
              "#f0f921"
             ]
            ],
            "type": "histogram2d"
           }
          ],
          "histogram2dcontour": [
           {
            "colorbar": {
             "outlinewidth": 0,
             "ticks": ""
            },
            "colorscale": [
             [
              0,
              "#0d0887"
             ],
             [
              0.1111111111111111,
              "#46039f"
             ],
             [
              0.2222222222222222,
              "#7201a8"
             ],
             [
              0.3333333333333333,
              "#9c179e"
             ],
             [
              0.4444444444444444,
              "#bd3786"
             ],
             [
              0.5555555555555556,
              "#d8576b"
             ],
             [
              0.6666666666666666,
              "#ed7953"
             ],
             [
              0.7777777777777778,
              "#fb9f3a"
             ],
             [
              0.8888888888888888,
              "#fdca26"
             ],
             [
              1,
              "#f0f921"
             ]
            ],
            "type": "histogram2dcontour"
           }
          ],
          "mesh3d": [
           {
            "colorbar": {
             "outlinewidth": 0,
             "ticks": ""
            },
            "type": "mesh3d"
           }
          ],
          "parcoords": [
           {
            "line": {
             "colorbar": {
              "outlinewidth": 0,
              "ticks": ""
             }
            },
            "type": "parcoords"
           }
          ],
          "pie": [
           {
            "automargin": true,
            "type": "pie"
           }
          ],
          "scatter": [
           {
            "marker": {
             "colorbar": {
              "outlinewidth": 0,
              "ticks": ""
             }
            },
            "type": "scatter"
           }
          ],
          "scatter3d": [
           {
            "line": {
             "colorbar": {
              "outlinewidth": 0,
              "ticks": ""
             }
            },
            "marker": {
             "colorbar": {
              "outlinewidth": 0,
              "ticks": ""
             }
            },
            "type": "scatter3d"
           }
          ],
          "scattercarpet": [
           {
            "marker": {
             "colorbar": {
              "outlinewidth": 0,
              "ticks": ""
             }
            },
            "type": "scattercarpet"
           }
          ],
          "scattergeo": [
           {
            "marker": {
             "colorbar": {
              "outlinewidth": 0,
              "ticks": ""
             }
            },
            "type": "scattergeo"
           }
          ],
          "scattergl": [
           {
            "marker": {
             "colorbar": {
              "outlinewidth": 0,
              "ticks": ""
             }
            },
            "type": "scattergl"
           }
          ],
          "scattermapbox": [
           {
            "marker": {
             "colorbar": {
              "outlinewidth": 0,
              "ticks": ""
             }
            },
            "type": "scattermapbox"
           }
          ],
          "scatterpolar": [
           {
            "marker": {
             "colorbar": {
              "outlinewidth": 0,
              "ticks": ""
             }
            },
            "type": "scatterpolar"
           }
          ],
          "scatterpolargl": [
           {
            "marker": {
             "colorbar": {
              "outlinewidth": 0,
              "ticks": ""
             }
            },
            "type": "scatterpolargl"
           }
          ],
          "scatterternary": [
           {
            "marker": {
             "colorbar": {
              "outlinewidth": 0,
              "ticks": ""
             }
            },
            "type": "scatterternary"
           }
          ],
          "surface": [
           {
            "colorbar": {
             "outlinewidth": 0,
             "ticks": ""
            },
            "colorscale": [
             [
              0,
              "#0d0887"
             ],
             [
              0.1111111111111111,
              "#46039f"
             ],
             [
              0.2222222222222222,
              "#7201a8"
             ],
             [
              0.3333333333333333,
              "#9c179e"
             ],
             [
              0.4444444444444444,
              "#bd3786"
             ],
             [
              0.5555555555555556,
              "#d8576b"
             ],
             [
              0.6666666666666666,
              "#ed7953"
             ],
             [
              0.7777777777777778,
              "#fb9f3a"
             ],
             [
              0.8888888888888888,
              "#fdca26"
             ],
             [
              1,
              "#f0f921"
             ]
            ],
            "type": "surface"
           }
          ],
          "table": [
           {
            "cells": {
             "fill": {
              "color": "#EBF0F8"
             },
             "line": {
              "color": "white"
             }
            },
            "header": {
             "fill": {
              "color": "#C8D4E3"
             },
             "line": {
              "color": "white"
             }
            },
            "type": "table"
           }
          ]
         },
         "layout": {
          "annotationdefaults": {
           "arrowcolor": "#2a3f5f",
           "arrowhead": 0,
           "arrowwidth": 1
          },
          "coloraxis": {
           "colorbar": {
            "outlinewidth": 0,
            "ticks": ""
           }
          },
          "colorscale": {
           "diverging": [
            [
             0,
             "#8e0152"
            ],
            [
             0.1,
             "#c51b7d"
            ],
            [
             0.2,
             "#de77ae"
            ],
            [
             0.3,
             "#f1b6da"
            ],
            [
             0.4,
             "#fde0ef"
            ],
            [
             0.5,
             "#f7f7f7"
            ],
            [
             0.6,
             "#e6f5d0"
            ],
            [
             0.7,
             "#b8e186"
            ],
            [
             0.8,
             "#7fbc41"
            ],
            [
             0.9,
             "#4d9221"
            ],
            [
             1,
             "#276419"
            ]
           ],
           "sequential": [
            [
             0,
             "#0d0887"
            ],
            [
             0.1111111111111111,
             "#46039f"
            ],
            [
             0.2222222222222222,
             "#7201a8"
            ],
            [
             0.3333333333333333,
             "#9c179e"
            ],
            [
             0.4444444444444444,
             "#bd3786"
            ],
            [
             0.5555555555555556,
             "#d8576b"
            ],
            [
             0.6666666666666666,
             "#ed7953"
            ],
            [
             0.7777777777777778,
             "#fb9f3a"
            ],
            [
             0.8888888888888888,
             "#fdca26"
            ],
            [
             1,
             "#f0f921"
            ]
           ],
           "sequentialminus": [
            [
             0,
             "#0d0887"
            ],
            [
             0.1111111111111111,
             "#46039f"
            ],
            [
             0.2222222222222222,
             "#7201a8"
            ],
            [
             0.3333333333333333,
             "#9c179e"
            ],
            [
             0.4444444444444444,
             "#bd3786"
            ],
            [
             0.5555555555555556,
             "#d8576b"
            ],
            [
             0.6666666666666666,
             "#ed7953"
            ],
            [
             0.7777777777777778,
             "#fb9f3a"
            ],
            [
             0.8888888888888888,
             "#fdca26"
            ],
            [
             1,
             "#f0f921"
            ]
           ]
          },
          "colorway": [
           "#636efa",
           "#EF553B",
           "#00cc96",
           "#ab63fa",
           "#FFA15A",
           "#19d3f3",
           "#FF6692",
           "#B6E880",
           "#FF97FF",
           "#FECB52"
          ],
          "font": {
           "color": "#2a3f5f"
          },
          "geo": {
           "bgcolor": "white",
           "lakecolor": "white",
           "landcolor": "#E5ECF6",
           "showlakes": true,
           "showland": true,
           "subunitcolor": "white"
          },
          "hoverlabel": {
           "align": "left"
          },
          "hovermode": "closest",
          "mapbox": {
           "style": "light"
          },
          "paper_bgcolor": "white",
          "plot_bgcolor": "#E5ECF6",
          "polar": {
           "angularaxis": {
            "gridcolor": "white",
            "linecolor": "white",
            "ticks": ""
           },
           "bgcolor": "#E5ECF6",
           "radialaxis": {
            "gridcolor": "white",
            "linecolor": "white",
            "ticks": ""
           }
          },
          "scene": {
           "xaxis": {
            "backgroundcolor": "#E5ECF6",
            "gridcolor": "white",
            "gridwidth": 2,
            "linecolor": "white",
            "showbackground": true,
            "ticks": "",
            "zerolinecolor": "white"
           },
           "yaxis": {
            "backgroundcolor": "#E5ECF6",
            "gridcolor": "white",
            "gridwidth": 2,
            "linecolor": "white",
            "showbackground": true,
            "ticks": "",
            "zerolinecolor": "white"
           },
           "zaxis": {
            "backgroundcolor": "#E5ECF6",
            "gridcolor": "white",
            "gridwidth": 2,
            "linecolor": "white",
            "showbackground": true,
            "ticks": "",
            "zerolinecolor": "white"
           }
          },
          "shapedefaults": {
           "line": {
            "color": "#2a3f5f"
           }
          },
          "ternary": {
           "aaxis": {
            "gridcolor": "white",
            "linecolor": "white",
            "ticks": ""
           },
           "baxis": {
            "gridcolor": "white",
            "linecolor": "white",
            "ticks": ""
           },
           "bgcolor": "#E5ECF6",
           "caxis": {
            "gridcolor": "white",
            "linecolor": "white",
            "ticks": ""
           }
          },
          "title": {
           "x": 0.05
          },
          "xaxis": {
           "automargin": true,
           "gridcolor": "white",
           "linecolor": "white",
           "ticks": "",
           "title": {
            "standoff": 15
           },
           "zerolinecolor": "white",
           "zerolinewidth": 2
          },
          "yaxis": {
           "automargin": true,
           "gridcolor": "white",
           "linecolor": "white",
           "ticks": "",
           "title": {
            "standoff": 15
           },
           "zerolinecolor": "white",
           "zerolinewidth": 2
          }
         }
        }
       },
       "_py2js_addTraces": {},
       "_py2js_animate": {},
       "_py2js_deleteTraces": {},
       "_py2js_moveTraces": {},
       "_py2js_removeTraceProps": {},
       "_py2js_restyle": {},
       "_view_count": 1
      }
     },
     "e8c889d005c845d881e8a4f181f9617d": {
      "model_module": "@jupyter-widgets/controls",
      "model_module_version": "1.5.0",
      "model_name": "SliderStyleModel",
      "state": {
       "description_width": ""
      }
     },
     "e9dbb5c166c54e4baf312f19a2c3255a": {
      "model_module": "@jupyter-widgets/base",
      "model_module_version": "1.2.0",
      "model_name": "LayoutModel",
      "state": {}
     },
     "ea528f3362924ceaa28005da9505b792": {
      "model_module": "@jupyter-widgets/controls",
      "model_module_version": "1.5.0",
      "model_name": "SliderStyleModel",
      "state": {
       "description_width": ""
      }
     },
     "ec8ba3d13f1a4179a0e59054a9be9af7": {
      "model_module": "@jupyter-widgets/base",
      "model_module_version": "1.2.0",
      "model_name": "LayoutModel",
      "state": {
       "width": "75%"
      }
     },
     "f62e007defce45e9883aef8ce6a08cc9": {
      "buffers": [
       {
        "data": "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",
        "encoding": "base64",
        "path": [
         "_data",
         0,
         "marker",
         "color",
         "value"
        ]
       },
       {
        "data": "AAAAAAAAAAAAAAAAAAAAAAAAAAAAAAAAAAAAAAAAAAAAAAAAAAAAAAAAAAAAAAAAAAAAAAAAAAAAAAAAAAAAAAAAAAAAAAAAAAAAAAAAAAAAAAAAAAAAgAAAAAAAAACAAAAAAAAAAIAAAAAAAAAAgAAAAAAAAACAAAAAAAAAAIAAAAAAAAAAgAAAAAAAAACAAAAAAAAAAIAAAAAAAAAAgKnPUEjgx9Q/JxTC5lF/1D8iRDlroafTP97nG/+wRtI/D9aFNiFm0D8jmjSsGybMP+vTSZNku8Y/Ngl8lfCxwD8ZE9w7z2e0PwUx0nz9dJs/+jDSfP10m78WE9w7z2e0vzMJfJXwscC/6NNJk2S7xr8gmjSsGybMvw7WhTYhZtC/3ecb/7BG0r8iRDlroafTvycUwuZRf9S/qc9QSODH1L8jRDlroafjPwP+7nIBY+M/3FJrvwCX4j+dMG7eL0nhPxgu3rRTBd8/eezZSamf2j/W2nwFFYDVP0Xgzlu7lM8/zY2v48RMwz+t/jfeI/ipP6L+N94j+Km/yo2v48RMw78/4M5bu5TPv9PafAUVgNW/d+zZSamf2r8XLt60UwXfv5wwbt4vSeG/3FJrvwCX4r8D/u5yAWPjvyNEOWuhp+O/5D2uWhHK6j+LJPxdiGzqPx25C5B6Vuk/UABOmH2P5z8/1eam+iPlPyXCVMrXJOI/CQsR3QNO3T+05+J6tYXVP3esfXU5Tso/tRgKka2ysT+tGAqRrbKxv3SsfXU5Tsq/sOfierWF1b8FCxHdA07dvyPCVMrXJOK/PtXmpvoj5b9PAE6YfY/nvx25C5B6Vum/iyT8XYhs6r/kPa5aEcrqvxgu3rRTBe8/2CZbgwSZ7j9GwClCC1ftPxS24kkwSOs/lSclpNJ66D/tfdKwgwLlP/LSh4F+9+A/VZoES/3r2D/we+0N7HXOP5NGdBFRfrQ/ikZ0EVF+tL/se+0N7HXOv1CaBEv969i/8NKHgX734L/sfdKwgwLlv5QnJaTSeui/E7biSTBI679GwClCC1ftv9gmW4MEme6/GC7etFMF77+qQqUpBeTvP2G4QW+sdO8/kJz3yKsp7j92pN+bCgzsP/q9yhyPKuk/GUEQJVeZ5T8NARi5S3HhP80lHyvmntk/D3znB5hQzz/KWC1/bxG1P8FYLX9vEbW/C3znB5hQz7/IJR8r5p7ZvwsBGLlLceG/F0EQJVeZ5b/5vcocjyrpv3Wk35sKDOy/kJz3yKsp7r9huEFvrHTvv6pCpSkF5O+/CQsR3QNO7T/+NcaHsufsP11ARgSJt+s/Z0NvStPF6T8IdurdJCDnP2+5nAD62OM/C8o8nTYH4D8RPufeDIvXP+fb2xaLxsw/jVg5ixdcsz+FWDmLF1yzv+Pb2xaLxsy/DT7n3gyL178KyjydNgfgv225nAD62OO/B3bq3SQg579mQ29K08Xpv11ARgSJt+u//jXGh7Ln7L8JCxHdA07tvxA+594Mi+c/BMHzYtk45z+A5APyfETmP/dKg+yhtOQ/bky4hDCU4j+rQqUpBeTfP+jXEtX3wNk/NaPouBPq0j/e/26nNh7HP2vPb51bG68/Xs9vnVsbr7/b/26nNh7HvzGj6LgT6tK/5dcS1ffA2b+oQqUpBeTfv21MuIQwlOK/9kqD7KG05L+A5APyfETmvwTB82LZOOe/ED7n3gyL57/we+0N7HXeP/qrYY+RC94/QpSyvmjP3D/mPa5aEcraP9m0Rf2nCdg/Rca1kGOh1D+1hK4iD6nQPxH913zHeMg/KcDbVxvpvT8naRYTlB+kPx9pFhOUH6S/JsDbVxvpvb8M/dd8x3jIv7OEriIPqdC/Q8a1kGOh1L/YtEX9pwnYv+U9rloRytq/QpSyvmjP3L/6q2GPkQvev/B77Q3sdd6/ylgtf28RxT+uz1BI4MfEP5DPVk407cM/obghjmKHwj81AOGvLaDAPwzn072/ibw/6jOn+NsLtz/VwL9oCe2wPxS9oWQKsKQ/QpLimC7Wiz82kuKYLtaLvxG9oWQKsKS/0sC/aAntsL/oM6f42wu3vwnn072/iby/NADhry2gwL+guCGOYofCv5DPVk407cO/rs9QSODHxL/KWC1/bxHFv8FYLX9vEcW/pc9QSODHxL+Hz1ZONO3Dv5m4IY5ih8K/LgDhry2gwL8A59O9v4m8v+Azp/jbC7e/zsC/aAntsL8LvaFkCrCkvzaS4pgu1ou/KpLimC7Wiz8IvaFkCrCkP8vAv2gJ7bA/3jOn+NsLtz/95tO9v4m8Py0A4a8toMA/mLghjmKHwj+Hz1ZONO3DP6XPUEjgx8Q/wVgtf28RxT/se+0N7HXev/arYY+RC96/P5SyvmjP3L/jPa5aEcrav9a0Rf2nCdi/Q8a1kGOh1L+zhK4iD6nQvw7913zHeMi/JcDbVxvpvb8laRYTlB+kvxxpFhOUH6Q/IsDbVxvpvT8J/dd8x3jIP7GEriIPqdA/Qca1kGOh1D/VtEX9pwnYP+I9rloRyto/P5SyvmjP3D/2q2GPkQveP+x77Q3sdd4/DD7n3gyL578AwfNi2Tjnv3zkA/J8ROa/9EqD7KG05L9rTLiEMJTiv6ZCpSkF5N+/5NcS1ffA2b8yo+i4E+rSv9r/bqc2Hse/Zs9vnVsbr79Yz2+dWxuvP9f/bqc2Hsc/LqPouBPq0j/h1xLV98DZP6NCpSkF5N8/aky4hDCU4j/zSoPsobTkP3zkA/J8ROY/AMHzYtk45z8MPufeDIvnPwcLEd0DTu2//TXGh7Ln7L9bQEYEibfrv2VDb0rTxem/Bnbq3SQg579uuZwA+tjjvwrKPJ02B+C/Dz7n3gyL17/l29sWi8bMv4xYOYsXXLO/hFg5ixdcsz/h29sWi8bMPws+594Mi9c/Cco8nTYH4D9suZwA+tjjPwV26t0kIOc/ZENvStPF6T9bQEYEibfrP/01xoey5+w/BwsR3QNO7T+qQqUpBeTvv2G4QW+sdO+/kJz3yKsp7r92pN+bCgzsv/q9yhyPKum/GUEQJVeZ5b8NARi5S3Hhv80lHyvmntm/D3znB5hQz7/KWC1/bxG1v8FYLX9vEbU/C3znB5hQzz/IJR8r5p7ZPwsBGLlLceE/F0EQJVeZ5T/5vcocjyrpP3Wk35sKDOw/kJz3yKsp7j9huEFvrHTvP6pCpSkF5O8/GS7etFMF77/ZJluDBJnuv0fAKUILV+2/FLbiSTBI67+WJyWk0nrov+590rCDAuW/89KHgX734L9WmgRL/evYv/F77Q3sdc6/k0Z0EVF+tL+LRnQRUX60P+177Q3sdc4/UZoES/3r2D/x0oeBfvfgP+x90rCDAuU/lSclpNJ66D8TtuJJMEjrP0fAKUILV+0/2SZbgwSZ7j8ZLt60UwXvP+Y9rloRyuq/jST8XYhs6r8fuQuQelbpv1IATph9j+e/QdXmpvoj5b8mwlTK1yTivwsLEd0DTt2/tufierWF1b95rH11OU7Kv7YYCpGtsrG/rhgKka2ysT92rH11OU7KP7Hn4nq1hdU/CAsR3QNO3T8kwlTK1yTiP0DV5qb6I+U/UQBOmH2P5z8fuQuQelbpP40k/F2IbOo/5j2uWhHK6j8lRDlroafjvwX+7nIBY+O/3lJrvwCX4r+fMG7eL0nhvxsu3rRTBd+/fOzZSamf2r/Y2nwFFYDVv0jgzlu7lM+/z42v48RMw7+w/jfeI/ipv6X+N94j+Kk/zI2v48RMwz9C4M5bu5TPP9XafAUVgNU/eezZSamf2j8aLt60UwXfP54wbt4vSeE/3lJrvwCX4j8F/u5yAWPjPyVEOWuhp+M/rs9QSODH1L8sFMLmUX/UvydEOWuhp9O/4ucb/7BG0r8T1oU2IWbQvymaNKwbJsy/8NNJk2S7xr86CXyV8LHAvx0T3DvPZ7S/DDHSfP10m78AMdJ8/XSbPxsT3DvPZ7Q/Nwl8lfCxwD/u00mTZLvGPyeaNKwbJsw/EtaFNiFm0D/h5xv/sEbSPydEOWuhp9M/LBTC5lF/1D+uz1BI4MfUPwdcFDMmprG8zbaNDYdosbyuIwbrV7GwvE9Zn/EvC6+8ekD/vejaq7yhPclPHuinvCswUQRjTqO859j28a1bnLyBYEdsj1SRvFOaqmCxUXe8SZqqYLFRdzx/YEdsj1SRPOHY9vGtW5w8KTBRBGNOozyfPclPHuinPHhA/73o2qs8Tlmf8S8LrzyuIwbrV7GwPM22jQ2HaLE8B1wUMyamsTw=",
        "encoding": "base64",
        "path": [
         "_data",
         0,
         "x",
         "value"
        ]
       },
       {
        "data": "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",
        "encoding": "base64",
        "path": [
         "_data",
         0,
         "y",
         "value"
        ]
       },
       {
        "data": "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",
        "encoding": "base64",
        "path": [
         "_data",
         0,
         "z",
         "value"
        ]
       },
       {
        "data": "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",
        "encoding": "base64",
        "path": [
         "_data",
         5,
         "x",
         "value"
        ]
       },
       {
        "data": "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",
        "encoding": "base64",
        "path": [
         "_data",
         5,
         "y",
         "value"
        ]
       },
       {
        "data": "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",
        "encoding": "base64",
        "path": [
         "_data",
         5,
         "z",
         "value"
        ]
       }
      ],
      "model_module": "plotlywidget",
      "model_module_version": "^4.13.0",
      "model_name": "FigureModel",
      "state": {
       "_config": {
        "plotlyServerURL": "https://plot.ly"
       },
       "_data": [
        {
         "marker": {
          "color": {
           "dtype": "float64",
           "shape": [
            400
           ],
           "value": {}
          },
          "colorscale": [
           [
            0,
            "#440154"
           ],
           [
            0.1111111111111111,
            "#482878"
           ],
           [
            0.2222222222222222,
            "#3e4989"
           ],
           [
            0.3333333333333333,
            "#31688e"
           ],
           [
            0.4444444444444444,
            "#26828e"
           ],
           [
            0.5555555555555556,
            "#1f9e89"
           ],
           [
            0.6666666666666666,
            "#35b779"
           ],
           [
            0.7777777777777778,
            "#6ece58"
           ],
           [
            0.8888888888888888,
            "#b5de2b"
           ],
           [
            1,
            "#fde725"
           ]
          ],
          "opacity": 0.5,
          "size": 3
         },
         "mode": "markers",
         "type": "scatter3d",
         "uid": "ba9e9843-3781-411d-b229-5a40db75d059",
         "x": {
          "dtype": "float64",
          "shape": [
           400
          ],
          "value": {}
         },
         "y": {
          "dtype": "float64",
          "shape": [
           400
          ],
          "value": {}
         },
         "z": {
          "dtype": "float64",
          "shape": [
           400
          ],
          "value": {}
         }
        },
        {
         "line": {
          "color": "rgba(255,0,0,0.5)",
          "width": 5
         },
         "mode": "lines",
         "type": "scatter3d",
         "uid": "60b77bc7-4c01-4102-8264-7e5bcbdaa344",
         "x": [
          0,
          1
         ],
         "y": [
          0,
          0
         ],
         "z": [
          0,
          0
         ]
        },
        {
         "line": {
          "color": "rgba(0,255,0,0.5)",
          "width": 5
         },
         "mode": "lines",
         "type": "scatter3d",
         "uid": "47f6dceb-f5d8-4b9a-bce4-956eeed88941",
         "x": [
          0,
          0
         ],
         "y": [
          0,
          1
         ],
         "z": [
          0,
          0
         ]
        },
        {
         "line": {
          "color": "rgba(0,0,255,0.5)",
          "width": 5
         },
         "mode": "lines",
         "type": "scatter3d",
         "uid": "26307cb4-7bfb-4556-ad1c-d0de6762caa7",
         "x": [
          0,
          0
         ],
         "y": [
          0,
          0
         ],
         "z": [
          0,
          1
         ]
        },
        {
         "line": {
          "color": "rgba(255,0,255,0.8)",
          "width": 5
         },
         "mode": "lines",
         "type": "scatter3d",
         "uid": "eb56c4df-b6c1-4d4c-afa7-dbe9acd8acef",
         "x": [],
         "y": [],
         "z": []
        },
        {
         "alphahull": 0,
         "flatshading": true,
         "opacity": 0.4,
         "type": "mesh3d",
         "uid": "15458d86-3e66-4712-894b-d7a24d9f7af5",
         "vertexcolor": [
          "rgba(253,231,36,1)",
          "rgba(253,231,36,1)",
          "rgba(253,231,36,1)",
          "rgba(253,231,36,1)",
          "rgba(253,231,36,1)",
          "rgba(253,231,36,1)",
          "rgba(253,231,36,1)",
          "rgba(253,231,36,1)",
          "rgba(253,231,36,1)",
          "rgba(253,231,36,1)",
          "rgba(253,231,36,1)",
          "rgba(253,231,36,1)",
          "rgba(253,231,36,1)",
          "rgba(253,231,36,1)",
          "rgba(253,231,36,1)",
          "rgba(253,231,36,1)",
          "rgba(253,231,36,1)",
          "rgba(253,231,36,1)",
          "rgba(253,231,36,1)",
          "rgba(253,231,36,1)",
          "rgba(235,228,37,1)",
          "rgba(235,228,37,1)",
          "rgba(235,228,37,1)",
          "rgba(235,228,37,1)",
          "rgba(235,228,37,1)",
          "rgba(235,228,37,1)",
          "rgba(235,228,37,1)",
          "rgba(235,228,37,1)",
          "rgba(235,228,37,1)",
          "rgba(235,228,37,1)",
          "rgba(235,228,37,1)",
          "rgba(235,228,37,1)",
          "rgba(235,228,37,1)",
          "rgba(235,228,37,1)",
          "rgba(235,228,37,1)",
          "rgba(235,228,37,1)",
          "rgba(235,228,37,1)",
          "rgba(235,228,37,1)",
          "rgba(235,228,37,1)",
          "rgba(235,228,37,1)",
          "rgba(185,222,40,1)",
          "rgba(185,222,40,1)",
          "rgba(185,222,40,1)",
          "rgba(185,222,40,1)",
          "rgba(185,222,40,1)",
          "rgba(185,222,40,1)",
          "rgba(185,222,40,1)",
          "rgba(185,222,40,1)",
          "rgba(185,222,40,1)",
          "rgba(185,222,40,1)",
          "rgba(185,222,40,1)",
          "rgba(185,222,40,1)",
          "rgba(185,222,40,1)",
          "rgba(185,222,40,1)",
          "rgba(185,222,40,1)",
          "rgba(185,222,40,1)",
          "rgba(185,222,40,1)",
          "rgba(185,222,40,1)",
          "rgba(185,222,40,1)",
          "rgba(185,222,40,1)",
          "rgba(107,204,89,1)",
          "rgba(107,204,89,1)",
          "rgba(107,204,89,1)",
          "rgba(107,204,89,1)",
          "rgba(107,204,89,1)",
          "rgba(107,204,89,1)",
          "rgba(107,204,89,1)",
          "rgba(107,204,89,1)",
          "rgba(107,204,89,1)",
          "rgba(107,204,89,1)",
          "rgba(107,204,89,1)",
          "rgba(107,204,89,1)",
          "rgba(107,204,89,1)",
          "rgba(107,204,89,1)",
          "rgba(107,204,89,1)",
          "rgba(107,204,89,1)",
          "rgba(107,204,89,1)",
          "rgba(107,204,89,1)",
          "rgba(107,204,89,1)",
          "rgba(107,204,89,1)",
          "rgba(42,173,127,1)",
          "rgba(42,173,127,1)",
          "rgba(42,173,127,1)",
          "rgba(42,173,127,1)",
          "rgba(42,173,127,1)",
          "rgba(42,173,127,1)",
          "rgba(42,173,127,1)",
          "rgba(42,173,127,1)",
          "rgba(42,173,127,1)",
          "rgba(42,173,127,1)",
          "rgba(42,173,127,1)",
          "rgba(42,173,127,1)",
          "rgba(42,173,127,1)",
          "rgba(42,173,127,1)",
          "rgba(42,173,127,1)",
          "rgba(42,173,127,1)",
          "rgba(42,173,127,1)",
          "rgba(42,173,127,1)",
          "rgba(42,173,127,1)",
          "rgba(42,173,127,1)",
          "rgba(36,134,141,1)",
          "rgba(36,134,141,1)",
          "rgba(36,134,141,1)",
          "rgba(36,134,141,1)",
          "rgba(36,134,141,1)",
          "rgba(36,134,141,1)",
          "rgba(36,134,141,1)",
          "rgba(36,134,141,1)",
          "rgba(36,134,141,1)",
          "rgba(36,134,141,1)",
          "rgba(36,134,141,1)",
          "rgba(36,134,141,1)",
          "rgba(36,134,141,1)",
          "rgba(36,134,141,1)",
          "rgba(36,134,141,1)",
          "rgba(36,134,141,1)",
          "rgba(36,134,141,1)",
          "rgba(36,134,141,1)",
          "rgba(36,134,141,1)",
          "rgba(36,134,141,1)",
          "rgba(52,94,140,1)",
          "rgba(52,94,140,1)",
          "rgba(52,94,140,1)",
          "rgba(52,94,140,1)",
          "rgba(52,94,140,1)",
          "rgba(52,94,140,1)",
          "rgba(52,94,140,1)",
          "rgba(52,94,140,1)",
          "rgba(52,94,140,1)",
          "rgba(52,94,140,1)",
          "rgba(52,94,140,1)",
          "rgba(52,94,140,1)",
          "rgba(52,94,140,1)",
          "rgba(52,94,140,1)",
          "rgba(52,94,140,1)",
          "rgba(52,94,140,1)",
          "rgba(52,94,140,1)",
          "rgba(52,94,140,1)",
          "rgba(52,94,140,1)",
          "rgba(52,94,140,1)",
          "rgba(67,55,128,1)",
          "rgba(67,55,128,1)",
          "rgba(67,55,128,1)",
          "rgba(67,55,128,1)",
          "rgba(67,55,128,1)",
          "rgba(67,55,128,1)",
          "rgba(67,55,128,1)",
          "rgba(67,55,128,1)",
          "rgba(67,55,128,1)",
          "rgba(67,55,128,1)",
          "rgba(67,55,128,1)",
          "rgba(67,55,128,1)",
          "rgba(67,55,128,1)",
          "rgba(67,55,128,1)",
          "rgba(67,55,128,1)",
          "rgba(67,55,128,1)",
          "rgba(67,55,128,1)",
          "rgba(67,55,128,1)",
          "rgba(67,55,128,1)",
          "rgba(67,55,128,1)",
          "rgba(70,22,103,1)",
          "rgba(70,22,103,1)",
          "rgba(70,22,103,1)",
          "rgba(70,22,103,1)",
          "rgba(70,22,103,1)",
          "rgba(70,22,103,1)",
          "rgba(70,22,103,1)",
          "rgba(70,22,103,1)",
          "rgba(70,22,103,1)",
          "rgba(70,22,103,1)",
          "rgba(70,22,103,1)",
          "rgba(70,22,103,1)",
          "rgba(70,22,103,1)",
          "rgba(70,22,103,1)",
          "rgba(70,22,103,1)",
          "rgba(70,22,103,1)",
          "rgba(70,22,103,1)",
          "rgba(70,22,103,1)",
          "rgba(70,22,103,1)",
          "rgba(70,22,103,1)",
          "rgba(68,3,86,1)",
          "rgba(68,3,86,1)",
          "rgba(68,3,86,1)",
          "rgba(68,3,86,1)",
          "rgba(68,3,86,1)",
          "rgba(68,3,86,1)",
          "rgba(68,3,86,1)",
          "rgba(68,3,86,1)",
          "rgba(68,3,86,1)",
          "rgba(68,3,86,1)",
          "rgba(68,3,86,1)",
          "rgba(68,3,86,1)",
          "rgba(68,3,86,1)",
          "rgba(68,3,86,1)",
          "rgba(68,3,86,1)",
          "rgba(68,3,86,1)",
          "rgba(68,3,86,1)",
          "rgba(68,3,86,1)",
          "rgba(68,3,86,1)",
          "rgba(68,3,86,1)",
          "rgba(68,3,86,1)",
          "rgba(68,3,86,1)",
          "rgba(68,3,86,1)",
          "rgba(68,3,86,1)",
          "rgba(68,3,86,1)",
          "rgba(68,3,86,1)",
          "rgba(68,3,86,1)",
          "rgba(68,3,86,1)",
          "rgba(68,3,86,1)",
          "rgba(68,3,86,1)",
          "rgba(68,3,86,1)",
          "rgba(68,3,86,1)",
          "rgba(68,3,86,1)",
          "rgba(68,3,86,1)",
          "rgba(68,3,86,1)",
          "rgba(68,3,86,1)",
          "rgba(68,3,86,1)",
          "rgba(68,3,86,1)",
          "rgba(68,3,86,1)",
          "rgba(68,3,86,1)",
          "rgba(70,22,103,1)",
          "rgba(70,22,103,1)",
          "rgba(70,22,103,1)",
          "rgba(70,22,103,1)",
          "rgba(70,22,103,1)",
          "rgba(70,22,103,1)",
          "rgba(70,22,103,1)",
          "rgba(70,22,103,1)",
          "rgba(70,22,103,1)",
          "rgba(70,22,103,1)",
          "rgba(70,22,103,1)",
          "rgba(70,22,103,1)",
          "rgba(70,22,103,1)",
          "rgba(70,22,103,1)",
          "rgba(70,22,103,1)",
          "rgba(70,22,103,1)",
          "rgba(70,22,103,1)",
          "rgba(70,22,103,1)",
          "rgba(70,22,103,1)",
          "rgba(70,22,103,1)",
          "rgba(67,55,128,1)",
          "rgba(67,55,128,1)",
          "rgba(67,55,128,1)",
          "rgba(67,55,128,1)",
          "rgba(67,55,128,1)",
          "rgba(67,55,128,1)",
          "rgba(67,55,128,1)",
          "rgba(67,55,128,1)",
          "rgba(67,55,128,1)",
          "rgba(67,55,128,1)",
          "rgba(67,55,128,1)",
          "rgba(67,55,128,1)",
          "rgba(67,55,128,1)",
          "rgba(67,55,128,1)",
          "rgba(67,55,128,1)",
          "rgba(67,55,128,1)",
          "rgba(67,55,128,1)",
          "rgba(67,55,128,1)",
          "rgba(67,55,128,1)",
          "rgba(67,55,128,1)",
          "rgba(52,94,140,1)",
          "rgba(52,94,140,1)",
          "rgba(52,94,140,1)",
          "rgba(52,94,140,1)",
          "rgba(52,94,140,1)",
          "rgba(52,94,140,1)",
          "rgba(52,94,140,1)",
          "rgba(52,94,140,1)",
          "rgba(52,94,140,1)",
          "rgba(52,94,140,1)",
          "rgba(52,94,140,1)",
          "rgba(52,94,140,1)",
          "rgba(52,94,140,1)",
          "rgba(52,94,140,1)",
          "rgba(52,94,140,1)",
          "rgba(52,94,140,1)",
          "rgba(52,94,140,1)",
          "rgba(52,94,140,1)",
          "rgba(52,94,140,1)",
          "rgba(52,94,140,1)",
          "rgba(36,134,141,1)",
          "rgba(36,134,141,1)",
          "rgba(36,134,141,1)",
          "rgba(36,134,141,1)",
          "rgba(36,134,141,1)",
          "rgba(36,134,141,1)",
          "rgba(36,134,141,1)",
          "rgba(36,134,141,1)",
          "rgba(36,134,141,1)",
          "rgba(36,134,141,1)",
          "rgba(36,134,141,1)",
          "rgba(36,134,141,1)",
          "rgba(36,134,141,1)",
          "rgba(36,134,141,1)",
          "rgba(36,134,141,1)",
          "rgba(36,134,141,1)",
          "rgba(36,134,141,1)",
          "rgba(36,134,141,1)",
          "rgba(36,134,141,1)",
          "rgba(36,134,141,1)",
          "rgba(42,173,127,1)",
          "rgba(42,173,127,1)",
          "rgba(42,173,127,1)",
          "rgba(42,173,127,1)",
          "rgba(42,173,127,1)",
          "rgba(42,173,127,1)",
          "rgba(42,173,127,1)",
          "rgba(42,173,127,1)",
          "rgba(42,173,127,1)",
          "rgba(42,173,127,1)",
          "rgba(42,173,127,1)",
          "rgba(42,173,127,1)",
          "rgba(42,173,127,1)",
          "rgba(42,173,127,1)",
          "rgba(42,173,127,1)",
          "rgba(42,173,127,1)",
          "rgba(42,173,127,1)",
          "rgba(42,173,127,1)",
          "rgba(42,173,127,1)",
          "rgba(42,173,127,1)",
          "rgba(107,204,89,1)",
          "rgba(107,204,89,1)",
          "rgba(107,204,89,1)",
          "rgba(107,204,89,1)",
          "rgba(107,204,89,1)",
          "rgba(107,204,89,1)",
          "rgba(107,204,89,1)",
          "rgba(107,204,89,1)",
          "rgba(107,204,89,1)",
          "rgba(107,204,89,1)",
          "rgba(107,204,89,1)",
          "rgba(107,204,89,1)",
          "rgba(107,204,89,1)",
          "rgba(107,204,89,1)",
          "rgba(107,204,89,1)",
          "rgba(107,204,89,1)",
          "rgba(107,204,89,1)",
          "rgba(107,204,89,1)",
          "rgba(107,204,89,1)",
          "rgba(107,204,89,1)",
          "rgba(185,222,40,1)",
          "rgba(185,222,40,1)",
          "rgba(185,222,40,1)",
          "rgba(185,222,40,1)",
          "rgba(185,222,40,1)",
          "rgba(185,222,40,1)",
          "rgba(185,222,40,1)",
          "rgba(185,222,40,1)",
          "rgba(185,222,40,1)",
          "rgba(185,222,40,1)",
          "rgba(185,222,40,1)",
          "rgba(185,222,40,1)",
          "rgba(185,222,40,1)",
          "rgba(185,222,40,1)",
          "rgba(185,222,40,1)",
          "rgba(185,222,40,1)",
          "rgba(185,222,40,1)",
          "rgba(185,222,40,1)",
          "rgba(185,222,40,1)",
          "rgba(185,222,40,1)",
          "rgba(235,228,37,1)",
          "rgba(235,228,37,1)",
          "rgba(235,228,37,1)",
          "rgba(235,228,37,1)",
          "rgba(235,228,37,1)",
          "rgba(235,228,37,1)",
          "rgba(235,228,37,1)",
          "rgba(235,228,37,1)",
          "rgba(235,228,37,1)",
          "rgba(235,228,37,1)",
          "rgba(235,228,37,1)",
          "rgba(235,228,37,1)",
          "rgba(235,228,37,1)",
          "rgba(235,228,37,1)",
          "rgba(235,228,37,1)",
          "rgba(235,228,37,1)",
          "rgba(235,228,37,1)",
          "rgba(235,228,37,1)",
          "rgba(235,228,37,1)",
          "rgba(235,228,37,1)",
          "rgba(253,231,36,1)",
          "rgba(253,231,36,1)",
          "rgba(253,231,36,1)",
          "rgba(253,231,36,1)",
          "rgba(253,231,36,1)",
          "rgba(253,231,36,1)",
          "rgba(253,231,36,1)",
          "rgba(253,231,36,1)",
          "rgba(253,231,36,1)",
          "rgba(253,231,36,1)",
          "rgba(253,231,36,1)",
          "rgba(253,231,36,1)",
          "rgba(253,231,36,1)",
          "rgba(253,231,36,1)",
          "rgba(253,231,36,1)",
          "rgba(253,231,36,1)",
          "rgba(253,231,36,1)",
          "rgba(253,231,36,1)",
          "rgba(253,231,36,1)",
          "rgba(253,231,36,1)"
         ],
         "x": {
          "dtype": "float64",
          "shape": [
           400
          ],
          "value": {}
         },
         "y": {
          "dtype": "float64",
          "shape": [
           400
          ],
          "value": {}
         },
         "z": {
          "dtype": "float64",
          "shape": [
           400
          ],
          "value": {}
         }
        }
       ],
       "_js2py_pointsCallback": {},
       "_js2py_relayout": {},
       "_js2py_restyle": {},
       "_js2py_update": {},
       "_last_layout_edit_id": 1,
       "_last_trace_edit_id": 1,
       "_layout": {
        "margin": {
         "b": 0,
         "l": 0,
         "r": 0,
         "t": 0
        },
        "scene": {
         "xaxis": {
          "color": "white",
          "title": {
           "text": "s1"
          }
         },
         "yaxis": {
          "color": "white",
          "title": {
           "text": "s2"
          }
         },
         "zaxis": {
          "color": "white",
          "title": {
           "text": "s3"
          }
         }
        },
        "showlegend": false,
        "template": {
         "data": {
          "bar": [
           {
            "error_x": {
             "color": "#2a3f5f"
            },
            "error_y": {
             "color": "#2a3f5f"
            },
            "marker": {
             "line": {
              "color": "#E5ECF6",
              "width": 0.5
             }
            },
            "type": "bar"
           }
          ],
          "barpolar": [
           {
            "marker": {
             "line": {
              "color": "#E5ECF6",
              "width": 0.5
             }
            },
            "type": "barpolar"
           }
          ],
          "carpet": [
           {
            "aaxis": {
             "endlinecolor": "#2a3f5f",
             "gridcolor": "white",
             "linecolor": "white",
             "minorgridcolor": "white",
             "startlinecolor": "#2a3f5f"
            },
            "baxis": {
             "endlinecolor": "#2a3f5f",
             "gridcolor": "white",
             "linecolor": "white",
             "minorgridcolor": "white",
             "startlinecolor": "#2a3f5f"
            },
            "type": "carpet"
           }
          ],
          "choropleth": [
           {
            "colorbar": {
             "outlinewidth": 0,
             "ticks": ""
            },
            "type": "choropleth"
           }
          ],
          "contour": [
           {
            "colorbar": {
             "outlinewidth": 0,
             "ticks": ""
            },
            "colorscale": [
             [
              0,
              "#0d0887"
             ],
             [
              0.1111111111111111,
              "#46039f"
             ],
             [
              0.2222222222222222,
              "#7201a8"
             ],
             [
              0.3333333333333333,
              "#9c179e"
             ],
             [
              0.4444444444444444,
              "#bd3786"
             ],
             [
              0.5555555555555556,
              "#d8576b"
             ],
             [
              0.6666666666666666,
              "#ed7953"
             ],
             [
              0.7777777777777778,
              "#fb9f3a"
             ],
             [
              0.8888888888888888,
              "#fdca26"
             ],
             [
              1,
              "#f0f921"
             ]
            ],
            "type": "contour"
           }
          ],
          "contourcarpet": [
           {
            "colorbar": {
             "outlinewidth": 0,
             "ticks": ""
            },
            "type": "contourcarpet"
           }
          ],
          "heatmap": [
           {
            "colorbar": {
             "outlinewidth": 0,
             "ticks": ""
            },
            "colorscale": [
             [
              0,
              "#0d0887"
             ],
             [
              0.1111111111111111,
              "#46039f"
             ],
             [
              0.2222222222222222,
              "#7201a8"
             ],
             [
              0.3333333333333333,
              "#9c179e"
             ],
             [
              0.4444444444444444,
              "#bd3786"
             ],
             [
              0.5555555555555556,
              "#d8576b"
             ],
             [
              0.6666666666666666,
              "#ed7953"
             ],
             [
              0.7777777777777778,
              "#fb9f3a"
             ],
             [
              0.8888888888888888,
              "#fdca26"
             ],
             [
              1,
              "#f0f921"
             ]
            ],
            "type": "heatmap"
           }
          ],
          "heatmapgl": [
           {
            "colorbar": {
             "outlinewidth": 0,
             "ticks": ""
            },
            "colorscale": [
             [
              0,
              "#0d0887"
             ],
             [
              0.1111111111111111,
              "#46039f"
             ],
             [
              0.2222222222222222,
              "#7201a8"
             ],
             [
              0.3333333333333333,
              "#9c179e"
             ],
             [
              0.4444444444444444,
              "#bd3786"
             ],
             [
              0.5555555555555556,
              "#d8576b"
             ],
             [
              0.6666666666666666,
              "#ed7953"
             ],
             [
              0.7777777777777778,
              "#fb9f3a"
             ],
             [
              0.8888888888888888,
              "#fdca26"
             ],
             [
              1,
              "#f0f921"
             ]
            ],
            "type": "heatmapgl"
           }
          ],
          "histogram": [
           {
            "marker": {
             "colorbar": {
              "outlinewidth": 0,
              "ticks": ""
             }
            },
            "type": "histogram"
           }
          ],
          "histogram2d": [
           {
            "colorbar": {
             "outlinewidth": 0,
             "ticks": ""
            },
            "colorscale": [
             [
              0,
              "#0d0887"
             ],
             [
              0.1111111111111111,
              "#46039f"
             ],
             [
              0.2222222222222222,
              "#7201a8"
             ],
             [
              0.3333333333333333,
              "#9c179e"
             ],
             [
              0.4444444444444444,
              "#bd3786"
             ],
             [
              0.5555555555555556,
              "#d8576b"
             ],
             [
              0.6666666666666666,
              "#ed7953"
             ],
             [
              0.7777777777777778,
              "#fb9f3a"
             ],
             [
              0.8888888888888888,
              "#fdca26"
             ],
             [
              1,
              "#f0f921"
             ]
            ],
            "type": "histogram2d"
           }
          ],
          "histogram2dcontour": [
           {
            "colorbar": {
             "outlinewidth": 0,
             "ticks": ""
            },
            "colorscale": [
             [
              0,
              "#0d0887"
             ],
             [
              0.1111111111111111,
              "#46039f"
             ],
             [
              0.2222222222222222,
              "#7201a8"
             ],
             [
              0.3333333333333333,
              "#9c179e"
             ],
             [
              0.4444444444444444,
              "#bd3786"
             ],
             [
              0.5555555555555556,
              "#d8576b"
             ],
             [
              0.6666666666666666,
              "#ed7953"
             ],
             [
              0.7777777777777778,
              "#fb9f3a"
             ],
             [
              0.8888888888888888,
              "#fdca26"
             ],
             [
              1,
              "#f0f921"
             ]
            ],
            "type": "histogram2dcontour"
           }
          ],
          "mesh3d": [
           {
            "colorbar": {
             "outlinewidth": 0,
             "ticks": ""
            },
            "type": "mesh3d"
           }
          ],
          "parcoords": [
           {
            "line": {
             "colorbar": {
              "outlinewidth": 0,
              "ticks": ""
             }
            },
            "type": "parcoords"
           }
          ],
          "pie": [
           {
            "automargin": true,
            "type": "pie"
           }
          ],
          "scatter": [
           {
            "marker": {
             "colorbar": {
              "outlinewidth": 0,
              "ticks": ""
             }
            },
            "type": "scatter"
           }
          ],
          "scatter3d": [
           {
            "line": {
             "colorbar": {
              "outlinewidth": 0,
              "ticks": ""
             }
            },
            "marker": {
             "colorbar": {
              "outlinewidth": 0,
              "ticks": ""
             }
            },
            "type": "scatter3d"
           }
          ],
          "scattercarpet": [
           {
            "marker": {
             "colorbar": {
              "outlinewidth": 0,
              "ticks": ""
             }
            },
            "type": "scattercarpet"
           }
          ],
          "scattergeo": [
           {
            "marker": {
             "colorbar": {
              "outlinewidth": 0,
              "ticks": ""
             }
            },
            "type": "scattergeo"
           }
          ],
          "scattergl": [
           {
            "marker": {
             "colorbar": {
              "outlinewidth": 0,
              "ticks": ""
             }
            },
            "type": "scattergl"
           }
          ],
          "scattermapbox": [
           {
            "marker": {
             "colorbar": {
              "outlinewidth": 0,
              "ticks": ""
             }
            },
            "type": "scattermapbox"
           }
          ],
          "scatterpolar": [
           {
            "marker": {
             "colorbar": {
              "outlinewidth": 0,
              "ticks": ""
             }
            },
            "type": "scatterpolar"
           }
          ],
          "scatterpolargl": [
           {
            "marker": {
             "colorbar": {
              "outlinewidth": 0,
              "ticks": ""
             }
            },
            "type": "scatterpolargl"
           }
          ],
          "scatterternary": [
           {
            "marker": {
             "colorbar": {
              "outlinewidth": 0,
              "ticks": ""
             }
            },
            "type": "scatterternary"
           }
          ],
          "surface": [
           {
            "colorbar": {
             "outlinewidth": 0,
             "ticks": ""
            },
            "colorscale": [
             [
              0,
              "#0d0887"
             ],
             [
              0.1111111111111111,
              "#46039f"
             ],
             [
              0.2222222222222222,
              "#7201a8"
             ],
             [
              0.3333333333333333,
              "#9c179e"
             ],
             [
              0.4444444444444444,
              "#bd3786"
             ],
             [
              0.5555555555555556,
              "#d8576b"
             ],
             [
              0.6666666666666666,
              "#ed7953"
             ],
             [
              0.7777777777777778,
              "#fb9f3a"
             ],
             [
              0.8888888888888888,
              "#fdca26"
             ],
             [
              1,
              "#f0f921"
             ]
            ],
            "type": "surface"
           }
          ],
          "table": [
           {
            "cells": {
             "fill": {
              "color": "#EBF0F8"
             },
             "line": {
              "color": "white"
             }
            },
            "header": {
             "fill": {
              "color": "#C8D4E3"
             },
             "line": {
              "color": "white"
             }
            },
            "type": "table"
           }
          ]
         },
         "layout": {
          "annotationdefaults": {
           "arrowcolor": "#2a3f5f",
           "arrowhead": 0,
           "arrowwidth": 1
          },
          "coloraxis": {
           "colorbar": {
            "outlinewidth": 0,
            "ticks": ""
           }
          },
          "colorscale": {
           "diverging": [
            [
             0,
             "#8e0152"
            ],
            [
             0.1,
             "#c51b7d"
            ],
            [
             0.2,
             "#de77ae"
            ],
            [
             0.3,
             "#f1b6da"
            ],
            [
             0.4,
             "#fde0ef"
            ],
            [
             0.5,
             "#f7f7f7"
            ],
            [
             0.6,
             "#e6f5d0"
            ],
            [
             0.7,
             "#b8e186"
            ],
            [
             0.8,
             "#7fbc41"
            ],
            [
             0.9,
             "#4d9221"
            ],
            [
             1,
             "#276419"
            ]
           ],
           "sequential": [
            [
             0,
             "#0d0887"
            ],
            [
             0.1111111111111111,
             "#46039f"
            ],
            [
             0.2222222222222222,
             "#7201a8"
            ],
            [
             0.3333333333333333,
             "#9c179e"
            ],
            [
             0.4444444444444444,
             "#bd3786"
            ],
            [
             0.5555555555555556,
             "#d8576b"
            ],
            [
             0.6666666666666666,
             "#ed7953"
            ],
            [
             0.7777777777777778,
             "#fb9f3a"
            ],
            [
             0.8888888888888888,
             "#fdca26"
            ],
            [
             1,
             "#f0f921"
            ]
           ],
           "sequentialminus": [
            [
             0,
             "#0d0887"
            ],
            [
             0.1111111111111111,
             "#46039f"
            ],
            [
             0.2222222222222222,
             "#7201a8"
            ],
            [
             0.3333333333333333,
             "#9c179e"
            ],
            [
             0.4444444444444444,
             "#bd3786"
            ],
            [
             0.5555555555555556,
             "#d8576b"
            ],
            [
             0.6666666666666666,
             "#ed7953"
            ],
            [
             0.7777777777777778,
             "#fb9f3a"
            ],
            [
             0.8888888888888888,
             "#fdca26"
            ],
            [
             1,
             "#f0f921"
            ]
           ]
          },
          "colorway": [
           "#636efa",
           "#EF553B",
           "#00cc96",
           "#ab63fa",
           "#FFA15A",
           "#19d3f3",
           "#FF6692",
           "#B6E880",
           "#FF97FF",
           "#FECB52"
          ],
          "font": {
           "color": "#2a3f5f"
          },
          "geo": {
           "bgcolor": "white",
           "lakecolor": "white",
           "landcolor": "#E5ECF6",
           "showlakes": true,
           "showland": true,
           "subunitcolor": "white"
          },
          "hoverlabel": {
           "align": "left"
          },
          "hovermode": "closest",
          "mapbox": {
           "style": "light"
          },
          "paper_bgcolor": "white",
          "plot_bgcolor": "#E5ECF6",
          "polar": {
           "angularaxis": {
            "gridcolor": "white",
            "linecolor": "white",
            "ticks": ""
           },
           "bgcolor": "#E5ECF6",
           "radialaxis": {
            "gridcolor": "white",
            "linecolor": "white",
            "ticks": ""
           }
          },
          "scene": {
           "xaxis": {
            "backgroundcolor": "#E5ECF6",
            "gridcolor": "white",
            "gridwidth": 2,
            "linecolor": "white",
            "showbackground": true,
            "ticks": "",
            "zerolinecolor": "white"
           },
           "yaxis": {
            "backgroundcolor": "#E5ECF6",
            "gridcolor": "white",
            "gridwidth": 2,
            "linecolor": "white",
            "showbackground": true,
            "ticks": "",
            "zerolinecolor": "white"
           },
           "zaxis": {
            "backgroundcolor": "#E5ECF6",
            "gridcolor": "white",
            "gridwidth": 2,
            "linecolor": "white",
            "showbackground": true,
            "ticks": "",
            "zerolinecolor": "white"
           }
          },
          "shapedefaults": {
           "line": {
            "color": "#2a3f5f"
           }
          },
          "ternary": {
           "aaxis": {
            "gridcolor": "white",
            "linecolor": "white",
            "ticks": ""
           },
           "baxis": {
            "gridcolor": "white",
            "linecolor": "white",
            "ticks": ""
           },
           "bgcolor": "#E5ECF6",
           "caxis": {
            "gridcolor": "white",
            "linecolor": "white",
            "ticks": ""
           }
          },
          "title": {
           "x": 0.05
          },
          "xaxis": {
           "automargin": true,
           "gridcolor": "white",
           "linecolor": "white",
           "ticks": "",
           "title": {
            "standoff": 15
           },
           "zerolinecolor": "white",
           "zerolinewidth": 2
          },
          "yaxis": {
           "automargin": true,
           "gridcolor": "white",
           "linecolor": "white",
           "ticks": "",
           "title": {
            "standoff": 15
           },
           "zerolinecolor": "white",
           "zerolinewidth": 2
          }
         }
        }
       },
       "_py2js_addTraces": {},
       "_py2js_animate": {},
       "_py2js_deleteTraces": {},
       "_py2js_moveTraces": {},
       "_py2js_removeTraceProps": {},
       "_py2js_restyle": {},
       "_view_count": 1
      }
     },
     "fd367a4f8b3c4f40af2480008af00360": {
      "buffers": [
       {
        "data": "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",
        "encoding": "base64",
        "path": [
         "_data",
         0,
         "marker",
         "color",
         "value"
        ]
       },
       {
        "data": "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",
        "encoding": "base64",
        "path": [
         "_data",
         0,
         "x",
         "value"
        ]
       },
       {
        "data": "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",
        "encoding": "base64",
        "path": [
         "_data",
         0,
         "y",
         "value"
        ]
       },
       {
        "data": "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",
        "encoding": "base64",
        "path": [
         "_data",
         0,
         "z",
         "value"
        ]
       }
      ],
      "model_module": "plotlywidget",
      "model_module_version": "^4.13.0",
      "model_name": "FigureModel",
      "state": {
       "_config": {
        "plotlyServerURL": "https://plot.ly"
       },
       "_data": [
        {
         "marker": {
          "color": {
           "dtype": "float64",
           "shape": [
            400
           ],
           "value": {}
          },
          "colorscale": [
           [
            0,
            "#440154"
           ],
           [
            0.1111111111111111,
            "#482878"
           ],
           [
            0.2222222222222222,
            "#3e4989"
           ],
           [
            0.3333333333333333,
            "#31688e"
           ],
           [
            0.4444444444444444,
            "#26828e"
           ],
           [
            0.5555555555555556,
            "#1f9e89"
           ],
           [
            0.6666666666666666,
            "#35b779"
           ],
           [
            0.7777777777777778,
            "#6ece58"
           ],
           [
            0.8888888888888888,
            "#b5de2b"
           ],
           [
            1,
            "#fde725"
           ]
          ],
          "opacity": 0.5,
          "size": 3
         },
         "mode": "markers",
         "type": "scatter3d",
         "uid": "b8cd1fbc-778d-437a-aa9d-30186671e815",
         "x": {
          "dtype": "float64",
          "shape": [
           400
          ],
          "value": {}
         },
         "y": {
          "dtype": "float64",
          "shape": [
           400
          ],
          "value": {}
         },
         "z": {
          "dtype": "float64",
          "shape": [
           400
          ],
          "value": {}
         }
        },
        {
         "line": {
          "color": "rgba(255,0,0,0.5)",
          "width": 5
         },
         "mode": "lines",
         "type": "scatter3d",
         "uid": "3c86af8c-47ff-408e-9ac6-799cb0ffccba",
         "x": [
          0,
          1
         ],
         "y": [
          0,
          0
         ],
         "z": [
          0,
          0
         ]
        },
        {
         "line": {
          "color": "rgba(0,255,0,0.5)",
          "width": 5
         },
         "mode": "lines",
         "type": "scatter3d",
         "uid": "d86d520e-2b73-4291-a6b4-03a40c7e9b86",
         "x": [
          0,
          0
         ],
         "y": [
          0,
          1
         ],
         "z": [
          0,
          0
         ]
        },
        {
         "line": {
          "color": "rgba(0,0,255,0.5)",
          "width": 5
         },
         "mode": "lines",
         "type": "scatter3d",
         "uid": "745c56c7-4a40-43d7-b00e-5a7bc302f8fb",
         "x": [
          0,
          0
         ],
         "y": [
          0,
          0
         ],
         "z": [
          0,
          1
         ]
        },
        {
         "line": {
          "color": "rgba(255,0,255,0.8)",
          "width": 5
         },
         "mode": "lines",
         "type": "scatter3d",
         "uid": "6d1a51d2-a5fe-4151-bcb0-8e0c41a59e76",
         "x": [],
         "y": [],
         "z": []
        },
        {
         "line": {
          "color": "rgba(255,255,0,0.8)",
          "width": 5
         },
         "mode": "lines",
         "type": "scatter3d",
         "uid": "8cfe6f5d-1ee7-4ea7-9530-69778178ac41",
         "x": [],
         "y": [],
         "z": []
        }
       ],
       "_js2py_layoutDelta": {},
       "_js2py_pointsCallback": {},
       "_js2py_relayout": {},
       "_js2py_restyle": {},
       "_js2py_traceDeltas": {},
       "_js2py_update": {},
       "_layout": {
        "margin": {
         "b": 0,
         "l": 0,
         "r": 0,
         "t": 0
        },
        "paper_bgcolor": "rgba(0,0,0,0)",
        "plot_bgcolor": "rgba(0,0,0,0)",
        "scene": {
         "xaxis": {
          "backgroundcolor": "rgba(0,0,0,0)",
          "color": "white",
          "gridcolor": "rgba(0,0,0,0.1)",
          "title": {
           "text": "s1"
          }
         },
         "yaxis": {
          "backgroundcolor": "rgba(0,0,0,0)",
          "color": "white",
          "gridcolor": "rgba(0,0,0,0.1)",
          "title": {
           "text": "s2"
          }
         },
         "zaxis": {
          "backgroundcolor": "rgba(0,0,0,0)",
          "color": "white",
          "gridcolor": "rgba(0,0,0,0.1)",
          "title": {
           "text": "s3"
          }
         }
        },
        "showlegend": false,
        "template": {
         "data": {
          "bar": [
           {
            "error_x": {
             "color": "#2a3f5f"
            },
            "error_y": {
             "color": "#2a3f5f"
            },
            "marker": {
             "line": {
              "color": "#E5ECF6",
              "width": 0.5
             }
            },
            "type": "bar"
           }
          ],
          "barpolar": [
           {
            "marker": {
             "line": {
              "color": "#E5ECF6",
              "width": 0.5
             }
            },
            "type": "barpolar"
           }
          ],
          "carpet": [
           {
            "aaxis": {
             "endlinecolor": "#2a3f5f",
             "gridcolor": "white",
             "linecolor": "white",
             "minorgridcolor": "white",
             "startlinecolor": "#2a3f5f"
            },
            "baxis": {
             "endlinecolor": "#2a3f5f",
             "gridcolor": "white",
             "linecolor": "white",
             "minorgridcolor": "white",
             "startlinecolor": "#2a3f5f"
            },
            "type": "carpet"
           }
          ],
          "choropleth": [
           {
            "colorbar": {
             "outlinewidth": 0,
             "ticks": ""
            },
            "type": "choropleth"
           }
          ],
          "contour": [
           {
            "colorbar": {
             "outlinewidth": 0,
             "ticks": ""
            },
            "colorscale": [
             [
              0,
              "#0d0887"
             ],
             [
              0.1111111111111111,
              "#46039f"
             ],
             [
              0.2222222222222222,
              "#7201a8"
             ],
             [
              0.3333333333333333,
              "#9c179e"
             ],
             [
              0.4444444444444444,
              "#bd3786"
             ],
             [
              0.5555555555555556,
              "#d8576b"
             ],
             [
              0.6666666666666666,
              "#ed7953"
             ],
             [
              0.7777777777777778,
              "#fb9f3a"
             ],
             [
              0.8888888888888888,
              "#fdca26"
             ],
             [
              1,
              "#f0f921"
             ]
            ],
            "type": "contour"
           }
          ],
          "contourcarpet": [
           {
            "colorbar": {
             "outlinewidth": 0,
             "ticks": ""
            },
            "type": "contourcarpet"
           }
          ],
          "heatmap": [
           {
            "colorbar": {
             "outlinewidth": 0,
             "ticks": ""
            },
            "colorscale": [
             [
              0,
              "#0d0887"
             ],
             [
              0.1111111111111111,
              "#46039f"
             ],
             [
              0.2222222222222222,
              "#7201a8"
             ],
             [
              0.3333333333333333,
              "#9c179e"
             ],
             [
              0.4444444444444444,
              "#bd3786"
             ],
             [
              0.5555555555555556,
              "#d8576b"
             ],
             [
              0.6666666666666666,
              "#ed7953"
             ],
             [
              0.7777777777777778,
              "#fb9f3a"
             ],
             [
              0.8888888888888888,
              "#fdca26"
             ],
             [
              1,
              "#f0f921"
             ]
            ],
            "type": "heatmap"
           }
          ],
          "heatmapgl": [
           {
            "colorbar": {
             "outlinewidth": 0,
             "ticks": ""
            },
            "colorscale": [
             [
              0,
              "#0d0887"
             ],
             [
              0.1111111111111111,
              "#46039f"
             ],
             [
              0.2222222222222222,
              "#7201a8"
             ],
             [
              0.3333333333333333,
              "#9c179e"
             ],
             [
              0.4444444444444444,
              "#bd3786"
             ],
             [
              0.5555555555555556,
              "#d8576b"
             ],
             [
              0.6666666666666666,
              "#ed7953"
             ],
             [
              0.7777777777777778,
              "#fb9f3a"
             ],
             [
              0.8888888888888888,
              "#fdca26"
             ],
             [
              1,
              "#f0f921"
             ]
            ],
            "type": "heatmapgl"
           }
          ],
          "histogram": [
           {
            "marker": {
             "colorbar": {
              "outlinewidth": 0,
              "ticks": ""
             }
            },
            "type": "histogram"
           }
          ],
          "histogram2d": [
           {
            "colorbar": {
             "outlinewidth": 0,
             "ticks": ""
            },
            "colorscale": [
             [
              0,
              "#0d0887"
             ],
             [
              0.1111111111111111,
              "#46039f"
             ],
             [
              0.2222222222222222,
              "#7201a8"
             ],
             [
              0.3333333333333333,
              "#9c179e"
             ],
             [
              0.4444444444444444,
              "#bd3786"
             ],
             [
              0.5555555555555556,
              "#d8576b"
             ],
             [
              0.6666666666666666,
              "#ed7953"
             ],
             [
              0.7777777777777778,
              "#fb9f3a"
             ],
             [
              0.8888888888888888,
              "#fdca26"
             ],
             [
              1,
              "#f0f921"
             ]
            ],
            "type": "histogram2d"
           }
          ],
          "histogram2dcontour": [
           {
            "colorbar": {
             "outlinewidth": 0,
             "ticks": ""
            },
            "colorscale": [
             [
              0,
              "#0d0887"
             ],
             [
              0.1111111111111111,
              "#46039f"
             ],
             [
              0.2222222222222222,
              "#7201a8"
             ],
             [
              0.3333333333333333,
              "#9c179e"
             ],
             [
              0.4444444444444444,
              "#bd3786"
             ],
             [
              0.5555555555555556,
              "#d8576b"
             ],
             [
              0.6666666666666666,
              "#ed7953"
             ],
             [
              0.7777777777777778,
              "#fb9f3a"
             ],
             [
              0.8888888888888888,
              "#fdca26"
             ],
             [
              1,
              "#f0f921"
             ]
            ],
            "type": "histogram2dcontour"
           }
          ],
          "mesh3d": [
           {
            "colorbar": {
             "outlinewidth": 0,
             "ticks": ""
            },
            "type": "mesh3d"
           }
          ],
          "parcoords": [
           {
            "line": {
             "colorbar": {
              "outlinewidth": 0,
              "ticks": ""
             }
            },
            "type": "parcoords"
           }
          ],
          "pie": [
           {
            "automargin": true,
            "type": "pie"
           }
          ],
          "scatter": [
           {
            "marker": {
             "colorbar": {
              "outlinewidth": 0,
              "ticks": ""
             }
            },
            "type": "scatter"
           }
          ],
          "scatter3d": [
           {
            "line": {
             "colorbar": {
              "outlinewidth": 0,
              "ticks": ""
             }
            },
            "marker": {
             "colorbar": {
              "outlinewidth": 0,
              "ticks": ""
             }
            },
            "type": "scatter3d"
           }
          ],
          "scattercarpet": [
           {
            "marker": {
             "colorbar": {
              "outlinewidth": 0,
              "ticks": ""
             }
            },
            "type": "scattercarpet"
           }
          ],
          "scattergeo": [
           {
            "marker": {
             "colorbar": {
              "outlinewidth": 0,
              "ticks": ""
             }
            },
            "type": "scattergeo"
           }
          ],
          "scattergl": [
           {
            "marker": {
             "colorbar": {
              "outlinewidth": 0,
              "ticks": ""
             }
            },
            "type": "scattergl"
           }
          ],
          "scattermapbox": [
           {
            "marker": {
             "colorbar": {
              "outlinewidth": 0,
              "ticks": ""
             }
            },
            "type": "scattermapbox"
           }
          ],
          "scatterpolar": [
           {
            "marker": {
             "colorbar": {
              "outlinewidth": 0,
              "ticks": ""
             }
            },
            "type": "scatterpolar"
           }
          ],
          "scatterpolargl": [
           {
            "marker": {
             "colorbar": {
              "outlinewidth": 0,
              "ticks": ""
             }
            },
            "type": "scatterpolargl"
           }
          ],
          "scatterternary": [
           {
            "marker": {
             "colorbar": {
              "outlinewidth": 0,
              "ticks": ""
             }
            },
            "type": "scatterternary"
           }
          ],
          "surface": [
           {
            "colorbar": {
             "outlinewidth": 0,
             "ticks": ""
            },
            "colorscale": [
             [
              0,
              "#0d0887"
             ],
             [
              0.1111111111111111,
              "#46039f"
             ],
             [
              0.2222222222222222,
              "#7201a8"
             ],
             [
              0.3333333333333333,
              "#9c179e"
             ],
             [
              0.4444444444444444,
              "#bd3786"
             ],
             [
              0.5555555555555556,
              "#d8576b"
             ],
             [
              0.6666666666666666,
              "#ed7953"
             ],
             [
              0.7777777777777778,
              "#fb9f3a"
             ],
             [
              0.8888888888888888,
              "#fdca26"
             ],
             [
              1,
              "#f0f921"
             ]
            ],
            "type": "surface"
           }
          ],
          "table": [
           {
            "cells": {
             "fill": {
              "color": "#EBF0F8"
             },
             "line": {
              "color": "white"
             }
            },
            "header": {
             "fill": {
              "color": "#C8D4E3"
             },
             "line": {
              "color": "white"
             }
            },
            "type": "table"
           }
          ]
         },
         "layout": {
          "annotationdefaults": {
           "arrowcolor": "#2a3f5f",
           "arrowhead": 0,
           "arrowwidth": 1
          },
          "coloraxis": {
           "colorbar": {
            "outlinewidth": 0,
            "ticks": ""
           }
          },
          "colorscale": {
           "diverging": [
            [
             0,
             "#8e0152"
            ],
            [
             0.1,
             "#c51b7d"
            ],
            [
             0.2,
             "#de77ae"
            ],
            [
             0.3,
             "#f1b6da"
            ],
            [
             0.4,
             "#fde0ef"
            ],
            [
             0.5,
             "#f7f7f7"
            ],
            [
             0.6,
             "#e6f5d0"
            ],
            [
             0.7,
             "#b8e186"
            ],
            [
             0.8,
             "#7fbc41"
            ],
            [
             0.9,
             "#4d9221"
            ],
            [
             1,
             "#276419"
            ]
           ],
           "sequential": [
            [
             0,
             "#0d0887"
            ],
            [
             0.1111111111111111,
             "#46039f"
            ],
            [
             0.2222222222222222,
             "#7201a8"
            ],
            [
             0.3333333333333333,
             "#9c179e"
            ],
            [
             0.4444444444444444,
             "#bd3786"
            ],
            [
             0.5555555555555556,
             "#d8576b"
            ],
            [
             0.6666666666666666,
             "#ed7953"
            ],
            [
             0.7777777777777778,
             "#fb9f3a"
            ],
            [
             0.8888888888888888,
             "#fdca26"
            ],
            [
             1,
             "#f0f921"
            ]
           ],
           "sequentialminus": [
            [
             0,
             "#0d0887"
            ],
            [
             0.1111111111111111,
             "#46039f"
            ],
            [
             0.2222222222222222,
             "#7201a8"
            ],
            [
             0.3333333333333333,
             "#9c179e"
            ],
            [
             0.4444444444444444,
             "#bd3786"
            ],
            [
             0.5555555555555556,
             "#d8576b"
            ],
            [
             0.6666666666666666,
             "#ed7953"
            ],
            [
             0.7777777777777778,
             "#fb9f3a"
            ],
            [
             0.8888888888888888,
             "#fdca26"
            ],
            [
             1,
             "#f0f921"
            ]
           ]
          },
          "colorway": [
           "#636efa",
           "#EF553B",
           "#00cc96",
           "#ab63fa",
           "#FFA15A",
           "#19d3f3",
           "#FF6692",
           "#B6E880",
           "#FF97FF",
           "#FECB52"
          ],
          "font": {
           "color": "#2a3f5f"
          },
          "geo": {
           "bgcolor": "white",
           "lakecolor": "white",
           "landcolor": "#E5ECF6",
           "showlakes": true,
           "showland": true,
           "subunitcolor": "white"
          },
          "hoverlabel": {
           "align": "left"
          },
          "hovermode": "closest",
          "mapbox": {
           "style": "light"
          },
          "paper_bgcolor": "white",
          "plot_bgcolor": "#E5ECF6",
          "polar": {
           "angularaxis": {
            "gridcolor": "white",
            "linecolor": "white",
            "ticks": ""
           },
           "bgcolor": "#E5ECF6",
           "radialaxis": {
            "gridcolor": "white",
            "linecolor": "white",
            "ticks": ""
           }
          },
          "scene": {
           "xaxis": {
            "backgroundcolor": "#E5ECF6",
            "gridcolor": "white",
            "gridwidth": 2,
            "linecolor": "white",
            "showbackground": true,
            "ticks": "",
            "zerolinecolor": "white"
           },
           "yaxis": {
            "backgroundcolor": "#E5ECF6",
            "gridcolor": "white",
            "gridwidth": 2,
            "linecolor": "white",
            "showbackground": true,
            "ticks": "",
            "zerolinecolor": "white"
           },
           "zaxis": {
            "backgroundcolor": "#E5ECF6",
            "gridcolor": "white",
            "gridwidth": 2,
            "linecolor": "white",
            "showbackground": true,
            "ticks": "",
            "zerolinecolor": "white"
           }
          },
          "shapedefaults": {
           "line": {
            "color": "#2a3f5f"
           }
          },
          "ternary": {
           "aaxis": {
            "gridcolor": "white",
            "linecolor": "white",
            "ticks": ""
           },
           "baxis": {
            "gridcolor": "white",
            "linecolor": "white",
            "ticks": ""
           },
           "bgcolor": "#E5ECF6",
           "caxis": {
            "gridcolor": "white",
            "linecolor": "white",
            "ticks": ""
           }
          },
          "title": {
           "x": 0.05
          },
          "xaxis": {
           "automargin": true,
           "gridcolor": "white",
           "linecolor": "white",
           "ticks": "",
           "title": {
            "standoff": 15
           },
           "zerolinecolor": "white",
           "zerolinewidth": 2
          },
          "yaxis": {
           "automargin": true,
           "gridcolor": "white",
           "linecolor": "white",
           "ticks": "",
           "title": {
            "standoff": 15
           },
           "zerolinecolor": "white",
           "zerolinewidth": 2
          }
         }
        }
       },
       "_py2js_addTraces": {},
       "_py2js_animate": {},
       "_py2js_deleteTraces": {},
       "_py2js_moveTraces": {},
       "_py2js_removeLayoutProps": {},
       "_py2js_removeTraceProps": {},
       "_py2js_restyle": {},
       "_py2js_update": {},
       "_view_count": 0
      }
     },
     "ff25a0c980d84cbab62bf7723c6380b4": {
      "model_module": "@jupyter-widgets/base",
      "model_module_version": "1.2.0",
      "model_name": "LayoutModel",
      "state": {
       "width": "75%"
      }
     },
     "ff94f00a308546d194c342cf3455290f": {
      "model_module": "@jupyter-widgets/base",
      "model_module_version": "1.2.0",
      "model_name": "LayoutModel",
      "state": {
       "width": "75%"
      }
     }
    },
    "version_major": 2,
    "version_minor": 0
   }
  }
 },
 "nbformat": 4,
 "nbformat_minor": 2
}
